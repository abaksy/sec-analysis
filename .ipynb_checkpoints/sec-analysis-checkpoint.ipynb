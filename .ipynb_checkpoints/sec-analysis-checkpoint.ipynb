{
 "cells": [
  {
   "cell_type": "markdown",
   "id": "60e3d84c",
   "metadata": {},
   "source": [
    "# Import Modules"
   ]
  },
  {
   "cell_type": "code",
   "execution_count": 1,
   "id": "7bb615a7",
   "metadata": {},
   "outputs": [],
   "source": [
    "import pandas as pd\n",
    "import numpy as np\n",
    "import matplotlib.pyplot as plt\n",
    "\n",
    "from nltk.stem import WordNetLemmatizer\n",
    "from nltk.stem import PorterStemmer\n",
    "from nltk.tokenize import word_tokenize, sent_tokenize\n",
    "from nltk import pos_tag\n",
    "from nltk.corpus import stopwords\n",
    "\n",
    "from gensim import models\n",
    "from gensim.corpora import Dictionary\n",
    "\n",
    "import re\n",
    "import string\n",
    "import sys\n",
    "import os\n",
    "import pickle\n",
    "\n",
    "import warnings\n",
    "warnings.filterwarnings(\"ignore\")"
   ]
  },
  {
   "cell_type": "code",
   "execution_count": 2,
   "id": "bcb2cf9b",
   "metadata": {},
   "outputs": [],
   "source": [
    "def load_fileslist(dirname):\n",
    "    '''\n",
    "    Input: A directory containing SEC articles\n",
    "    Output: A list of filepaths for the original data and the cleaned data\n",
    "    \n",
    "    Saves the two files lists into pickle files to be loaded later\n",
    "    If pickle files already exist then just open instead of creating new pickle files\n",
    "    '''\n",
    "    if \"fileslist.pkl\" not in os.listdir(\".\"):\n",
    "        files_list = list()\n",
    "        clean_files_list = list()\n",
    "        for data_dir in os.listdir(f\"./{dirname}\"):\n",
    "            if data_dir.startswith(\"Year_\"):\n",
    "                for fname in os.listdir(f\"{dirname}/{data_dir}\"):\n",
    "                    files_list.append(f\"{dirname}/{data_dir}/{fname}\")\n",
    "                    clean_files_list.append(f\"Clean_{dirname}/{data_dir}/{fname}\")\n",
    "        filename = f\"fileslist_{dirname}.pkl\"\n",
    "        with open(filename, \"wb\") as f:\n",
    "            pickle.dump(files_list, f)\n",
    "        clean_filename = f\"cleanfileslist_{dirname}.pkl\"\n",
    "        with open(clean_filename, \"wb\") as f:\n",
    "            pickle.dump(clean_files_list, f)\n",
    "    else:\n",
    "        with open(f\"fileslist_{dirname}.pkl\", \"rb\") as f:\n",
    "            files_list = pickle.load(f)\n",
    "        with open(f\"cleanfileslist_{dirname}.pkl\", \"rb\") as f:\n",
    "            clean_files_list = pickle.load(f)\n",
    "    return files_list, clean_files_list"
   ]
  },
  {
   "cell_type": "markdown",
   "id": "859f6985",
   "metadata": {},
   "source": [
    "# Cleaning"
   ]
  },
  {
   "cell_type": "code",
   "execution_count": 3,
   "id": "873d468b",
   "metadata": {},
   "outputs": [],
   "source": [
    "stop = stopwords.words('english')\n",
    "punkt = list(string.punctuation)\n",
    "\n",
    "lem = WordNetLemmatizer()\n",
    "\n",
    "def stopword_remover(x): return ' '.join(\n",
    "    [word for word in x.split() if word not in (stop)])\n",
    "\n",
    "\n",
    "def cleanText(text: str):\n",
    "    '''\n",
    "    Input: Uncleaned text as string\n",
    "    Output: Cleaned text as string\n",
    "    '''\n",
    "    \n",
    "    #Remove URL\n",
    "    url_remove = re.sub(\n",
    "        r\"(https?:\\/\\/(?:www\\.|(?!www))[a-zA-Z0-9][a-zA-Z0-9-]+[a-zA-Z0-9]\\.[^\\s]{2,}|www\\.[a-zA-Z0-9][a-zA-Z0-9-]+[a-zA-Z0-9]\\.[^\\s]{2,}|https?:\\/\\/(?:www\\.|(?!www))[a-zA-Z0-9]+\\.[^\\s]{2,}|www\\.[a-zA-Z0-9]+\\.[^\\s]{2,})\", '', text)\n",
    "    lem = WordNetLemmatizer()\n",
    "    sentences = sent_tokenize(text)\n",
    "    document = list()\n",
    "    doc_word_list = list()\n",
    "    for sent in sentences:\n",
    "        lemmas = list()\n",
    "        #Text -> List of words\n",
    "        words = word_tokenize(sent)\n",
    "        pos_tags = pos_tag(words)\n",
    "        word_new = list()\n",
    "        for tag in pos_tags:\n",
    "            if tag[1] not in [\"NNP\", \"NNPS\"]:\n",
    "                #List of words -> List of words without proper nouns\n",
    "                word_new.append(tag[0])\n",
    "        for w in word_new:\n",
    "            #List of words -> List of lemmas\n",
    "            lem_word = lem.lemmatize(w)\n",
    "            lemmas.append(lem_word)\n",
    "        # List of lemmas -> Sentence\n",
    "        sentence = ' '.join(lemmas)\n",
    "        # Sentence -> List of sentences\n",
    "        document.append(sentence)\n",
    "    # List of sentences -> Text string\n",
    "    clean_text = ' '.join(document)\n",
    "    # To lower case\n",
    "    clean_text = clean_text.lower()\n",
    "    clean_text = re.sub(r'[^\\w\\s]', '', clean_text)\n",
    "    clean_text = stopword_remover(clean_text)\n",
    "    return clean_text"
   ]
  },
  {
   "cell_type": "code",
   "execution_count": 4,
   "id": "de86465f",
   "metadata": {},
   "outputs": [],
   "source": [
    "df = pd.DataFrame(columns=[\"Title\", \"Article_ID\", \"Date_Place\", \"Text\", \"Clean_Text\"])"
   ]
  },
  {
   "cell_type": "code",
   "execution_count": 5,
   "id": "0406bbf2",
   "metadata": {},
   "outputs": [
    {
     "name": "stdout",
     "output_type": "stream",
     "text": [
      "Generated 2648 cleaned#plt.show() files\n"
     ]
    }
   ],
   "source": [
    "files_list, clean_files_list = load_fileslist(\"Data\")\n",
    "lem = WordNetLemmatizer()\n",
    "\n",
    "if not os.path.exists(\"Clean_Data\"):\n",
    "    os.mkdir(\"Clean_Data\")\n",
    "    for dirname in os.listdir(\"Data\"):\n",
    "        os.mkdir(f\"Clean_Data/{dirname}\")\n",
    "\n",
    "counter = 0\n",
    "    \n",
    "for fname, clean_fname in zip(files_list, clean_files_list):\n",
    "    #print(f\"Cleaning {fname}\")\n",
    "    with open(fname, \"r\") as f:\n",
    "        content = f.read()\n",
    "    if content != '':\n",
    "        content = content.split(\"\\n\")\n",
    "        title, art_id, place_date = content[:3]\n",
    "        text = content[3:]\n",
    "        text = '\\n'.join(text)\n",
    "        clean_text = cleanText(text)        \n",
    "        sents = sent_tokenize(clean_text)\n",
    "        document = list()\n",
    "        for sent in sents:\n",
    "            lem_words = list()\n",
    "            words = word_tokenize(sent)\n",
    "            for w in words:\n",
    "                lem_word = lem.lemmatize(w)\n",
    "                lem_words.append(lem_word)\n",
    "            document += lem_words\n",
    "            #print(\"Clean text of length:\", len(clean_text))\n",
    "        row = {\"Title\":title, \"Article_ID\":art_id, \"Date_Place\": place_date, \n",
    "               \"Text\":clean_text, \"Clean_Text\":str(document)}\n",
    "        df = df.append(row, ignore_index = True)\n",
    "        f1 = open(clean_fname, \"w\")\n",
    "        f1.write(f\"{title}\\n{art_id}\\n{place_date}\\n{clean_text}\\n\")\n",
    "        f1.close()\n",
    "        counter += 1\n",
    "    else:\n",
    "        pass\n",
    "print(f\"Generated {counter} cleaned files\")"
   ]
  },
  {
   "cell_type": "code",
   "execution_count": 6,
   "id": "f7d0a256",
   "metadata": {},
   "outputs": [],
   "source": [
    "labels = []\n",
    "fraud_words = set([\"fraud\", \"misleading\", \"misled\", \"litigation\"])\n",
    "\n",
    "for title in df[\"Title\"]:\n",
    "    if \"fraud\" in title.lower():\n",
    "        labels.append(1)\n",
    "    else:\n",
    "        labels.append(0)\n",
    "\n",
    "df.insert(5, \"Fraud\", labels, True)"
   ]
  },
  {
   "cell_type": "code",
   "execution_count": 7,
   "id": "48b28dd3",
   "metadata": {},
   "outputs": [
    {
     "data": {
      "text/html": [
       "<div>\n",
       "<style scoped>\n",
       "    .dataframe tbody tr th:only-of-type {\n",
       "        vertical-align: middle;\n",
       "    }\n",
       "\n",
       "    .dataframe tbody tr th {\n",
       "        vertical-align: top;\n",
       "    }\n",
       "\n",
       "    .dataframe thead th {\n",
       "        text-align: right;\n",
       "    }\n",
       "</style>\n",
       "<table border=\"1\" class=\"dataframe\">\n",
       "  <thead>\n",
       "    <tr style=\"text-align: right;\">\n",
       "      <th></th>\n",
       "      <th>Title</th>\n",
       "      <th>Article_ID</th>\n",
       "      <th>Date_Place</th>\n",
       "      <th>Text</th>\n",
       "      <th>Clean_Text</th>\n",
       "      <th>Fraud</th>\n",
       "    </tr>\n",
       "  </thead>\n",
       "  <tbody>\n",
       "    <tr>\n",
       "      <th>0</th>\n",
       "      <td>SEC.gov | At Joint Open Meeting, SEC and CFTC ...</td>\n",
       "      <td>2020-264</td>\n",
       "      <td>Washington D.C.,           Oct. 22, 2020 —</td>\n",
       "      <td>first joint open meeting vote rulemaking initi...</td>\n",
       "      <td>['first', 'joint', 'open', 'meeting', 'vote', ...</td>\n",
       "      <td>0</td>\n",
       "    </tr>\n",
       "    <tr>\n",
       "      <th>1</th>\n",
       "      <td>SEC.gov | SEC Charges Swedish National with Gl...</td>\n",
       "      <td>2020-232</td>\n",
       "      <td>Washington D.C.,           Sept. 29, 2020 —</td>\n",
       "      <td>today charged swedish national living conducti...</td>\n",
       "      <td>['today', 'charged', 'swedish', 'national', 'l...</td>\n",
       "      <td>1</td>\n",
       "    </tr>\n",
       "    <tr>\n",
       "      <th>2</th>\n",
       "      <td>SEC.gov | SEC Obtains Emergency Asset Freeze, ...</td>\n",
       "      <td>2020-10</td>\n",
       "      <td>Washington D.C.,           Jan. 14, 2020 —</td>\n",
       "      <td>today announced filed emergency enforcement ac...</td>\n",
       "      <td>['today', 'announced', 'filed', 'emergency', '...</td>\n",
       "      <td>0</td>\n",
       "    </tr>\n",
       "    <tr>\n",
       "      <th>3</th>\n",
       "      <td>SEC.gov | Chairman Jay Clayton Announces Addit...</td>\n",
       "      <td>2020-108</td>\n",
       "      <td>Washington D.C.,           May 11, 2020 —</td>\n",
       "      <td>today released updated roster executive staff ...</td>\n",
       "      <td>['today', 'released', 'updated', 'roster', 'ex...</td>\n",
       "      <td>0</td>\n",
       "    </tr>\n",
       "    <tr>\n",
       "      <th>4</th>\n",
       "      <td>SEC.gov | SEC Charges Issuer and CEO With Misr...</td>\n",
       "      <td>2020-181</td>\n",
       "      <td>Washington D.C.,           Aug. 13, 2020 —</td>\n",
       "      <td>today announced charge virginiabased chief exe...</td>\n",
       "      <td>['today', 'announced', 'charge', 'virginiabase...</td>\n",
       "      <td>1</td>\n",
       "    </tr>\n",
       "  </tbody>\n",
       "</table>\n",
       "</div>"
      ],
      "text/plain": [
       "                                               Title Article_ID  \\\n",
       "0  SEC.gov | At Joint Open Meeting, SEC and CFTC ...   2020-264   \n",
       "1  SEC.gov | SEC Charges Swedish National with Gl...   2020-232   \n",
       "2  SEC.gov | SEC Obtains Emergency Asset Freeze, ...    2020-10   \n",
       "3  SEC.gov | Chairman Jay Clayton Announces Addit...   2020-108   \n",
       "4  SEC.gov | SEC Charges Issuer and CEO With Misr...   2020-181   \n",
       "\n",
       "                                    Date_Place  \\\n",
       "0   Washington D.C.,           Oct. 22, 2020 —   \n",
       "1  Washington D.C.,           Sept. 29, 2020 —   \n",
       "2   Washington D.C.,           Jan. 14, 2020 —   \n",
       "3    Washington D.C.,           May 11, 2020 —   \n",
       "4   Washington D.C.,           Aug. 13, 2020 —   \n",
       "\n",
       "                                                Text  \\\n",
       "0  first joint open meeting vote rulemaking initi...   \n",
       "1  today charged swedish national living conducti...   \n",
       "2  today announced filed emergency enforcement ac...   \n",
       "3  today released updated roster executive staff ...   \n",
       "4  today announced charge virginiabased chief exe...   \n",
       "\n",
       "                                          Clean_Text  Fraud  \n",
       "0  ['first', 'joint', 'open', 'meeting', 'vote', ...      0  \n",
       "1  ['today', 'charged', 'swedish', 'national', 'l...      1  \n",
       "2  ['today', 'announced', 'filed', 'emergency', '...      0  \n",
       "3  ['today', 'released', 'updated', 'roster', 'ex...      0  \n",
       "4  ['today', 'announced', 'charge', 'virginiabase...      1  "
      ]
     },
     "execution_count": 7,
     "metadata": {},
     "output_type": "execute_result"
    }
   ],
   "source": [
    "df.head()"
   ]
  },
  {
   "cell_type": "code",
   "execution_count": 8,
   "id": "57d632c2",
   "metadata": {},
   "outputs": [],
   "source": [
    "clean_texts = list()\n",
    "\n",
    "for text_clean in df[\"Clean_Text\"]:\n",
    "    text_clean = eval(text_clean)\n",
    "    clean_texts.append(text_clean)"
   ]
  },
  {
   "cell_type": "code",
   "execution_count": 9,
   "id": "742fb9e1",
   "metadata": {},
   "outputs": [],
   "source": [
    "dictionary = Dictionary()\n",
    "BoW_corpus = [dictionary.doc2bow(doc, allow_update=True) for doc in clean_texts]\n",
    "tfidf = models.TfidfModel(BoW_corpus, smartirs='ntc')\n",
    "tfidf_corpus = tfidf[BoW_corpus]"
   ]
  },
  {
   "cell_type": "code",
   "execution_count": 10,
   "id": "e6e0d806",
   "metadata": {},
   "outputs": [],
   "source": [
    "lda_model_tfidf = models.LdaMulticore(tfidf_corpus, num_topics=5, id2word=dictionary, passes=2, workers=4)\n",
    "lda_model_tfidf.save(\"lda.model\")"
   ]
  },
  {
   "cell_type": "code",
   "execution_count": 11,
   "id": "96fb36ee",
   "metadata": {},
   "outputs": [
    {
     "name": "stdout",
     "output_type": "stream",
     "text": [
      "Perplexity Score: -10.02314998224106\n"
     ]
    }
   ],
   "source": [
    "print(\"Perplexity Score:\", lda_model_tfidf.log_perplexity(tfidf_corpus))"
   ]
  },
  {
   "cell_type": "code",
   "execution_count": 12,
   "id": "10bd08ab",
   "metadata": {},
   "outputs": [
    {
     "data": {
      "text/html": [
       "\n",
       "<link rel=\"stylesheet\" type=\"text/css\" href=\"https://cdn.jsdelivr.net/gh/bmabey/pyLDAvis@3.3.1/pyLDAvis/js/ldavis.v1.0.0.css\">\n",
       "\n",
       "\n",
       "<div id=\"ldavis_el468061398493054408807201128730\"></div>\n",
       "<script type=\"text/javascript\">\n",
       "\n",
       "var ldavis_el468061398493054408807201128730_data = {\"mdsDat\": {\"x\": [0.00843573010833439, 0.00347899349618531, -0.024941206762269418, 0.006090392443561825, 0.006936090714187884], \"y\": [0.007974365469205071, -0.021481017117166316, 0.0024020260449952335, 0.011411325610146503, -0.00030670000718047743], \"topics\": [1, 2, 3, 4, 5], \"cluster\": [1, 1, 1, 1, 1], \"Freq\": [2.1542682015025174, 16.163938616456164, 72.68717533911149, 2.5649841452302407, 6.429633697699597]}, \"tinfo\": {\"Term\": [\"whistleblower\", \"fund\", \"complaint\", \"investor\", \"client\", \"investment\", \"firm\", \"order\", \"company\", \"stock\", \"trading\", \"million\", \"award\", \"market\", \"accounting\", \"alleges\", \"office\", \"information\", \"ha\", \"agreed\", \"account\", \"agency\", \"customer\", \"staff\", \"adviser\", \"asset\", \"enforcement\", \"money\", \"scheme\", \"program\", \"devere\", \"1inmm\", \"goodwill\", \"hangar\", \"intruder\", \"annualized\", \"neve\", \"lien\", \"plaintiff\", \"patent\", \"immunity\", \"merit\", \"alerting\", \"aggregation\", \"1broker\", \"accountancy\", \"54freedom\", \"flight\", \"list\", \"internship\", \"wrongfully\", \"robot\", \"bona\", \"tweet\", \"17g5\", \"wrightolivares\", \"impersonator\", \"evangelical\", \"bucket\", \"heater\", \"cyber\", \"fide\", \"17g7\", \"affiliation\", \"cybersecurity\", \"soliciting\", \"widely\", \"served\", \"solicit\", \"complaint\", \"trader\", \"enforcement\", \"unit\", \"committee\", \"honor\", \"talented\", \"role\", \"ha\", \"degree\", \"firm\", \"office\", \"investor\", \"serve\", \"option\", \"agency\", \"chief\", \"matter\", \"accounting\", \"trading\", \"market\", \"account\", \"senior\", \"friend\", \"stock\", \"staff\", \"money\", \"company\", \"fund\", \"information\", \"alleges\", \"order\", \"agreed\", \"million\", \"wa\", \"law\", \"program\", \"investment\", \"financial\", \"whistleblower\", \"scheme\", \"whistleblower\", \"wwwsecgovwhistleblower\", \"withheld\", \"credible\", \"reveal\", \"award\", \"awarded\", \"financed\", \"confidentiality\", \"protects\", \"voluntarily\", \"visit\", \"forum\", \"violator\", \"panelist\", \"exceed\", \"decinces\", \"teleconference\", \"original\", \"entirely\", \"tip\", \"breakout\", \"selfassessments\", \"eligible\", \"swing\", \"upfront\", \"ecareer\", \"exhibit\", \"ubiome\", \"collected\", \"sanction\", \"identity\", \"wrap\", \"panel\", \"successful\", \"doe\", \"monetary\", \"harmed\", \"pm\", \"information\", \"submission\", \"enforcement\", \"agency\", \"program\", \"percent\", \"municipal\", \"investor\", \"fund\", \"report\", \"trading\", \"staff\", \"market\", \"million\", \"insider\", \"ha\", \"action\", \"complaint\", \"disclosure\", \"investment\", \"money\", \"company\", \"rule\", \"client\", \"offering\", \"stock\", \"order\", \"firm\", \"prereleased\", \"terminally\", \"coronavirus\", \"ill\", \"quote\", \"depositary\", \"valuation\", \"prerelease\", \"soft\", \"incentivebased\", \"engine\", \"nongaap\", \"book\", \"pullin\", \"borrowing\", \"african\", \"itrackr\", \"artificially\", \"105\", \"segment\", \"misstated\", \"furthers\", \"congressional\", \"van\", \"quotation\", \"distributor\", \"allowance\", \"eadgear\", \"improper\", \"overstated\", \"revenue\", \"bonus\", \"manipulate\", \"practicing\", \"quarter\", \"appearing\", \"reinstatement\", \"audit\", \"accounting\", \"loan\", \"internal\", \"control\", \"foreign\", \"order\", \"find\", \"agreed\", \"subsidiary\", \"bank\", \"statement\", \"company\", \"failed\", \"rule\", \"reporting\", \"record\", \"sale\", \"procedure\", \"share\", \"customer\", \"former\", \"financial\", \"fund\", \"price\", \"stock\", \"adviser\", \"complaint\", \"brokerdealer\", \"offering\", \"million\", \"pay\", \"investment\", \"firm\", \"trading\", \"market\", \"investor\", \"client\", \"would\", \"movie\", \"seminar\", \"marker\", \"are\", \"streetbased\", \"ipayment\", \"clinic\", \"odd\", \"generator\", \"asbestos\", \"preclearance\", \"revenuesharing\", \"donnelly\", \"hog\", \"gravitational\", \"1965\", \"103032\", \"equitas\", \"rejoining\", \"edward\", \"quadgraphics\", \"airtouch\", \"fundoffunds\", \"newsletter\", \"cartesian\", \"nephew\", \"15b91\", \"radiant\", \"staffled\", \"nominating\", \"subpoena\", \"town\", \"token\", \"restaurant\", \"promissory\", \"elderly\", \"trustee\", \"preyed\", \"206\", \"client\", \"fund\", \"investment\", \"invested\", \"money\", \"freeze\", \"regional\", \"committee\", \"complaint\", \"return\", \"office\", \"investor\", \"told\", \"alleges\", \"program\", \"adviser\", \"asset\", \"firm\", \"account\", \"brokerage\", \"board\", \"bond\", \"trading\", \"note\", \"order\", \"court\", \"million\", \"served\", \"wa\", \"customer\", \"company\", \"scheme\", \"stock\", \"offering\", \"ha\", \"accounting\", \"staff\", \"compliance\", \"optionsxpress\", \"tick\", \"naked\", \"00042\", \"midyear\", \"payable\", \"808\", \"rate\", \"800\", \"13f\", \"tradingandmarkets\", \"2180\", \"human\", \"webinar\", \"workforce\", \"salesman\", \"buyback\", \"5515777\", \"enactment\", \"tribal\", \"fy\", \"cyberrelated\", \"hereuare\", \"elder\", \"budget\", \"1740\", \"appropriation\", \"rulecomments\", \"authentication\", \"12d14\", \"31\", \"submission\", \"archived\", \"pm\", \"meeting\", \"refer\", \"adjustment\", \"rating\", \"committee\", \"wwwsecgov\", \"cybersecurity\", \"fee\", \"submit\", \"secgov\", \"per\", \"paper\", \"viewing\", \"confidence\", \"email\", \"municipal\", \"structure\", \"notice\", \"webcast\", \"advisor\", \"member\", \"stock\", \"complaint\", \"section\", \"recommendation\", \"client\", \"trading\", \"fund\", \"investor\", \"credit\", \"investment\", \"market\", \"rule\", \"office\", \"role\", \"agency\", \"firm\", \"degree\", \"public\", \"staff\", \"new\", \"company\", \"security\", \"program\", \"ha\", \"alleges\", \"information\"], \"Freq\": [769.0, 1147.0, 945.0, 814.0, 733.0, 801.0, 731.0, 1057.0, 1046.0, 870.0, 803.0, 787.0, 460.0, 766.0, 664.0, 580.0, 529.0, 697.0, 587.0, 798.0, 540.0, 619.0, 645.0, 578.0, 636.0, 549.0, 502.0, 466.0, 573.0, 483.0, 2.0241446915612986, 1.9268148175743096, 1.8879755709439505, 1.9128386277949165, 1.8548192166272985, 2.1022487301147166, 1.7924668015597276, 1.8679147640648543, 1.9494188665225718, 1.8594049328201812, 1.7205965717006333, 2.154892945438686, 2.1051974581025164, 1.725162228519449, 1.578552382801957, 1.5957189085657204, 1.5116361019311118, 1.9722913887005298, 8.528963589095627, 1.6707278931615848, 1.5451408087706178, 1.4017122544090104, 2.0736535550780264, 3.5039356416538125, 1.9300379291430922, 1.3252675022041691, 1.8119661250665111, 1.311108360187195, 1.3079910976369247, 1.2881609735595951, 3.936828396511861, 2.333943634763934, 1.6221098807752818, 2.4060411444952656, 6.692170406590537, 4.6588627004165195, 3.0489435460271435, 13.131386374950724, 3.939198626479702, 20.14012307696808, 9.986354486910074, 13.026633457949744, 6.749451382050326, 9.158067827792953, 6.968590014041583, 7.558730351426851, 11.012489618071557, 13.558000545725907, 9.737532279737456, 15.286923727781302, 12.63889292130332, 15.562955043062914, 8.024271886797042, 7.080058522917595, 12.754880520594064, 8.03180274894664, 9.418599694576987, 12.453687586170691, 13.550167360152875, 13.230538428149805, 11.094001600997657, 8.875823121394193, 6.8592829027212545, 13.29425273143526, 11.006357180856892, 10.001699191664855, 13.750576268015603, 14.192068763098517, 11.693621425441856, 10.67109984723724, 13.007268997913249, 11.783463063449139, 11.448064597804803, 10.015479981648651, 9.716851065074728, 9.782728915134514, 10.719383477021914, 10.276499004660018, 10.364783175552267, 9.838159413336653, 612.652018256423, 59.515829564826895, 55.932518958028595, 52.03896463633172, 59.00386508118138, 330.38149703868544, 86.3945804338199, 56.603626061108706, 63.35350712069851, 55.74073721188972, 59.913626984560665, 58.47081847386423, 59.4216319270855, 58.64167398148865, 36.41018754452966, 54.49777347270377, 15.094182383613555, 22.176812405751658, 61.34306699919097, 53.14806065294795, 101.08502026032568, 40.147190165611356, 12.032721529566363, 59.88616432014496, 12.905529243829992, 16.34030145339493, 11.731950525641873, 22.95906965741698, 11.373175461031579, 66.454702563777, 100.50628855125298, 62.909384932529726, 24.82391572978936, 56.80228288021444, 82.34649016785073, 55.88108223150797, 93.02559637338142, 76.09562437315964, 78.50337275752841, 181.77950941188868, 86.98179982093377, 138.7396712667604, 134.6855928606153, 113.59749179950286, 90.88979770874633, 102.32394173612533, 134.86670991186264, 148.92511068088888, 108.51682900304431, 122.76174367496664, 109.52571774034216, 118.70082782330638, 117.58875386265291, 92.20426435692771, 105.43952699181702, 99.8797054742749, 120.07376753148269, 101.45100635729332, 111.84241844221471, 96.10783295613612, 118.16809836165385, 107.62767081716461, 100.02323807659006, 98.39458220642827, 99.49168044129154, 96.5976778735122, 93.44443291398484, 138.68970640284687, 64.02173344305784, 89.51560613893078, 62.36419885297035, 80.36753346168356, 117.47932847129937, 228.11050891401078, 101.48038234245789, 72.99171694958287, 82.29982211475222, 65.8336562969258, 70.67214024855886, 338.28378203326434, 45.273285709314706, 68.71833827863337, 86.20983119508328, 43.0980023294281, 118.81350461428221, 157.9632452522265, 69.51863970877426, 83.78749819073522, 41.81188669458077, 85.35250134607217, 41.30140771382063, 76.344839319715, 129.8818644144639, 66.6970594278024, 40.20093508286152, 266.6810820554496, 146.80577439295183, 483.58436150035453, 128.367411510674, 116.78581406985992, 159.40671629652192, 246.38188978185374, 125.42828149950573, 94.5989370172741, 585.4204749973334, 578.113585702106, 420.51877413025244, 462.22328157561157, 482.91754536685704, 358.8021925884048, 895.0008754407451, 458.71487052478557, 666.7497081101163, 339.1226321848181, 368.5223442451144, 459.72531959360526, 856.5522755542046, 412.1126268604391, 775.4609942292179, 427.3600088907269, 384.7911495530455, 461.8402478464953, 313.31661093025883, 558.3109401193789, 530.4750769887116, 443.82388438633734, 554.3822217050622, 894.2999764120025, 405.6761325240668, 686.3745425031818, 515.1740325276124, 722.559216288399, 466.1558675525092, 537.2520135212768, 608.4159868688088, 491.9336556002271, 607.7481071556016, 563.4155425919176, 600.7162499044159, 578.1436560011733, 594.2456243282663, 548.2460436031049, 472.98675658307945, 3.891529625959085, 6.889390353269092, 2.4330715351528487, 1.9352177971050117, 1.9295635354759213, 1.9273598341870275, 1.8931578954488306, 1.8361350454340455, 1.8318110226901998, 1.7918637655733134, 1.8760151295389325, 1.7496165258503342, 1.683146591376551, 1.7253142897234168, 1.6684064868196593, 1.6571310169483353, 1.638355093856224, 1.647204445132256, 2.0551211970285848, 1.6125189673314921, 1.6085121504776436, 1.585290760100945, 1.5850111924224333, 4.021683627513762, 1.5322187494300088, 1.7561081044051883, 1.5062452914140785, 1.4982127852887244, 1.4802714069028338, 1.4801702208895204, 2.723336569137355, 3.0761575900964804, 9.832846058803375, 3.1178750160152933, 5.154261126878109, 4.538907290002677, 4.597766628840759, 2.276571851796701, 14.477284496381301, 28.105242811939398, 32.757678889650734, 25.173604438573236, 6.9542509076744325, 17.094814188722722, 10.067263237363942, 6.595936840315015, 12.070409369669923, 25.06757770344279, 13.24829133379385, 16.773577918005703, 21.41099794869181, 7.559693419941271, 17.10219085167854, 15.19148160780873, 17.803630635265172, 16.290561738694073, 19.085441830563905, 15.945370079164476, 11.29448900336901, 8.600720714627839, 12.309260393517764, 17.024650591579604, 8.290928166183628, 18.592701558086652, 12.062998587088964, 15.710202268850773, 12.060947144627269, 13.073287511484617, 14.313592182797448, 17.081014506333823, 13.402452330094134, 15.500881780563802, 13.19300730517539, 12.72271006912627, 12.96774271605931, 12.680487033012376, 12.225719344346881, 9.334721947200654, 10.322128427357173, 7.86419785921829, 11.71794477520093, 5.846429244601786, 5.62653535925545, 5.102699175900883, 59.631362277311304, 5.96040373088985, 4.894150513951264, 11.093473188890455, 4.743744518269123, 11.89544107320696, 4.746471242003889, 8.597811627844612, 4.61016285170441, 7.312230610726348, 10.372754295122736, 10.130835473872944, 4.987456744367011, 4.6014010934733705, 6.706378362022095, 4.148768695330655, 4.7037807229626125, 19.591943551823046, 3.95214497289035, 13.258630816487862, 15.153386825838178, 3.8095182382378185, 3.6706269173195625, 36.89142499372576, 51.81180496422397, 17.501408671407212, 38.87088209750236, 55.13990251376866, 13.94776440305311, 21.030764197738133, 37.77081451279005, 45.177808528780396, 12.390209130709186, 20.17561744966366, 55.78324895110335, 27.47901413832753, 22.87177365452313, 25.59507628913094, 26.977258483753975, 15.80472153204022, 15.627709533525211, 29.55663543474327, 44.889845975788255, 24.83497197980206, 19.972716275708123, 21.53402299819331, 29.147630081809897, 34.9341323425934, 55.917740951038056, 58.071451791327824, 38.47715195677142, 28.113343838560084, 49.38658278632357, 49.51283421125433, 57.05542353198012, 48.549259970068746, 25.97449554026628, 46.294870428524206, 45.14595808631574, 49.27886517149511, 36.79619439447151, 33.36815795658107, 38.39280045601747, 40.33855972324445, 31.020840643825682, 36.355321493572696, 36.503643290893365, 34.199938590581034, 40.88815518714295, 35.066988629015384, 34.18598905468956, 35.30030765974471, 35.15915948181642, 35.99003352427469], \"Total\": [769.0, 1147.0, 945.0, 814.0, 733.0, 801.0, 731.0, 1057.0, 1046.0, 870.0, 803.0, 787.0, 460.0, 766.0, 664.0, 580.0, 529.0, 697.0, 587.0, 798.0, 540.0, 619.0, 645.0, 578.0, 636.0, 549.0, 502.0, 466.0, 573.0, 483.0, 14.020036687519783, 13.834508970058522, 13.79915712119726, 14.015129700715052, 13.758035669108299, 15.636890589718663, 13.697282104969652, 14.427722029220266, 15.126565774477418, 14.481648359185073, 13.626145380422951, 17.981854735793142, 17.760370564395593, 14.59775750334655, 13.483084948461986, 13.700768458339951, 13.41211181868016, 17.983104454639573, 79.95691916615797, 15.909413711759909, 14.847242452181192, 13.649053527953246, 20.258098332667945, 34.78777580481339, 19.253913369986392, 13.225598697246706, 18.096265930663087, 13.22495362236793, 13.21214657558596, 13.191776915043977, 40.997979195604, 26.147474096575213, 17.18117632855729, 28.12561508376961, 104.9302504469435, 75.25178724829345, 42.3990649617364, 426.1256627971791, 64.12243569154326, 945.9121363916205, 311.0452545099649, 502.6311387460961, 163.71790402822802, 279.2568250626522, 176.32178700803476, 204.0884295862324, 398.73978087863446, 587.8004282154164, 322.0242116078301, 731.5709007874922, 529.3687996488495, 814.6355472019525, 234.87186631875957, 188.8604687861964, 619.0874871771125, 259.0373690104653, 359.6180910909558, 664.8740257497777, 803.5656457423694, 766.4910968410844, 540.2591558560963, 340.97298763135433, 196.14623961190009, 870.5790984075104, 578.3292681041219, 466.6279396200028, 1046.4401198773508, 1147.2302582776208, 697.4062267096554, 580.2751813133174, 1057.6746949166659, 798.7224747246664, 787.8169646669518, 518.0519920578485, 469.64202729296426, 483.9235749283641, 801.7783839419355, 679.0856643961305, 769.5371065488642, 573.7686193192319, 769.5371065488642, 77.65080814509056, 75.28243019777821, 70.5696769271544, 81.31823949256348, 460.5003644695789, 122.25934908965186, 80.13325181262482, 94.90056318857064, 85.34005596830609, 93.59802453618123, 91.40413498692439, 94.73330764880838, 95.58738019851367, 59.41005464345973, 90.17931378099489, 25.353851430174572, 37.68785406579108, 105.30587023313065, 94.40425352849743, 183.34094213172594, 73.11264323597159, 22.08320781895898, 110.93949730075869, 24.03016241427811, 30.52578448997674, 21.948150188166146, 42.953036859049384, 21.423025827040725, 125.61042552012258, 197.50877730185303, 127.71207825466433, 48.23693003662403, 117.78152138838709, 177.49806176902217, 121.53557547133309, 229.21393390152917, 180.07348881903062, 190.75612341751827, 697.4062267096554, 233.80654603375356, 502.6311387460961, 619.0874871771125, 483.9235749283641, 299.30971113816287, 407.4320714179955, 814.6355472019525, 1147.2302582776208, 551.1209296548216, 803.5656457423694, 578.3292681041219, 766.4910968410844, 787.8169646669518, 371.19390589038005, 587.8004282154164, 501.10749134629583, 945.9121363916205, 548.0627341377378, 801.7783839419355, 466.6279396200028, 1046.4401198773508, 949.7812727344227, 733.0153449279276, 678.1363019255836, 870.5790984075104, 1057.6746949166659, 731.5709007874922, 146.1955950252945, 68.39721858412534, 95.71475622389268, 66.92348120548566, 86.60586763850537, 126.75086347534283, 246.35998632559227, 109.94867499263898, 79.1066460555373, 89.29815216615522, 71.54203091692646, 77.02720620895215, 369.19379657828273, 49.427780101025725, 75.15066639913191, 94.40937050681434, 47.23274898969486, 130.40077890751974, 173.44915949843883, 76.33542834324926, 92.04889389965003, 46.00226727548336, 93.91732479040655, 45.45187470894555, 84.07523580673129, 143.05354870288485, 73.49204919864319, 44.3327888906083, 294.16659924288996, 162.07270343148315, 542.0616670515495, 142.1485206314168, 129.2042511036947, 176.92106597762833, 277.2962403160181, 139.33880558852007, 104.62935394976182, 673.4505964483193, 664.8740257497777, 479.89260308511473, 530.0833410609331, 558.3521667319104, 411.5264456229268, 1057.6746949166659, 530.1698810658645, 798.7224747246664, 392.7608209656307, 428.92459705954354, 541.8588580258473, 1046.4401198773508, 484.79948627927, 949.7812727344227, 505.2192984978216, 453.37737254617133, 551.2143952641892, 365.09679808960885, 680.0748817559377, 645.0355971077742, 532.8524340268929, 679.0856643961305, 1147.2302582776208, 485.1976690868098, 870.5790984075104, 636.9950585286297, 945.9121363916205, 571.2620558938358, 678.1363019255836, 787.8169646669518, 610.3981414118019, 801.7783839419355, 731.5709007874922, 803.5656457423694, 766.4910968410844, 814.6355472019525, 733.0153449279276, 590.2051102976675, 22.845158402121697, 44.51576534096638, 16.45692913010607, 13.770119404537239, 13.775962935462955, 13.761257298057146, 13.882655848404927, 13.672902530808102, 13.665489716048132, 13.731121652676615, 14.545448775394673, 13.580108891675987, 13.517498613282498, 13.943768936097062, 13.499743818879551, 13.49114272053465, 13.46916309182166, 13.563564108692885, 17.047096984035502, 13.446895686484316, 13.440552307459605, 13.4422273973926, 13.4933064236992, 34.41575856164509, 13.361953479743384, 15.352169842407264, 13.3383970885684, 13.329415899131245, 13.314399181756954, 13.314373401990931, 24.618715129154758, 29.380947265525236, 110.75503232174283, 30.577197070842477, 56.83042981192879, 52.657373344665764, 53.57561008716385, 21.555092964989313, 269.3796243733042, 733.0153449279276, 1147.2302582776208, 801.7783839419355, 116.51804340895187, 466.6279396200028, 207.37163236639685, 108.78321747544395, 279.2568250626522, 945.9121363916205, 346.11371164936594, 529.3687996488495, 814.6355472019525, 145.2782251171715, 580.2751813133174, 483.9235749283641, 636.9950585286297, 549.5666583384373, 731.5709007874922, 540.2591558560963, 296.4820793534136, 189.78397183030938, 372.5848770833018, 803.5656457423694, 183.25198232392077, 1057.6746949166659, 417.20759634524103, 787.8169646669518, 426.1256627971791, 518.0519920578485, 645.0355971077742, 1046.4401198773508, 573.7686193192319, 870.5790984075104, 678.1363019255836, 587.8004282154164, 664.8740257497777, 578.3292681041219, 526.3368410554299, 20.735554541319978, 23.630801199513144, 22.3083538671117, 34.92731276946117, 18.5106375293361, 18.041893081485853, 16.389699644294772, 191.88057871543896, 19.331217799617797, 16.279271451288498, 37.7555442643264, 16.19486569913994, 40.808616327324955, 16.383881973210286, 29.87630751270912, 16.240814806087986, 25.761511305090295, 36.72886702925446, 36.10006764725624, 17.984068334909473, 16.890623051365267, 24.78668376451774, 15.420662005223114, 17.49690942952813, 75.0918808865352, 15.22506611227091, 51.53149000195867, 59.3274441866899, 15.099391391772691, 14.938681644857612, 154.19528850252846, 233.80654603375356, 76.26940894812452, 190.75612341751827, 297.75316585369234, 61.092335220789934, 105.38787647717578, 218.54101282804925, 279.2568250626522, 55.11456269513139, 104.9302504469435, 401.329034843879, 158.63702166515728, 128.6101159602693, 153.28719530455544, 165.53714708911605, 77.85758138848539, 76.86916251561024, 206.02223530440395, 407.4320714179955, 159.9348728885241, 116.82781059290406, 134.76545282138477, 237.61557446699578, 339.15336683717567, 870.5790984075104, 945.9121363916205, 430.19322825200896, 230.5839196948781, 733.0153449279276, 803.5656457423694, 1147.2302582776208, 814.6355472019525, 202.1733356164044, 801.7783839419355, 766.4910968410844, 949.7812727344227, 529.3687996488495, 398.73978087863446, 619.0874871771125, 731.5709007874922, 322.0242116078301, 560.5836101175087, 578.3292681041219, 469.0365350812793, 1046.4401198773508, 544.7442352316516, 483.9235749283641, 587.8004282154164, 580.2751813133174, 697.4062267096554], \"Category\": [\"Default\", \"Default\", \"Default\", \"Default\", \"Default\", \"Default\", \"Default\", \"Default\", \"Default\", \"Default\", \"Default\", \"Default\", \"Default\", \"Default\", \"Default\", \"Default\", \"Default\", \"Default\", \"Default\", \"Default\", \"Default\", \"Default\", \"Default\", \"Default\", \"Default\", \"Default\", \"Default\", \"Default\", \"Default\", \"Default\", \"Topic1\", \"Topic1\", \"Topic1\", \"Topic1\", \"Topic1\", \"Topic1\", \"Topic1\", \"Topic1\", \"Topic1\", \"Topic1\", \"Topic1\", \"Topic1\", \"Topic1\", \"Topic1\", \"Topic1\", \"Topic1\", \"Topic1\", \"Topic1\", \"Topic1\", \"Topic1\", \"Topic1\", \"Topic1\", \"Topic1\", \"Topic1\", \"Topic1\", \"Topic1\", \"Topic1\", \"Topic1\", \"Topic1\", \"Topic1\", \"Topic1\", \"Topic1\", \"Topic1\", \"Topic1\", \"Topic1\", \"Topic1\", \"Topic1\", \"Topic1\", \"Topic1\", \"Topic1\", \"Topic1\", \"Topic1\", \"Topic1\", \"Topic1\", \"Topic1\", \"Topic1\", \"Topic1\", \"Topic1\", \"Topic1\", \"Topic1\", \"Topic1\", \"Topic1\", \"Topic1\", \"Topic1\", \"Topic1\", \"Topic1\", \"Topic1\", \"Topic1\", \"Topic1\", \"Topic1\", \"Topic1\", \"Topic1\", \"Topic1\", \"Topic1\", \"Topic1\", \"Topic1\", \"Topic1\", \"Topic1\", \"Topic1\", \"Topic1\", \"Topic1\", \"Topic1\", \"Topic1\", \"Topic1\", \"Topic1\", \"Topic1\", \"Topic1\", \"Topic1\", \"Topic1\", \"Topic1\", \"Topic2\", \"Topic2\", \"Topic2\", \"Topic2\", \"Topic2\", \"Topic2\", \"Topic2\", \"Topic2\", \"Topic2\", \"Topic2\", \"Topic2\", \"Topic2\", \"Topic2\", \"Topic2\", \"Topic2\", \"Topic2\", \"Topic2\", \"Topic2\", \"Topic2\", \"Topic2\", \"Topic2\", \"Topic2\", \"Topic2\", \"Topic2\", \"Topic2\", \"Topic2\", \"Topic2\", \"Topic2\", \"Topic2\", \"Topic2\", \"Topic2\", \"Topic2\", \"Topic2\", \"Topic2\", \"Topic2\", \"Topic2\", \"Topic2\", \"Topic2\", \"Topic2\", \"Topic2\", \"Topic2\", \"Topic2\", \"Topic2\", \"Topic2\", \"Topic2\", \"Topic2\", \"Topic2\", \"Topic2\", \"Topic2\", \"Topic2\", \"Topic2\", \"Topic2\", \"Topic2\", \"Topic2\", \"Topic2\", \"Topic2\", \"Topic2\", \"Topic2\", \"Topic2\", \"Topic2\", \"Topic2\", \"Topic2\", \"Topic2\", \"Topic2\", \"Topic2\", \"Topic2\", \"Topic2\", \"Topic3\", \"Topic3\", \"Topic3\", \"Topic3\", \"Topic3\", \"Topic3\", \"Topic3\", \"Topic3\", \"Topic3\", \"Topic3\", \"Topic3\", \"Topic3\", \"Topic3\", \"Topic3\", \"Topic3\", \"Topic3\", \"Topic3\", \"Topic3\", \"Topic3\", \"Topic3\", \"Topic3\", \"Topic3\", \"Topic3\", \"Topic3\", \"Topic3\", \"Topic3\", \"Topic3\", \"Topic3\", \"Topic3\", \"Topic3\", \"Topic3\", \"Topic3\", \"Topic3\", \"Topic3\", \"Topic3\", \"Topic3\", \"Topic3\", \"Topic3\", \"Topic3\", \"Topic3\", \"Topic3\", \"Topic3\", \"Topic3\", \"Topic3\", \"Topic3\", \"Topic3\", \"Topic3\", \"Topic3\", \"Topic3\", \"Topic3\", \"Topic3\", \"Topic3\", \"Topic3\", \"Topic3\", \"Topic3\", \"Topic3\", \"Topic3\", \"Topic3\", \"Topic3\", \"Topic3\", \"Topic3\", \"Topic3\", \"Topic3\", \"Topic3\", \"Topic3\", \"Topic3\", \"Topic3\", \"Topic3\", \"Topic3\", \"Topic3\", \"Topic3\", \"Topic3\", \"Topic3\", \"Topic3\", \"Topic3\", \"Topic3\", \"Topic4\", \"Topic4\", \"Topic4\", \"Topic4\", \"Topic4\", \"Topic4\", \"Topic4\", \"Topic4\", \"Topic4\", \"Topic4\", \"Topic4\", \"Topic4\", \"Topic4\", \"Topic4\", \"Topic4\", \"Topic4\", \"Topic4\", \"Topic4\", \"Topic4\", \"Topic4\", \"Topic4\", \"Topic4\", \"Topic4\", \"Topic4\", \"Topic4\", \"Topic4\", \"Topic4\", \"Topic4\", \"Topic4\", \"Topic4\", \"Topic4\", \"Topic4\", \"Topic4\", \"Topic4\", \"Topic4\", \"Topic4\", \"Topic4\", \"Topic4\", \"Topic4\", \"Topic4\", \"Topic4\", \"Topic4\", \"Topic4\", \"Topic4\", \"Topic4\", \"Topic4\", \"Topic4\", \"Topic4\", \"Topic4\", \"Topic4\", \"Topic4\", \"Topic4\", \"Topic4\", \"Topic4\", \"Topic4\", \"Topic4\", \"Topic4\", \"Topic4\", \"Topic4\", \"Topic4\", \"Topic4\", \"Topic4\", \"Topic4\", \"Topic4\", \"Topic4\", \"Topic4\", \"Topic4\", \"Topic4\", \"Topic4\", \"Topic4\", \"Topic4\", \"Topic4\", \"Topic4\", \"Topic4\", \"Topic4\", \"Topic4\", \"Topic4\", \"Topic5\", \"Topic5\", \"Topic5\", \"Topic5\", \"Topic5\", \"Topic5\", \"Topic5\", \"Topic5\", \"Topic5\", \"Topic5\", \"Topic5\", \"Topic5\", \"Topic5\", \"Topic5\", \"Topic5\", \"Topic5\", \"Topic5\", \"Topic5\", \"Topic5\", \"Topic5\", \"Topic5\", \"Topic5\", \"Topic5\", \"Topic5\", \"Topic5\", \"Topic5\", \"Topic5\", \"Topic5\", \"Topic5\", \"Topic5\", \"Topic5\", \"Topic5\", \"Topic5\", \"Topic5\", \"Topic5\", \"Topic5\", \"Topic5\", \"Topic5\", \"Topic5\", \"Topic5\", \"Topic5\", \"Topic5\", \"Topic5\", \"Topic5\", \"Topic5\", \"Topic5\", \"Topic5\", \"Topic5\", \"Topic5\", \"Topic5\", \"Topic5\", \"Topic5\", \"Topic5\", \"Topic5\", \"Topic5\", \"Topic5\", \"Topic5\", \"Topic5\", \"Topic5\", \"Topic5\", \"Topic5\", \"Topic5\", \"Topic5\", \"Topic5\", \"Topic5\", \"Topic5\", \"Topic5\", \"Topic5\", \"Topic5\", \"Topic5\", \"Topic5\", \"Topic5\", \"Topic5\", \"Topic5\", \"Topic5\", \"Topic5\", \"Topic5\", \"Topic5\", \"Topic5\", \"Topic5\", \"Topic5\"], \"logprob\": [30.0, 29.0, 28.0, 27.0, 26.0, 25.0, 24.0, 23.0, 22.0, 21.0, 20.0, 19.0, 18.0, 17.0, 16.0, 15.0, 14.0, 13.0, 12.0, 11.0, 10.0, 9.0, 8.0, 7.0, 6.0, 5.0, 4.0, 3.0, 2.0, 1.0, -8.7128, -8.7621, -8.7825, -8.7694, -8.8002, -8.675, -8.8344, -8.7932, -8.7505, -8.7977, -8.8753, -8.6502, -8.6736, -8.8727, -8.9615, -8.9507, -9.0048, -8.7388, -7.2745, -8.9047, -8.9829, -9.0803, -8.6887, -8.1641, -8.7604, -9.1364, -8.8236, -9.1471, -9.1495, -9.1648, -8.0476, -8.5704, -8.9343, -8.54, -7.517, -7.8792, -8.3032, -6.843, -8.047, -6.4153, -7.1168, -6.851, -7.5085, -7.2034, -7.4766, -7.3953, -7.019, -6.811, -7.142, -6.691, -6.8812, -6.6731, -7.3355, -7.4607, -6.8721, -7.3346, -7.1753, -6.896, -6.8116, -6.8355, -7.0116, -7.2347, -7.4924, -6.8307, -7.0195, -7.1152, -6.7969, -6.7653, -6.9589, -7.0504, -6.8525, -6.9513, -6.9802, -7.1139, -7.1441, -7.1374, -7.0459, -7.0881, -7.0796, -7.1317, -5.0155, -7.3471, -7.4092, -7.4813, -7.3557, -5.6331, -6.9744, -7.3972, -7.2846, -7.4126, -7.3404, -7.3648, -7.3487, -7.3619, -7.8385, -7.4352, -8.719, -8.3343, -7.3168, -7.4602, -6.8174, -7.7408, -8.9457, -7.3409, -8.8757, -8.6397, -8.971, -8.2996, -9.0021, -7.2368, -6.8231, -7.2916, -8.2215, -7.3937, -7.0224, -7.4101, -6.9004, -7.1013, -7.0702, -6.2305, -6.9676, -6.5007, -6.5304, -6.7007, -6.9237, -6.8052, -6.529, -6.4299, -6.7464, -6.6231, -6.7372, -6.6567, -6.6661, -6.9093, -6.7752, -6.8294, -6.6452, -6.8137, -6.7162, -6.8678, -6.6612, -6.7546, -6.8279, -6.8443, -6.8332, -6.8628, -6.896, -8.0045, -8.7775, -8.4423, -8.8037, -8.5501, -8.1704, -7.5069, -8.3168, -8.6464, -8.5263, -8.7496, -8.6786, -7.1128, -9.124, -8.7067, -8.4799, -9.1732, -8.1591, -7.8743, -8.6951, -8.5084, -9.2035, -8.4899, -9.2158, -8.6014, -8.0701, -8.7365, -9.2428, -7.3506, -7.9476, -6.7555, -8.0818, -8.1764, -7.8652, -7.4298, -8.105, -8.3871, -6.5644, -6.5769, -6.8952, -6.8007, -6.7569, -7.0539, -6.1399, -6.8083, -6.4343, -7.1103, -7.0272, -6.8061, -6.1838, -6.9154, -6.2832, -6.8791, -6.984, -6.8015, -7.1895, -6.6118, -6.6629, -6.8413, -6.6188, -6.1407, -6.9311, -6.4053, -6.6922, -6.3539, -6.7922, -6.6502, -6.5258, -6.7384, -6.5269, -6.6027, -6.5386, -6.5769, -6.5494, -6.63, -6.7776, -8.2337, -7.6625, -8.7033, -8.9323, -8.9352, -8.9363, -8.9542, -8.9848, -8.9872, -9.0092, -8.9633, -9.0331, -9.0718, -9.0471, -9.0806, -9.0874, -9.0988, -9.0934, -8.8722, -9.1147, -9.1172, -9.1317, -9.1319, -8.2008, -9.1658, -9.0294, -9.1829, -9.1882, -9.2003, -9.2003, -8.5906, -8.4688, -7.3068, -8.4553, -7.9527, -8.0798, -8.0669, -8.7698, -6.9199, -6.2565, -6.1033, -6.3667, -7.6531, -6.7537, -7.2832, -7.706, -7.1017, -6.3709, -7.0086, -6.7727, -6.5286, -7.5697, -6.7533, -6.8718, -6.7131, -6.8019, -6.6436, -6.8233, -7.1682, -7.4406, -7.0821, -6.7578, -7.4773, -6.6697, -7.1023, -6.8382, -7.1025, -7.0219, -6.9313, -6.7545, -6.997, -6.8516, -7.0128, -7.0491, -7.03, -7.0524, -7.0889, -8.2777, -8.1772, -8.4491, -8.0503, -8.7456, -8.784, -8.8817, -6.4233, -8.7263, -8.9234, -8.1051, -8.9546, -8.0353, -8.9541, -8.3599, -8.9832, -8.5219, -8.1723, -8.1959, -8.9045, -8.9851, -8.6084, -9.0886, -8.9631, -7.5363, -9.1372, -7.9268, -7.7932, -9.1739, -9.2111, -6.9035, -6.5638, -7.6492, -6.8512, -6.5016, -7.8761, -7.4655, -6.8799, -6.7008, -7.9945, -7.507, -6.49, -7.198, -7.3815, -7.2691, -7.2165, -7.7511, -7.7624, -7.1251, -6.7072, -7.2992, -7.5171, -7.4418, -7.1391, -6.958, -6.4876, -6.4498, -6.8614, -7.1752, -6.6118, -6.6092, -6.4674, -6.6289, -7.2543, -6.6764, -6.7016, -6.614, -6.9061, -7.0039, -6.8636, -6.8141, -7.0768, -6.9181, -6.914, -6.9792, -6.8006, -6.9542, -6.9796, -6.9476, -6.9516, -6.9282], \"loglift\": [30.0, 29.0, 28.0, 27.0, 26.0, 25.0, 24.0, 23.0, 22.0, 21.0, 20.0, 19.0, 18.0, 17.0, 16.0, 15.0, 14.0, 13.0, 12.0, 11.0, 10.0, 9.0, 8.0, 7.0, 6.0, 5.0, 4.0, 3.0, 2.0, 1.0, 1.9024, 1.8664, 1.8486, 1.8462, 1.8339, 1.8311, 1.8041, 1.7934, 1.7888, 1.7851, 1.7684, 1.7161, 1.7052, 1.7022, 1.6928, 1.6876, 1.6548, 1.6275, 1.5997, 1.5841, 1.575, 1.5617, 1.5585, 1.5423, 1.5375, 1.5372, 1.5364, 1.5265, 1.5251, 1.5113, 1.4946, 1.4215, 1.4776, 1.379, 1.0854, 1.0557, 1.2054, 0.358, 1.0479, -0.0117, 0.399, 0.1849, 0.649, 0.4202, 0.6068, 0.5419, 0.2484, 0.0683, 0.3391, -0.0305, 0.1028, -0.1201, 0.4611, 0.554, -0.0446, 0.3642, 0.1954, -0.1399, -0.2449, -0.2216, -0.0479, 0.1892, 0.4845, -0.3441, -0.124, -0.0051, -0.4943, -0.5547, -0.2506, -0.1582, -0.5606, -0.3786, -0.3937, -0.1082, -0.0404, -0.0636, -0.4771, -0.3532, -0.4697, -0.2282, 1.5944, 1.5564, 1.5253, 1.5178, 1.5016, 1.4903, 1.4752, 1.4748, 1.4183, 1.3965, 1.3763, 1.3756, 1.356, 1.3338, 1.3328, 1.3187, 1.3038, 1.2921, 1.282, 1.2479, 1.227, 1.2229, 1.2152, 1.2058, 1.2007, 1.1975, 1.196, 1.196, 1.1892, 1.1857, 1.1468, 1.1143, 1.1581, 1.0931, 1.0544, 1.0454, 0.9206, 0.961, 0.9345, 0.4778, 0.8336, 0.5351, 0.2971, 0.3731, 0.6306, 0.4407, 0.0239, -0.2193, 0.1973, -0.0564, 0.1584, -0.0428, -0.0797, 0.4297, 0.1041, 0.2095, -0.2417, 0.1356, -0.1474, 0.2423, -0.3587, -0.3552, -0.1694, -0.108, -0.3467, -0.5709, -0.2354, 0.2663, 0.2529, 0.252, 0.2484, 0.2442, 0.243, 0.242, 0.2389, 0.2386, 0.2374, 0.2359, 0.2329, 0.2316, 0.2312, 0.2295, 0.2281, 0.2274, 0.2259, 0.2255, 0.2255, 0.225, 0.2235, 0.2234, 0.2232, 0.2226, 0.2224, 0.222, 0.2212, 0.2209, 0.2201, 0.2049, 0.217, 0.218, 0.2148, 0.2008, 0.2138, 0.2182, 0.1789, 0.1792, 0.1869, 0.182, 0.1739, 0.1819, 0.152, 0.1742, 0.1384, 0.1722, 0.1672, 0.1546, 0.1188, 0.1566, 0.1162, 0.1516, 0.155, 0.1421, 0.1661, 0.1217, 0.1235, 0.1362, 0.1161, 0.0699, 0.14, 0.0813, 0.1067, 0.0497, 0.1157, 0.0861, 0.0606, 0.1032, 0.0419, 0.0578, 0.0281, 0.037, 0.0036, 0.0286, 0.0976, 1.8933, 1.7974, 1.7516, 1.7009, 1.6976, 1.6975, 1.6708, 1.6555, 1.6536, 1.6268, 1.6151, 1.614, 1.5799, 1.5736, 1.5724, 1.5663, 1.5565, 1.5549, 1.5476, 1.5423, 1.5403, 1.5256, 1.5216, 1.5164, 1.4975, 1.4951, 1.4822, 1.4775, 1.4666, 1.4665, 1.4616, 1.4066, 1.2416, 1.3801, 1.263, 1.2121, 1.2077, 1.4153, 0.7397, 0.402, 0.1072, 0.2022, 0.8445, 0.3565, 0.638, 0.8603, 0.5218, 0.0326, 0.4003, 0.2113, 0.0244, 0.7074, 0.1389, 0.202, 0.0859, 0.1447, 0.0169, 0.1403, 0.3955, 0.5692, 0.2531, -0.1912, 0.5675, -0.3778, 0.1198, -0.2517, 0.0985, -0.0163, -0.1449, -0.452, -0.0936, -0.365, -0.2764, -0.1698, -0.2739, -0.1569, -0.0992, 1.9461, 1.916, 1.7016, 1.6521, 1.5917, 1.5791, 1.5774, 1.5756, 1.5677, 1.5424, 1.5195, 1.5164, 1.5115, 1.5054, 1.4987, 1.485, 1.4849, 1.4799, 1.4735, 1.4617, 1.4439, 1.437, 1.4314, 1.4306, 1.4007, 1.3956, 1.3867, 1.3794, 1.3671, 1.3407, 1.314, 1.2374, 1.2723, 1.1535, 1.0579, 1.2672, 1.1326, 0.9888, 0.9227, 1.2517, 1.0954, 0.7709, 0.9911, 1.0174, 0.9543, 0.9301, 1.1497, 1.1512, 0.8026, 0.5386, 0.8817, 0.9779, 0.9104, 0.646, 0.4713, -0.001, -0.0462, 0.3301, 0.6399, 0.0468, -0.0426, -0.2568, -0.0759, 0.6922, -0.1075, -0.0877, -0.2145, 0.078, 0.2635, -0.0361, -0.1536, 0.4043, 0.0086, -0.0185, 0.1258, -0.4981, 0.0012, 0.0941, -0.0682, -0.0594, -0.2199]}, \"token.table\": {\"Topic\": [1, 2, 3, 4, 5, 2, 3, 4, 5, 1, 2, 3, 4, 5, 2, 3, 5, 2, 3, 5, 2, 3, 4, 5, 2, 3, 5, 1, 2, 3, 5, 1, 2, 3, 5, 2, 3, 4, 5, 1, 2, 3, 5, 1, 2, 3, 5, 1, 2, 3, 4, 5, 2, 3, 4, 5, 1, 2, 3, 4, 5, 1, 2, 3, 5, 1, 2, 3, 4, 5, 2, 3, 4, 5, 2, 3, 5, 1, 2, 3, 4, 5, 1, 2, 3, 5, 1, 2, 3, 4, 5, 1, 2, 3, 4, 5, 1, 2, 3, 4, 5, 1, 2, 3, 4, 5, 1, 2, 3, 4, 5, 1, 2, 3, 4, 5, 1, 2, 3, 4, 5, 1, 2, 3, 4, 5, 1, 2, 3, 5, 1, 2, 3, 4, 5, 2, 3, 4, 5, 1, 2, 3, 4, 5, 1, 2, 3, 4, 5, 2, 3, 4, 5, 1, 2, 3, 5, 1, 2, 3, 4, 5, 1, 2, 3, 5, 1, 2, 3, 4, 5, 2, 3, 4, 5, 1, 2, 3, 4, 5, 2, 3, 4, 5, 1, 2, 3, 4, 5, 1, 2, 3, 4, 5, 2, 3, 5, 1, 2, 3, 4, 5, 1, 2, 3, 4, 5, 1, 2, 3, 4, 5, 1, 2, 3, 4, 5, 1, 2, 3, 5, 1, 2, 3, 4, 5, 1, 2, 3, 4, 5, 1, 2, 3, 4, 5, 1, 2, 3, 4, 5, 1, 2, 3, 4, 5, 1, 2, 3, 4, 5, 1, 2, 3, 4, 5, 1, 2, 3, 5, 1, 2, 3, 4, 5, 2, 3, 5, 2, 3, 4, 5, 1, 2, 3, 4, 5, 1, 2, 3, 4, 5, 2, 3, 4, 5, 1, 2, 3, 4, 5, 1, 2, 3, 4, 5, 1, 2, 3, 4, 5, 1, 2, 3, 4, 5, 1, 2, 3, 4, 5, 1, 2, 3, 4, 5, 1, 2, 3, 4, 5, 1, 2, 3, 4, 5, 1, 2, 3, 4, 5, 1, 2, 3, 4, 5, 1, 2, 3, 4, 5, 1, 2, 3, 4, 5, 1, 2, 3, 4, 5, 1, 2, 3, 4, 5, 1, 2, 3, 4, 5, 1, 2, 3, 4, 5, 1, 2, 3, 4, 5, 2, 3, 5, 1, 2, 3, 4, 5, 1, 2, 3, 4, 5, 1, 2, 3, 4, 5, 1, 2, 3, 4, 5, 1, 2, 3, 4, 5, 1, 2, 3, 4, 5, 2, 3, 4, 5, 2, 3, 5, 2, 3, 5, 2, 3, 4, 5, 1, 2, 3, 4, 5, 1, 2, 3, 4, 5, 1, 2, 3, 4, 5, 1, 2, 3, 4, 5, 1, 2, 3, 5, 1, 2, 3, 4, 5, 1, 2, 3, 5, 1, 2, 3, 4, 5, 2, 3, 4, 5, 1, 2, 3, 5, 1, 2, 3, 4, 5, 1, 2, 3, 5, 1, 2, 3, 4, 5, 1, 2, 3, 4, 5, 1, 2, 3, 4, 5, 1, 2, 3, 4, 5, 1, 2, 3, 4, 5, 1, 2, 3, 4, 5, 1, 2, 3, 4, 5, 1, 2, 3, 5, 1, 2, 3, 4, 5, 1, 2, 3, 4, 5, 1, 2, 3, 4, 5, 1, 2, 3, 4, 5, 1, 2, 3, 4, 5, 1, 2, 3, 4, 5, 2, 3, 4, 5, 2, 3, 5, 1, 2, 3, 5, 2, 3, 4, 5, 1, 2, 3, 5, 2, 3, 4, 5, 1, 2, 3, 4, 5, 1, 2, 3, 5, 1, 2, 3, 4, 5, 1, 2, 3, 5, 2, 3, 5, 2, 3, 4, 5, 1, 2, 3, 4, 5, 1, 2, 3, 4, 5, 1, 2, 3, 4, 5, 1, 2, 3, 4, 5, 1, 2, 3, 5, 1, 2, 3, 4, 5, 1, 2, 3, 4, 5, 1, 2, 3, 5, 1, 2, 3, 4, 5, 1, 2, 3, 4, 5, 1, 2, 3, 4, 5, 1, 2, 3, 5, 1, 2, 3, 5, 1, 2, 3, 4, 5, 1, 2, 3, 4, 5, 1, 2, 3, 4, 5, 2, 3, 4, 5, 2, 3, 5, 1, 2, 3, 4, 5, 1, 2, 3, 5, 1, 2, 3, 4, 5, 1, 2, 3, 4, 5, 1, 2, 3, 4, 5, 2, 3, 4, 5, 1, 2, 3, 4, 5, 1, 2, 3, 4, 5, 1, 2, 3, 4, 5, 1, 2, 3, 4, 5, 1, 2, 3, 4, 5, 1, 2, 3, 5, 1, 2, 3, 4, 5, 1, 2, 3, 4, 5, 1, 2, 3, 4, 5, 1, 2, 3, 4, 5, 1, 2, 3, 4, 5, 1, 2, 3, 4, 5, 2, 3, 5, 2, 3, 4, 5, 1, 2, 3, 5, 1, 2, 3, 4, 5, 1, 2, 3, 4, 5, 2, 3, 4, 5, 2, 3, 5, 1, 2, 3, 4, 5, 1, 2, 3, 4, 5, 2, 3, 4, 5, 1, 2, 3, 4, 5, 1, 2, 3, 4, 5, 1, 2, 3, 4, 5, 2, 3, 5, 1, 2, 3, 4, 5, 1, 2, 3, 4, 5, 1, 2, 3, 4, 5, 1, 2, 3, 4, 5, 1, 2, 3, 4, 5, 1, 2, 3, 4, 5, 1, 2, 3, 5, 1, 2, 3, 4, 5, 1, 2, 3, 4, 5, 1, 2, 3, 4, 5, 1, 2, 3, 4, 5, 1, 2, 3, 4, 5, 1, 2, 3, 4, 5, 1, 2, 3, 4, 5, 2, 3, 4, 5, 1, 2, 3, 4, 5, 1, 2, 3, 5, 2, 3, 4, 5, 1, 2, 3, 4, 5, 1, 2, 3, 4, 5, 1, 2, 3, 4, 5, 1, 2, 3, 4, 5, 1, 2, 3, 4, 5, 1, 2, 3, 4, 5, 2, 3, 5, 2, 3, 4, 5, 1, 2, 3, 4, 5, 1, 2, 3, 4, 5, 2, 3, 4, 5, 2, 3, 4, 5, 1, 2, 3, 4, 5, 1, 2, 3, 4, 5, 1, 2, 3, 4, 5, 1, 2, 3, 4, 5, 1, 2, 3, 4, 5, 1, 2, 3, 4, 5, 1, 2, 3, 4, 5, 1, 2, 3, 4, 5, 1, 2, 3, 4, 5, 1, 2, 3, 4, 5, 1, 2, 3, 4, 5, 1, 2, 3, 4, 5, 1, 2, 3, 4, 5, 1, 2, 3, 4, 5, 2, 3, 4, 5, 1, 2, 3, 4, 5, 1, 2, 3, 4, 5, 1, 2, 3, 4, 5, 1, 2, 3, 4, 5, 1, 2, 3, 4, 5, 2, 3, 4, 5, 1, 2, 3, 4, 5, 1, 2, 3, 4, 5, 1, 2, 3, 4, 5, 1, 2, 3, 4, 5, 1, 2, 3, 4, 5, 1, 2, 3, 4, 5, 2, 3, 5, 1, 2, 3, 4, 5, 1, 2, 3, 4, 5, 1, 2, 3, 4, 5, 1, 2, 3, 4, 5, 1, 2, 3, 4, 5, 1, 2, 3, 5, 1, 2, 3, 4, 5, 1, 2, 3, 4, 5, 1, 2, 3, 4, 5, 2, 3, 4, 5, 1, 2, 3, 4, 5, 1, 2, 3, 4, 5, 2, 3, 4, 5, 1, 2, 3, 4, 5, 1, 2, 3, 4, 5, 1, 2, 3, 4, 5, 1, 2, 3, 4, 5, 1, 2, 3, 4, 5, 1, 2, 3, 4, 5, 1, 2, 3, 5, 1, 2, 3, 4, 5, 1, 2, 3, 4, 5, 1, 2, 3, 4, 5, 1, 2, 3, 5, 1, 2, 3, 4, 5, 1, 2, 3, 4, 5, 1, 2, 3, 4, 5, 1, 2, 3, 4, 5, 1, 2, 3, 4, 5, 1, 2, 3, 4, 5, 1, 2, 3, 4, 5, 1, 2, 3, 5, 2, 3, 4, 5, 1, 2, 3, 4, 5, 2, 3, 5, 1, 2, 3, 4, 5, 2, 3, 5, 1, 2, 3, 4, 5, 2, 3, 5, 1, 2, 3, 4, 5, 1, 2, 3, 4, 5, 1, 2, 3, 4, 5, 1, 2, 3, 4, 5, 1, 2, 3, 4, 5, 1, 2, 3, 4, 5, 2, 3, 4, 5, 1, 2, 3, 4, 5, 1, 2, 3, 4, 5, 1, 2, 3, 4, 5, 1, 2, 3, 5, 1, 2, 3, 4, 5, 1, 2, 3, 4, 5, 1, 2, 3, 5, 1, 2, 3, 4, 5, 1, 2, 3, 4, 5, 1, 2, 3, 4, 5], \"Freq\": [0.028630888571374833, 0.11452355428549933, 0.515355994284747, 0.028630888571374833, 0.343570662856498, 0.14848732518610455, 0.5939493007444182, 0.14848732518610455, 0.07424366259305228, 0.005765378182815586, 0.06341916001097145, 0.9109297528848626, 0.011530756365631173, 0.011530756365631173, 0.13388062263770553, 0.5355224905508221, 0.26776124527541106, 0.12285562078035751, 0.49142248312143005, 0.3071390519508938, 0.14994305438050642, 0.5997722175220257, 0.14994305438050642, 0.07497152719025321, 0.13136231956247893, 0.5254492782499157, 0.26272463912495786, 0.10387498694772684, 0.10387498694772684, 0.6751874151602245, 0.10387498694772684, 0.11640646494476324, 0.11640646494476324, 0.6984387896685794, 0.05820323247238162, 0.14824541118787754, 0.5929816447515102, 0.14824541118787754, 0.07412270559393877, 0.1483340057297599, 0.1483340057297599, 0.5933360229190396, 0.07416700286487996, 0.1445660271953649, 0.1445660271953649, 0.5782641087814596, 0.07228301359768245, 0.01484893302270268, 0.1707627297610808, 0.6941876188113503, 0.05197126557945938, 0.06682019860216205, 0.12349592995428262, 0.49398371981713046, 0.06174796497714131, 0.3087398248857065, 0.012970564920777099, 0.129705649207771, 0.6031312688161351, 0.01945584738116565, 0.23995545103437635, 0.14911894763764452, 0.14911894763764452, 0.5964757905505781, 0.07455947381882226, 0.027226540889581544, 0.08167962266874464, 0.598983899570794, 0.027226540889581544, 0.27226540889581546, 0.15518939526196399, 0.465568185785892, 0.051729798420654664, 0.31037879052392797, 0.12202786160856809, 0.48811144643427234, 0.3050696540214202, 0.020360598947313287, 0.12216359368387973, 0.7737027599979049, 0.02961541665063751, 0.053677942679280485, 0.1459772133279544, 0.1459772133279544, 0.5839088533118176, 0.0729886066639772, 0.018048531804904865, 0.06016177268301622, 0.8693376152695844, 0.01955257612198027, 0.03308897497565892, 0.015964638601803523, 0.19955798252254406, 0.7164131572559331, 0.019955798252254405, 0.047893915805410574, 0.009488757468384644, 0.11386508962061573, 0.6737017802553097, 0.009488757468384644, 0.19926390683607753, 0.007849354454254805, 0.10989096235956729, 0.808483508788245, 0.0282576760353173, 0.04552625583467787, 0.012625435040314215, 0.23567478741919867, 0.6102293602818537, 0.01683391338708562, 0.12204587205637074, 0.07110955597035586, 0.1422191119407117, 0.6399860037332027, 0.03555477798517793, 0.07110955597035586, 0.010592168919586444, 0.031776506758759336, 0.9109265270844342, 0.010592168919586444, 0.04236867567834578, 0.020998647637471758, 0.2180628793122067, 0.6816484079240832, 0.0177680864624761, 0.06138066232491744, 0.1370073451036228, 0.1370073451036228, 0.6165330529663027, 0.0685036725518114, 0.015023991911754592, 0.09515194877444574, 0.8350835504283594, 0.015023991911754592, 0.04006397843134558, 0.14878486584655914, 0.5951394633862366, 0.14878486584655914, 0.07439243292327957, 0.112610262986822, 0.281525657467055, 0.450441051947288, 0.056305131493411, 0.112610262986822, 0.01895652330865516, 0.1051225383479968, 0.7858340571587957, 0.029296445113376157, 0.060316210527539146, 0.04082074228045047, 0.9116632442633938, 0.01360691409348349, 0.04082074228045047, 0.1279026663597052, 0.2558053327194104, 0.5116106654388208, 0.0639513331798526, 0.00717675162906943, 0.06459076466162486, 0.8970939536336787, 0.00717675162906943, 0.01435350325813886, 0.01940561004469288, 0.11643366026815728, 0.6015739113854793, 0.25227293058100747, 0.013111416671396536, 0.34089683345630994, 0.38023108347049955, 0.026222833342793073, 0.23600550008513765, 0.14524202305326434, 0.5809680922130573, 0.14524202305326434, 0.07262101152663217, 0.007668665849835147, 0.03067466339934059, 0.9125712361303825, 0.015337331699670295, 0.03834332924917574, 0.1456545248515906, 0.5826180994063624, 0.1456545248515906, 0.0728272624257953, 0.01637653933957829, 0.16012616243143218, 0.7442227322097246, 0.02911384771480585, 0.049129618018734875, 0.013364009249475305, 0.07721427566363509, 0.8686606012158948, 0.008909339499650204, 0.029697798332167343, 0.13245566977552178, 0.5298226791020871, 0.26491133955104357, 0.010857754707228478, 0.7166118106770795, 0.2366990526175808, 0.013029305648674173, 0.021715509414456956, 0.00817933358427017, 0.7034226882472345, 0.22902134035956473, 0.01635866716854034, 0.04089666792135085, 0.011657060551614617, 0.07926801175097939, 0.8602910687091587, 0.018651296882583386, 0.030308357434198005, 0.03161489319743371, 0.1422670193884517, 0.7482191390059313, 0.04742233979615057, 0.03161489319743371, 0.09872594984766295, 0.34554082446682033, 0.3949037993906518, 0.09872594984766295, 0.018787665389958793, 0.1341976099282771, 0.7702942809883104, 0.0322074263827865, 0.045627187375614206, 0.01406979116712645, 0.0562791646685058, 0.9004666346960928, 0.007034895583563225, 0.021104686750689675, 0.013543022787328484, 0.04333767291945115, 0.9155083404234056, 0.00812581367239709, 0.021668836459725574, 0.013306601896101767, 0.05322640758440707, 0.918155530831022, 0.013306601896101767, 0.013306601896101767, 0.013677524922365243, 0.5471009968946097, 0.396648222748592, 0.013677524922365243, 0.013677524922365243, 0.016864425704596744, 0.12142386507309655, 0.7622720418477729, 0.037101736550112834, 0.05733904739562893, 0.010503060614820614, 0.09977907584079584, 0.8157377077510678, 0.015754590922230922, 0.05601632327904328, 0.07568792809548815, 0.1513758561909763, 0.6055034247639052, 0.07568792809548815, 0.053268075759669034, 0.25302335985842794, 0.41282758713743506, 0.026634037879834517, 0.26634037879834516, 0.11645279519789745, 0.5434463775901881, 0.27172318879509405, 0.14967871299896263, 0.5987148519958505, 0.14967871299896263, 0.07483935649948131, 0.030883574947353616, 0.1737201090788641, 0.7103222237891332, 0.027023128078934415, 0.05790670302628803, 0.00954959544631124, 0.13642279209016056, 0.7475969006540799, 0.03819838178524496, 0.06684716812417868, 0.1440646531787211, 0.5762586127148844, 0.1440646531787211, 0.07203232658936055, 0.015922245241336303, 0.525434092964098, 0.41397837627474393, 0.015922245241336303, 0.031844490482672606, 0.03222839763354332, 0.28647464563149616, 0.4762640983623624, 0.042971196844724426, 0.1611419881677166, 0.013378691942393117, 0.11276326065731342, 0.8189670710450644, 0.016245554501477355, 0.03918045497415127, 0.021143612847905915, 0.12686167708743548, 0.7643416044517989, 0.026429516059882394, 0.06131647725892716, 0.013299468047806313, 0.12159513643708629, 0.7846686148205725, 0.02279908808195368, 0.0569977202048842, 0.026018235851000056, 0.20814588680800045, 0.5333738349455012, 0.03902735377650008, 0.20814588680800045, 0.010537345263304349, 0.663852751588174, 0.2739709768459131, 0.010537345263304349, 0.03161203578991305, 0.010647662742009319, 0.042590650968037276, 0.9050513330707921, 0.021295325484018638, 0.021295325484018638, 0.014327874908813874, 0.0734303589076711, 0.8650454476196376, 0.010745906181610405, 0.03761067163563642, 0.010447709835470241, 0.020895419670940482, 0.9402938851923217, 0.010447709835470241, 0.020895419670940482, 0.019175106278218307, 0.12703507909319628, 0.7694011394135095, 0.02876265941732746, 0.05512843054987763, 0.014170392207296777, 0.7368603947794324, 0.21255588310945167, 0.014170392207296777, 0.028340784414593555, 0.019785002744325493, 0.18301127538501083, 0.6430125891905786, 0.024731253430406868, 0.12860251783811572, 0.01395271833113461, 0.09301812220756407, 0.8216600795001493, 0.021704228515098282, 0.048059363140574775, 0.0975657844235625, 0.07317433831767187, 0.6341775987531562, 0.024391446105890623, 0.17074012274123435, 0.040344243284029184, 0.12103272985208754, 0.5648194059764086, 0.040344243284029184, 0.2824097029882043, 0.06671098153472388, 0.1524822435079403, 0.5813385533740224, 0.009530140219246268, 0.19060280438492536, 0.5916260904703392, 0.31553391491751426, 0.03944173936468928, 0.03105356566225608, 0.20184817680466452, 0.6397034526424753, 0.03105356566225608, 0.09626605355299385, 0.007889492604478647, 0.04733695562687189, 0.9230706347240019, 0.007889492604478647, 0.015778985208957295, 0.14265297905962973, 0.14265297905962973, 0.5706119162385189, 0.07132648952981487, 0.07132648952981487, 0.016421477760496923, 0.1842854726455766, 0.7225450214618646, 0.018246086400552138, 0.05838747648176684, 0.006990389326705558, 0.06291350394035002, 0.9087506124717225, 0.006990389326705558, 0.013980778653411116, 0.024684130456169337, 0.4607704351818276, 0.4689984786672174, 0.016456086970779556, 0.04114021742694889, 0.14795636805427667, 0.5918254722171067, 0.14795636805427667, 0.07397818402713834, 0.04511333597656183, 0.9022667195312366, 0.022556667988280914, 0.5467431148922098, 0.3644954099281399, 0.045561926241017486, 0.14873321297570793, 0.5949328519028317, 0.14873321297570793, 0.07436660648785397, 0.057152950584083165, 0.11430590116816633, 0.4572236046726653, 0.11430590116816633, 0.2857647529204158, 0.018990692783982185, 0.1329348494878753, 0.7026556330073409, 0.09495346391991093, 0.05697207835194656, 0.018027844443696813, 0.5408353333109044, 0.39661257776132985, 0.018027844443696813, 0.036055688887393626, 0.019415380063661, 0.24754609581167775, 0.5727537118779995, 0.019415380063661, 0.1456153504774575, 0.027700779116850333, 0.13850389558425166, 0.5540155823370067, 0.2770077911685033, 0.025863896996972453, 0.2765447448137824, 0.6107858752361957, 0.021884835920515155, 0.06366497722331681, 0.013977797207926416, 0.041933391623779244, 0.9225346157231434, 0.013977797207926416, 0.010592743045186348, 0.5614153813948765, 0.38133874962670855, 0.010592743045186348, 0.03177822913555905, 0.14745386861246892, 0.5898154744498757, 0.14745386861246892, 0.07372693430623446, 0.07561463189622511, 0.15122926379245022, 0.6049170551698009, 0.07561463189622511, 0.011089017625799988, 0.5988069517931993, 0.31049249352239966, 0.022178035251599976, 0.05544508812899993, 0.023281240934872785, 0.535468541502074, 0.34921861402309173, 0.09312496373949114, 0.016501667651090658, 0.0763202128862943, 0.8498358840311689, 0.020627084563863324, 0.037128752214953986, 0.014950326238753345, 0.1744204727854557, 0.6453557493061861, 0.024917210397922242, 0.13953637822836457, 0.0764892238773442, 0.3824461193867211, 0.42069073132539314, 0.0382446119386721, 0.0764892238773442, 0.012479214026385637, 0.7113151995039814, 0.23710506650132712, 0.012479214026385637, 0.03743764207915691, 0.014725682670524919, 0.11780546136419935, 0.8158028199470806, 0.016198250937577412, 0.033869070142207316, 0.013203315107088043, 0.07921989064252825, 0.8657602334504875, 0.015089502979529193, 0.028292818086617235, 0.02050382264228033, 0.12712370038213805, 0.7695768098402551, 0.025971508680221755, 0.054676860379414216, 0.11121550258715245, 0.11121550258715245, 0.6672930155229146, 0.05560775129357622, 0.01700984244014771, 0.07532930223493986, 0.8723619194304326, 0.012149887457248366, 0.02429977491449673, 0.013136845312123906, 0.10509476249699125, 0.8332513312261448, 0.013136845312123906, 0.035657151561479174, 0.03166784813554155, 0.6228010133323171, 0.26389873446284623, 0.042223797514055396, 0.03166784813554155, 0.01928904139083284, 0.12055650869270525, 0.7281613125039397, 0.0482226034770821, 0.07715616556333137, 0.03568765842185084, 0.17843829210925422, 0.6525743254281298, 0.04078589533925811, 0.09176826451333074, 0.012203304348874757, 0.12987802485588135, 0.779268149135288, 0.028764931679490496, 0.04968488199184722, 0.14822163947060935, 0.5928865578824374, 0.14822163947060935, 0.07411081973530467, 0.043476117992686164, 0.9129984778464094, 0.021738058996343082, 0.0592044471633135, 0.17761334148994048, 0.473635577306508, 0.2960222358165675, 0.146354067183651, 0.585416268734604, 0.146354067183651, 0.0731770335918255, 0.1449363886818671, 0.1449363886818671, 0.5797455547274684, 0.07246819434093354, 0.14815095951694848, 0.5926038380677939, 0.14815095951694848, 0.07407547975847424, 0.02381760769127799, 0.17863205768458493, 0.7162294884305739, 0.022116349999043848, 0.05954401922819498, 0.14270292481830973, 0.14270292481830973, 0.5708116992732389, 0.07135146240915487, 0.011106576615561385, 0.42204991139133263, 0.505349236008043, 0.011106576615561385, 0.04442630646224554, 0.07580479918968265, 0.1516095983793653, 0.6064383935174612, 0.07580479918968265, 0.12969611806046863, 0.5187844722418745, 0.25939223612093726, 0.1434332431328865, 0.573732972531546, 0.1434332431328865, 0.07171662156644325, 0.039700142102581, 0.18715781276931043, 0.674902415743877, 0.03402869323078371, 0.06238593758977014, 0.024504628923926835, 0.2205416603153415, 0.4165786917067562, 0.04900925784785367, 0.294055547087122, 0.015660225934244834, 0.49329711692871225, 0.44631643912597774, 0.015660225934244834, 0.03132045186848967, 0.014942438468338835, 0.02988487693667767, 0.9264311850370078, 0.014942438468338835, 0.014942438468338835, 0.14677665210246865, 0.14677665210246865, 0.5871066084098746, 0.07338832605123433, 0.1105200380931137, 0.1105200380931137, 0.6631202285586822, 0.05526001904655685, 0.05526001904655685, 0.010198302620764007, 0.05099151310382004, 0.9076489332479967, 0.013597736827685343, 0.020396605241528015, 0.0111984400095908, 0.0447937600383632, 0.9182720807864456, 0.0223968800191816, 0.017206614366802677, 0.2609669845631739, 0.6538513459385017, 0.017206614366802677, 0.05161984310040803, 0.021552077965316968, 0.24784889660114512, 0.6438683292138444, 0.02424608771098159, 0.06196222415028628, 0.013205470645408095, 0.0773463280659617, 0.8715610625969343, 0.011318974838921225, 0.028297437097303063, 0.1257117349661755, 0.1257117349661755, 0.6914145423139653, 0.06285586748308775, 0.14536958967846797, 0.14536958967846797, 0.5814783587138719, 0.07268479483923398, 0.017164723518231888, 0.11157070286850726, 0.7209183877657392, 0.060076532313811604, 0.08582361759115943, 0.013719501822833647, 0.13968947310521532, 0.7583142825711688, 0.03118068596098556, 0.05737246216821343, 0.01964068478837631, 0.16571827790192512, 0.7291604227684705, 0.025778398784743906, 0.06014959716440245, 0.1453355574045088, 0.5813422296180352, 0.1453355574045088, 0.0726677787022544, 0.0423435019722514, 0.9103852924034053, 0.0211717509861257, 0.021292813289390658, 0.193764600933455, 0.709050682536709, 0.021292813289390658, 0.05536131455241571, 0.13862202196226317, 0.20793303294339477, 0.5544880878490527, 0.06931101098113158, 0.11256061506443434, 0.2126144951217093, 0.5002694002863748, 0.05002694002863749, 0.1250673500715937, 0.014586596990657232, 0.041675991401877804, 0.8772796190095278, 0.020837995700938902, 0.047927390112159476, 0.007739683419529562, 0.054177783936706934, 0.9055429600849587, 0.007739683419529562, 0.023219050258588687, 0.12152935606566044, 0.6076467803283022, 0.12152935606566044, 0.06076467803283022, 0.016960405741927715, 0.15525294486841523, 0.7540857322180169, 0.014351112550861913, 0.05870909679898055, 0.02502654961739311, 0.18352803052754948, 0.6951819338164753, 0.02502654961739311, 0.06951819338164753, 0.02015091924479565, 0.2653204367231427, 0.5071314676606905, 0.023509405785594926, 0.18471675974396012, 0.026536667124760743, 0.19755074415099663, 0.6486740852719293, 0.023588148555342883, 0.10319814992962512, 0.11122323194052786, 0.27805807985131964, 0.4448929277621114, 0.05561161597026393, 0.11122323194052786, 0.05402299074870739, 0.21609196299482955, 0.4321839259896591, 0.3241379444922443, 0.013962634080430383, 0.14978098377188956, 0.7717528655365158, 0.020309285935171468, 0.04442656298318758, 0.010863791596346407, 0.04345516638538563, 0.9125584940930982, 0.010863791596346407, 0.021727583192692815, 0.01308820955574545, 0.4057344962281089, 0.5322538552669817, 0.017450946074327265, 0.030539155630072715, 0.02143034985891216, 0.20573135864555675, 0.6793420905275156, 0.036431594760150676, 0.05786194461906284, 0.04377295102962066, 0.3064106572073446, 0.3939565592665859, 0.17509180411848263, 0.08754590205924132, 0.014726381207836826, 0.25034848053322606, 0.6013272326533371, 0.022089571811755238, 0.11044785905877619, 0.0896525136688153, 0.4930888251784841, 0.3586100546752612, 0.13027474425637245, 0.6513737212818622, 0.13027474425637245, 0.06513737212818622, 0.14601436873920845, 0.14601436873920845, 0.5840574749568338, 0.07300718436960422, 0.014924210538923094, 0.14497804523525293, 0.7462105269461548, 0.019188270692901122, 0.07248902261762646, 0.05811291349041818, 0.08716937023562726, 0.6392420483946, 0.11622582698083636, 0.11622582698083636, 0.15021360296992536, 0.6008544118797015, 0.07510680148496268, 0.07510680148496268, 0.03894727782105822, 0.9217522417650444, 0.03894727782105822, 0.016370900668878578, 0.15825203979915958, 0.7148626625410313, 0.04365573511700954, 0.06548360267551431, 0.008559605755898146, 0.14551329785026848, 0.6505300374482591, 0.01711921151179629, 0.17119211511796292, 0.14627472078394133, 0.5850988831357653, 0.14627472078394133, 0.07313736039197066, 0.010322408607419098, 0.14451372050386738, 0.7918762031691509, 0.019170187413778326, 0.03244185562331717, 0.02455754855334012, 0.16245762889132695, 0.7121689080468635, 0.03211371733898323, 0.0698945612671988, 0.037064400215613684, 0.2329762299267146, 0.6142100607158839, 0.03176948589909744, 0.08471862906425985, 0.09645268931749942, 0.3858107572699977, 0.4340371019287474, 0.012291113763503881, 0.09171061808152896, 0.8461959091027672, 0.017963935500505672, 0.03214598984301015, 0.009496146774972345, 0.5792649532733132, 0.3703497242239215, 0.009496146774972345, 0.028488440324917038, 0.006170070461141865, 0.055530634150276786, 0.9070003577878542, 0.006170070461141865, 0.018510211383425595, 0.016980592341008714, 0.4839468817187484, 0.3396118468201743, 0.03396118468201743, 0.12735444255756537, 0.033664335304902364, 0.6059580354882426, 0.25248251478676775, 0.06732867060980473, 0.033664335304902364, 0.012081880322144918, 0.32621076869791277, 0.4832752128857967, 0.018122820483217377, 0.16310538434895638, 0.1381058254139618, 0.1381058254139618, 0.5524233016558472, 0.1381058254139618, 0.014744474777042608, 0.12450889811724868, 0.8060312878116626, 0.014744474777042608, 0.040956874380673906, 0.05542655615369849, 0.11085311230739699, 0.44341244922958795, 0.05542655615369849, 0.332559336922191, 0.01957110634087546, 0.10437923381800246, 0.6849887219306411, 0.026094808454500615, 0.16961625495425398, 0.016705104491888587, 0.3040329017523723, 0.5947017199112337, 0.023387146288644023, 0.06347939706917663, 0.13221771747917413, 0.19832657621876118, 0.5288708699166965, 0.06610885873958706, 0.06610885873958706, 0.020969182683823907, 0.41414135800552215, 0.34074921861213847, 0.020969182683823907, 0.2044495311672831, 0.011304476315177187, 0.06217461973347453, 0.8987058670565864, 0.011304476315177187, 0.016956714472765783, 0.13750005454511888, 0.5500002181804755, 0.13750005454511888, 0.13750005454511888, 0.009095152807134325, 0.04547576403567163, 0.9186104335205668, 0.009095152807134325, 0.009095152807134325, 0.006840151372734465, 0.02736060549093786, 0.9507810408100906, 0.01368030274546893, 0.2783564891019237, 0.5103202300201934, 0.0927854963673079, 0.0927854963673079, 0.01442710970391654, 0.0989287522554277, 0.8367723628271593, 0.01442710970391654, 0.035037266423797314, 0.013694998220096158, 0.08764798860861542, 0.8573068885780195, 0.013694998220096158, 0.027389996440192316, 0.020664419999542934, 0.23557438799478944, 0.6426634619857853, 0.0309966299993144, 0.07025902799844598, 0.035192413758239734, 0.2111544825494384, 0.5630786201318357, 0.08798103439559933, 0.08798103439559933, 0.023435653718609787, 0.656198304121074, 0.28122784462331746, 0.011717826859304893, 0.03515348057791468, 0.01605469699357324, 0.1605469699357324, 0.7402999169258772, 0.017838552215081377, 0.06421878797429297, 0.04046307553995321, 0.9104191996489472, 0.020231537769976604, 0.14880340883685156, 0.5952136353474062, 0.14880340883685156, 0.07440170441842578, 0.007212503125612949, 0.08294378594454892, 0.8871378844503928, 0.007212503125612949, 0.014425006251225898, 0.01189410877536828, 0.03568232632610484, 0.9039522669279892, 0.01189410877536828, 0.03568232632610484, 0.023093123532322776, 0.923724941292911, 0.011546561766161388, 0.034639685298484164, 0.15004408408701175, 0.600176336348047, 0.07502204204350588, 0.07502204204350588, 0.010423149718377817, 0.1355009463389116, 0.5263690607780798, 0.020846299436755634, 0.3126944915513345, 0.022879000766478835, 0.1555772052120561, 0.6360362213081117, 0.013727400459887303, 0.17388040582523917, 0.01734726344010905, 0.27321939918171756, 0.5637860618035442, 0.021684079300136314, 0.12143084408076335, 0.013234008495624621, 0.08602105522156003, 0.8491822118025798, 0.008822672330416413, 0.044113361652082066, 0.016368665502570223, 0.3601106410565449, 0.39284797206168537, 0.016368665502570223, 0.2291613170359831, 0.03677037775521703, 0.22062226653130215, 0.6250964218386894, 0.06434816107162979, 0.06434816107162979, 0.009557547306276533, 0.057345283837659196, 0.9079669940962706, 0.009557547306276533, 0.019115094612553066, 0.058661014302698794, 0.17598304290809638, 0.5279491287242891, 0.11732202860539759, 0.17598304290809638, 0.012701386616516715, 0.19777873445718883, 0.7475673265721265, 0.014515870418876245, 0.03084622464011202, 0.01583470786604264, 0.10292560112927715, 0.8451775323500258, 0.009896692416276649, 0.025731400282319287, 0.06540821892099265, 0.19622465676297796, 0.5886739702889339, 0.09811232838148898, 0.06540821892099265, 0.017335343264523313, 0.13579352223876595, 0.7309736409873997, 0.03755991040646718, 0.07800904469035491, 0.01229736411216145, 0.7255444826175256, 0.20905518990674465, 0.01229736411216145, 0.03689209233648435, 0.00553442566104698, 0.07194753359361074, 0.8928873399822461, 0.01106885132209396, 0.018448085536823266, 0.14727422408416124, 0.589096896336645, 0.14727422408416124, 0.07363711204208062, 0.07326515336407767, 0.14653030672815534, 0.5861212269126214, 0.07326515336407767, 0.07326515336407767, 0.02758691389096214, 0.14545827324325492, 0.722275563690645, 0.022571111365332658, 0.08276074167288641, 0.008422991934730383, 0.11371039111886017, 0.8159773436770058, 0.00947586592657168, 0.05159082560022359, 0.03371121118426166, 0.4045345342111399, 0.30340090065835496, 0.01685560559213083, 0.25283408388196243, 0.010885056797408721, 0.07619539758186104, 0.8381493734004715, 0.016327585196113083, 0.05805363625284651, 0.12314653075474302, 0.4925861230189721, 0.06157326537737151, 0.30786632688685756, 0.015189198378840118, 0.511369678754284, 0.4303606207338034, 0.015189198378840118, 0.030378396757680236, 0.01742862830641532, 0.1254861238061903, 0.7773168224661232, 0.022657216798339912, 0.05751447341117055, 0.01555087626713475, 0.2565894584077234, 0.5287297930825815, 0.01555087626713475, 0.17883507707204963, 0.013947220936925523, 0.13249859890079246, 0.7392027096570527, 0.025569905051030125, 0.08833239926719498, 0.016521514901709358, 0.16154370126115816, 0.7361252750650503, 0.02019296265764477, 0.06425033572886972, 0.013100077142469264, 0.052400308569877055, 0.9170053999728485, 0.013100077142469264, 0.013100077142469264, 0.5433993149173602, 0.36226620994490677, 0.045283276243113346, 0.04492790328732069, 0.22463951643660346, 0.47174298451686725, 0.15724766150562242, 0.08985580657464139, 0.026395052765090066, 0.12317691290375364, 0.7478598283442185, 0.026395052765090066, 0.07625237465470464, 0.03406112500993495, 0.161790343797191, 0.6854801408249409, 0.02554584375745121, 0.09366809377732112, 0.030507432748042556, 0.16661751731623242, 0.7016709532049787, 0.02816070715203928, 0.07274849347610148, 0.013233836804503362, 0.10881154705924986, 0.8204978818792085, 0.016174689427726333, 0.04117193672512157, 0.012641162909345745, 0.02528232581869149, 0.9228048923822394, 0.03792348872803724, 0.062380662195081545, 0.1091661588413927, 0.7173776152434378, 0.04678549664631116, 0.062380662195081545, 0.06644360463496353, 0.10630976741594164, 0.7308796509845987, 0.02657744185398541, 0.06644360463496353, 0.01902030660848306, 0.1902030660848306, 0.7072095820790519, 0.022478544173661796, 0.06397739495580665, 0.15021331212153743, 0.6008532484861497, 0.07510665606076872, 0.07510665606076872, 0.012918493250259077, 0.08673845468031094, 0.8489295564455964, 0.018454990357512968, 0.03321898264352334, 0.014932589151037503, 0.11371740968867021, 0.7879812428932097, 0.018378571262815387, 0.06432499941985385, 0.1451804138389102, 0.5807216553556408, 0.1451804138389102, 0.0725902069194551, 0.018757635191238277, 0.21258653216736711, 0.5939917810558787, 0.018757635191238277, 0.1563136265936523, 0.017108160861426604, 0.37210249873602863, 0.3849336193820986, 0.004277040215356651, 0.22240609119854585, 0.012607397560838575, 0.2584516499971908, 0.5421180951160587, 0.01891109634125786, 0.17019986707132076, 0.040619504094904946, 0.08123900818980989, 0.690531569613384, 0.12185851228471484, 0.08123900818980989, 0.007638236402053251, 0.091658836824639, 0.8631207134320172, 0.012730394003422083, 0.02291470920615975, 0.011267728673018387, 0.4619768755937539, 0.4732446042667723, 0.016901593009527583, 0.033803186019055166, 0.041614367092493124, 0.5409867722024105, 0.332914936739945, 0.08322873418498625, 0.03919869448855651, 0.1861937988206434, 0.6565781326833214, 0.034298857677486944, 0.08819706259925214, 0.026533747404517014, 0.5837424428993743, 0.3449387162587212, 0.026533747404517014, 0.026533747404517014, 0.014620477567666693, 0.029240955135333386, 0.9357105643306683, 0.014620477567666693, 0.014620477567666693, 0.042317651084153786, 0.16927060433661514, 0.3385412086732303, 0.42317651084153785, 0.021817276345869864, 0.550886227733214, 0.3490764215339178, 0.0163629572594024, 0.05999750995114213, 0.009028935110551048, 0.30698379375873563, 0.568822911964716, 0.09028935110551048, 0.018057870221102095, 0.02753337602227638, 0.144550224116951, 0.722751120584755, 0.05506675204455276, 0.05506675204455276, 0.06807132465557851, 0.17017831163894628, 0.6126419219002066, 0.10210698698336776, 0.06807132465557851, 0.032149662645567324, 0.09644898793670198, 0.8005265998746265, 0.02571973011645386, 0.04822449396835099, 0.017422347600569935, 0.15306776820500728, 0.7479164934244665, 0.021155707800692064, 0.062222670002035484, 0.02648617625530715, 0.1059447050212286, 0.5826958776167572, 0.02648617625530715, 0.2913479388083786, 0.055604770921542084, 0.16681431276462624, 0.44483816737233667, 0.2780238546077104, 0.18665209754458575, 0.6719475511605087, 0.09332604877229288, 0.05599562926337573, 0.11498291878282549, 0.057491459391412744, 0.7761347017840721, 0.028745729695706372, 0.028745729695706372, 0.5134662156881453, 0.37342997504592385, 0.04667874688074048, 0.042756472125327655, 0.25653883275196593, 0.6169148120940133, 0.02443226978590152, 0.0610806744647538, 0.5241470536245731, 0.3931102902184298, 0.06551838170307164, 0.008118201457264152, 0.04465010801495284, 0.9254749661281134, 0.01217730218589623, 0.01217730218589623, 0.04400258543365149, 0.9020530013898554, 0.022001292716825743, 0.012843964353455929, 0.3467870375433101, 0.4110068593105897, 0.025687928706911858, 0.20550342965529486, 0.010461632047276775, 0.6172362907893297, 0.3347722255128568, 0.010461632047276775, 0.03138489614183032, 0.010940424086317896, 0.6345445970064381, 0.2844510262442653, 0.021880848172635792, 0.03282127225895369, 0.010683986173377413, 0.6410391704026447, 0.29915161285456754, 0.021367972346754825, 0.032051958520132234, 0.019303081839869358, 0.13126095651111164, 0.7701929654107874, 0.025094006391830168, 0.05597893733562114, 0.014840598670719839, 0.35617436809727615, 0.4377976607862353, 0.029681197341439678, 0.16324658537791822, 0.12207119187444418, 0.4882847674977767, 0.06103559593722209, 0.30517797968611043, 0.012994824960224341, 0.7965827700617522, 0.16113582950678185, 0.010395859968179473, 0.01819275494431408, 0.07075627735440368, 0.1650979804936086, 0.6368064961896331, 0.047170851569602455, 0.07075627735440368, 0.013283311887951151, 0.7438654657252645, 0.18596636643131612, 0.013283311887951151, 0.039849935663853454, 0.03347133843680678, 0.26777070749445425, 0.4016560612416814, 0.3012420459312611, 0.011860283616435614, 0.1287687935498724, 0.8014163072248636, 0.018637588540113107, 0.037275177080226214, 0.020731004216909057, 0.5182751054227265, 0.43535108855509025, 0.020731004216909057, 0.020731004216909057, 0.07561094381369511, 0.15122188762739022, 0.6048875505095609, 0.07561094381369511, 0.1347051485446836, 0.1347051485446836, 0.5388205941787344, 0.0673525742723418, 0.1347051485446836, 0.018144024938228098, 0.3084484239498777, 0.4173125735792463, 0.018144024938228098, 0.21772829925873718, 0.012878166034428123, 0.7726899620656874, 0.18029432448199373, 0.012878166034428123, 0.025756332068856247], \"Term\": [\"00042\", \"00042\", \"00042\", \"00042\", \"00042\", \"103032\", \"103032\", \"103032\", \"103032\", \"105\", \"105\", \"105\", \"105\", \"105\", \"12d14\", \"12d14\", \"12d14\", \"13f\", \"13f\", \"13f\", \"15b91\", \"15b91\", \"15b91\", \"15b91\", \"1740\", \"1740\", \"1740\", \"17g5\", \"17g5\", \"17g5\", \"17g5\", \"17g7\", \"17g7\", \"17g7\", \"17g7\", \"1965\", \"1965\", \"1965\", \"1965\", \"1broker\", \"1broker\", \"1broker\", \"1broker\", \"1inmm\", \"1inmm\", \"1inmm\", \"1inmm\", \"206\", \"206\", \"206\", \"206\", \"206\", \"2180\", \"2180\", \"2180\", \"2180\", \"31\", \"31\", \"31\", \"31\", \"31\", \"54freedom\", \"54freedom\", \"54freedom\", \"54freedom\", \"5515777\", \"5515777\", \"5515777\", \"5515777\", \"5515777\", \"800\", \"800\", \"800\", \"800\", \"808\", \"808\", \"808\", \"account\", \"account\", \"account\", \"account\", \"account\", \"accountancy\", \"accountancy\", \"accountancy\", \"accountancy\", \"accounting\", \"accounting\", \"accounting\", \"accounting\", \"accounting\", \"action\", \"action\", \"action\", \"action\", \"action\", \"adjustment\", \"adjustment\", \"adjustment\", \"adjustment\", \"adjustment\", \"adviser\", \"adviser\", \"adviser\", \"adviser\", \"adviser\", \"advisor\", \"advisor\", \"advisor\", \"advisor\", \"advisor\", \"affiliation\", \"affiliation\", \"affiliation\", \"affiliation\", \"affiliation\", \"african\", \"african\", \"african\", \"african\", \"african\", \"agency\", \"agency\", \"agency\", \"agency\", \"agency\", \"aggregation\", \"aggregation\", \"aggregation\", \"aggregation\", \"agreed\", \"agreed\", \"agreed\", \"agreed\", \"agreed\", \"airtouch\", \"airtouch\", \"airtouch\", \"airtouch\", \"alerting\", \"alerting\", \"alerting\", \"alerting\", \"alerting\", \"alleges\", \"alleges\", \"alleges\", \"alleges\", \"alleges\", \"allowance\", \"allowance\", \"allowance\", \"allowance\", \"annualized\", \"annualized\", \"annualized\", \"annualized\", \"appearing\", \"appearing\", \"appearing\", \"appearing\", \"appearing\", \"appropriation\", \"appropriation\", \"appropriation\", \"appropriation\", \"archived\", \"archived\", \"archived\", \"archived\", \"archived\", \"are\", \"are\", \"are\", \"are\", \"artificially\", \"artificially\", \"artificially\", \"artificially\", \"artificially\", \"asbestos\", \"asbestos\", \"asbestos\", \"asbestos\", \"asset\", \"asset\", \"asset\", \"asset\", \"asset\", \"audit\", \"audit\", \"audit\", \"audit\", \"audit\", \"authentication\", \"authentication\", \"authentication\", \"award\", \"award\", \"award\", \"award\", \"award\", \"awarded\", \"awarded\", \"awarded\", \"awarded\", \"awarded\", \"bank\", \"bank\", \"bank\", \"bank\", \"bank\", \"board\", \"board\", \"board\", \"board\", \"board\", \"bona\", \"bona\", \"bona\", \"bona\", \"bond\", \"bond\", \"bond\", \"bond\", \"bond\", \"bonus\", \"bonus\", \"bonus\", \"bonus\", \"bonus\", \"book\", \"book\", \"book\", \"book\", \"book\", \"borrowing\", \"borrowing\", \"borrowing\", \"borrowing\", \"borrowing\", \"breakout\", \"breakout\", \"breakout\", \"breakout\", \"breakout\", \"brokerage\", \"brokerage\", \"brokerage\", \"brokerage\", \"brokerage\", \"brokerdealer\", \"brokerdealer\", \"brokerdealer\", \"brokerdealer\", \"brokerdealer\", \"bucket\", \"bucket\", \"bucket\", \"bucket\", \"budget\", \"budget\", \"budget\", \"budget\", \"budget\", \"buyback\", \"buyback\", \"buyback\", \"cartesian\", \"cartesian\", \"cartesian\", \"cartesian\", \"chief\", \"chief\", \"chief\", \"chief\", \"chief\", \"client\", \"client\", \"client\", \"client\", \"client\", \"clinic\", \"clinic\", \"clinic\", \"clinic\", \"collected\", \"collected\", \"collected\", \"collected\", \"collected\", \"committee\", \"committee\", \"committee\", \"committee\", \"committee\", \"company\", \"company\", \"company\", \"company\", \"company\", \"complaint\", \"complaint\", \"complaint\", \"complaint\", \"complaint\", \"compliance\", \"compliance\", \"compliance\", \"compliance\", \"compliance\", \"confidence\", \"confidence\", \"confidence\", \"confidence\", \"confidence\", \"confidentiality\", \"confidentiality\", \"confidentiality\", \"confidentiality\", \"confidentiality\", \"congressional\", \"congressional\", \"congressional\", \"congressional\", \"congressional\", \"control\", \"control\", \"control\", \"control\", \"control\", \"coronavirus\", \"coronavirus\", \"coronavirus\", \"coronavirus\", \"coronavirus\", \"court\", \"court\", \"court\", \"court\", \"court\", \"credible\", \"credible\", \"credible\", \"credible\", \"credible\", \"credit\", \"credit\", \"credit\", \"credit\", \"credit\", \"customer\", \"customer\", \"customer\", \"customer\", \"customer\", \"cyber\", \"cyber\", \"cyber\", \"cyber\", \"cyber\", \"cyberrelated\", \"cyberrelated\", \"cyberrelated\", \"cyberrelated\", \"cyberrelated\", \"cybersecurity\", \"cybersecurity\", \"cybersecurity\", \"cybersecurity\", \"cybersecurity\", \"decinces\", \"decinces\", \"decinces\", \"degree\", \"degree\", \"degree\", \"degree\", \"degree\", \"depositary\", \"depositary\", \"depositary\", \"depositary\", \"depositary\", \"devere\", \"devere\", \"devere\", \"devere\", \"devere\", \"disclosure\", \"disclosure\", \"disclosure\", \"disclosure\", \"disclosure\", \"distributor\", \"distributor\", \"distributor\", \"distributor\", \"distributor\", \"doe\", \"doe\", \"doe\", \"doe\", \"doe\", \"donnelly\", \"donnelly\", \"donnelly\", \"donnelly\", \"eadgear\", \"eadgear\", \"eadgear\", \"ecareer\", \"ecareer\", \"ecareer\", \"edward\", \"edward\", \"edward\", \"edward\", \"elder\", \"elder\", \"elder\", \"elder\", \"elder\", \"elderly\", \"elderly\", \"elderly\", \"elderly\", \"elderly\", \"eligible\", \"eligible\", \"eligible\", \"eligible\", \"eligible\", \"email\", \"email\", \"email\", \"email\", \"email\", \"enactment\", \"enactment\", \"enactment\", \"enactment\", \"enforcement\", \"enforcement\", \"enforcement\", \"enforcement\", \"enforcement\", \"engine\", \"engine\", \"engine\", \"engine\", \"entirely\", \"entirely\", \"entirely\", \"entirely\", \"entirely\", \"equitas\", \"equitas\", \"equitas\", \"equitas\", \"evangelical\", \"evangelical\", \"evangelical\", \"evangelical\", \"exceed\", \"exceed\", \"exceed\", \"exceed\", \"exceed\", \"exhibit\", \"exhibit\", \"exhibit\", \"exhibit\", \"failed\", \"failed\", \"failed\", \"failed\", \"failed\", \"fee\", \"fee\", \"fee\", \"fee\", \"fee\", \"fide\", \"fide\", \"fide\", \"fide\", \"fide\", \"financed\", \"financed\", \"financed\", \"financed\", \"financed\", \"financial\", \"financial\", \"financial\", \"financial\", \"financial\", \"find\", \"find\", \"find\", \"find\", \"find\", \"firm\", \"firm\", \"firm\", \"firm\", \"firm\", \"flight\", \"flight\", \"flight\", \"flight\", \"foreign\", \"foreign\", \"foreign\", \"foreign\", \"foreign\", \"former\", \"former\", \"former\", \"former\", \"former\", \"forum\", \"forum\", \"forum\", \"forum\", \"forum\", \"freeze\", \"freeze\", \"freeze\", \"freeze\", \"freeze\", \"friend\", \"friend\", \"friend\", \"friend\", \"friend\", \"fund\", \"fund\", \"fund\", \"fund\", \"fund\", \"fundoffunds\", \"fundoffunds\", \"fundoffunds\", \"fundoffunds\", \"furthers\", \"furthers\", \"furthers\", \"fy\", \"fy\", \"fy\", \"fy\", \"generator\", \"generator\", \"generator\", \"generator\", \"goodwill\", \"goodwill\", \"goodwill\", \"goodwill\", \"gravitational\", \"gravitational\", \"gravitational\", \"gravitational\", \"ha\", \"ha\", \"ha\", \"ha\", \"ha\", \"hangar\", \"hangar\", \"hangar\", \"hangar\", \"harmed\", \"harmed\", \"harmed\", \"harmed\", \"harmed\", \"heater\", \"heater\", \"heater\", \"heater\", \"hereuare\", \"hereuare\", \"hereuare\", \"hog\", \"hog\", \"hog\", \"hog\", \"honor\", \"honor\", \"honor\", \"honor\", \"honor\", \"human\", \"human\", \"human\", \"human\", \"human\", \"identity\", \"identity\", \"identity\", \"identity\", \"identity\", \"ill\", \"ill\", \"ill\", \"ill\", \"ill\", \"immunity\", \"immunity\", \"immunity\", \"immunity\", \"impersonator\", \"impersonator\", \"impersonator\", \"impersonator\", \"impersonator\", \"improper\", \"improper\", \"improper\", \"improper\", \"improper\", \"incentivebased\", \"incentivebased\", \"incentivebased\", \"incentivebased\", \"information\", \"information\", \"information\", \"information\", \"information\", \"insider\", \"insider\", \"insider\", \"insider\", \"insider\", \"internal\", \"internal\", \"internal\", \"internal\", \"internal\", \"internship\", \"internship\", \"internship\", \"internship\", \"intruder\", \"intruder\", \"intruder\", \"intruder\", \"invested\", \"invested\", \"invested\", \"invested\", \"invested\", \"investment\", \"investment\", \"investment\", \"investment\", \"investment\", \"investor\", \"investor\", \"investor\", \"investor\", \"investor\", \"ipayment\", \"ipayment\", \"ipayment\", \"ipayment\", \"itrackr\", \"itrackr\", \"itrackr\", \"law\", \"law\", \"law\", \"law\", \"law\", \"lien\", \"lien\", \"lien\", \"lien\", \"list\", \"list\", \"list\", \"list\", \"list\", \"loan\", \"loan\", \"loan\", \"loan\", \"loan\", \"manipulate\", \"manipulate\", \"manipulate\", \"manipulate\", \"manipulate\", \"marker\", \"marker\", \"marker\", \"marker\", \"market\", \"market\", \"market\", \"market\", \"market\", \"matter\", \"matter\", \"matter\", \"matter\", \"matter\", \"meeting\", \"meeting\", \"meeting\", \"meeting\", \"meeting\", \"member\", \"member\", \"member\", \"member\", \"member\", \"merit\", \"merit\", \"merit\", \"merit\", \"merit\", \"midyear\", \"midyear\", \"midyear\", \"midyear\", \"million\", \"million\", \"million\", \"million\", \"million\", \"misstated\", \"misstated\", \"misstated\", \"misstated\", \"misstated\", \"monetary\", \"monetary\", \"monetary\", \"monetary\", \"monetary\", \"money\", \"money\", \"money\", \"money\", \"money\", \"movie\", \"movie\", \"movie\", \"movie\", \"movie\", \"municipal\", \"municipal\", \"municipal\", \"municipal\", \"municipal\", \"naked\", \"naked\", \"naked\", \"nephew\", \"nephew\", \"nephew\", \"nephew\", \"neve\", \"neve\", \"neve\", \"neve\", \"new\", \"new\", \"new\", \"new\", \"new\", \"newsletter\", \"newsletter\", \"newsletter\", \"newsletter\", \"newsletter\", \"nominating\", \"nominating\", \"nominating\", \"nominating\", \"nongaap\", \"nongaap\", \"nongaap\", \"note\", \"note\", \"note\", \"note\", \"note\", \"notice\", \"notice\", \"notice\", \"notice\", \"notice\", \"odd\", \"odd\", \"odd\", \"odd\", \"offering\", \"offering\", \"offering\", \"offering\", \"offering\", \"office\", \"office\", \"office\", \"office\", \"office\", \"option\", \"option\", \"option\", \"option\", \"option\", \"optionsxpress\", \"optionsxpress\", \"optionsxpress\", \"order\", \"order\", \"order\", \"order\", \"order\", \"original\", \"original\", \"original\", \"original\", \"original\", \"overstated\", \"overstated\", \"overstated\", \"overstated\", \"overstated\", \"panel\", \"panel\", \"panel\", \"panel\", \"panel\", \"panelist\", \"panelist\", \"panelist\", \"panelist\", \"panelist\", \"paper\", \"paper\", \"paper\", \"paper\", \"paper\", \"patent\", \"patent\", \"patent\", \"patent\", \"pay\", \"pay\", \"pay\", \"pay\", \"pay\", \"payable\", \"payable\", \"payable\", \"payable\", \"payable\", \"per\", \"per\", \"per\", \"per\", \"per\", \"percent\", \"percent\", \"percent\", \"percent\", \"percent\", \"plaintiff\", \"plaintiff\", \"plaintiff\", \"plaintiff\", \"plaintiff\", \"pm\", \"pm\", \"pm\", \"pm\", \"pm\", \"practicing\", \"practicing\", \"practicing\", \"practicing\", \"practicing\", \"preclearance\", \"preclearance\", \"preclearance\", \"preclearance\", \"prerelease\", \"prerelease\", \"prerelease\", \"prerelease\", \"prerelease\", \"prereleased\", \"prereleased\", \"prereleased\", \"prereleased\", \"preyed\", \"preyed\", \"preyed\", \"preyed\", \"price\", \"price\", \"price\", \"price\", \"price\", \"procedure\", \"procedure\", \"procedure\", \"procedure\", \"procedure\", \"program\", \"program\", \"program\", \"program\", \"program\", \"promissory\", \"promissory\", \"promissory\", \"promissory\", \"promissory\", \"protects\", \"protects\", \"protects\", \"protects\", \"protects\", \"public\", \"public\", \"public\", \"public\", \"public\", \"pullin\", \"pullin\", \"pullin\", \"quadgraphics\", \"quadgraphics\", \"quadgraphics\", \"quadgraphics\", \"quarter\", \"quarter\", \"quarter\", \"quarter\", \"quarter\", \"quotation\", \"quotation\", \"quotation\", \"quotation\", \"quotation\", \"quote\", \"quote\", \"quote\", \"quote\", \"radiant\", \"radiant\", \"radiant\", \"radiant\", \"rate\", \"rate\", \"rate\", \"rate\", \"rate\", \"rating\", \"rating\", \"rating\", \"rating\", \"rating\", \"recommendation\", \"recommendation\", \"recommendation\", \"recommendation\", \"recommendation\", \"record\", \"record\", \"record\", \"record\", \"record\", \"refer\", \"refer\", \"refer\", \"refer\", \"refer\", \"regional\", \"regional\", \"regional\", \"regional\", \"regional\", \"reinstatement\", \"reinstatement\", \"reinstatement\", \"reinstatement\", \"reinstatement\", \"rejoining\", \"rejoining\", \"rejoining\", \"rejoining\", \"rejoining\", \"report\", \"report\", \"report\", \"report\", \"report\", \"reporting\", \"reporting\", \"reporting\", \"reporting\", \"reporting\", \"restaurant\", \"restaurant\", \"restaurant\", \"restaurant\", \"restaurant\", \"return\", \"return\", \"return\", \"return\", \"return\", \"reveal\", \"reveal\", \"reveal\", \"reveal\", \"reveal\", \"revenue\", \"revenue\", \"revenue\", \"revenue\", \"revenue\", \"revenuesharing\", \"revenuesharing\", \"revenuesharing\", \"revenuesharing\", \"robot\", \"robot\", \"robot\", \"robot\", \"robot\", \"role\", \"role\", \"role\", \"role\", \"role\", \"rule\", \"rule\", \"rule\", \"rule\", \"rule\", \"rulecomments\", \"rulecomments\", \"rulecomments\", \"rulecomments\", \"rulecomments\", \"sale\", \"sale\", \"sale\", \"sale\", \"sale\", \"salesman\", \"salesman\", \"salesman\", \"salesman\", \"sanction\", \"sanction\", \"sanction\", \"sanction\", \"sanction\", \"scheme\", \"scheme\", \"scheme\", \"scheme\", \"scheme\", \"secgov\", \"secgov\", \"secgov\", \"secgov\", \"secgov\", \"section\", \"section\", \"section\", \"section\", \"section\", \"security\", \"security\", \"security\", \"security\", \"security\", \"segment\", \"segment\", \"segment\", \"segment\", \"segment\", \"selfassessments\", \"selfassessments\", \"selfassessments\", \"seminar\", \"seminar\", \"seminar\", \"seminar\", \"seminar\", \"senior\", \"senior\", \"senior\", \"senior\", \"senior\", \"serve\", \"serve\", \"serve\", \"serve\", \"serve\", \"served\", \"served\", \"served\", \"served\", \"served\", \"share\", \"share\", \"share\", \"share\", \"share\", \"soft\", \"soft\", \"soft\", \"soft\", \"solicit\", \"solicit\", \"solicit\", \"solicit\", \"solicit\", \"soliciting\", \"soliciting\", \"soliciting\", \"soliciting\", \"soliciting\", \"staff\", \"staff\", \"staff\", \"staff\", \"staff\", \"staffled\", \"staffled\", \"staffled\", \"staffled\", \"statement\", \"statement\", \"statement\", \"statement\", \"statement\", \"stock\", \"stock\", \"stock\", \"stock\", \"stock\", \"streetbased\", \"streetbased\", \"streetbased\", \"streetbased\", \"structure\", \"structure\", \"structure\", \"structure\", \"structure\", \"submission\", \"submission\", \"submission\", \"submission\", \"submission\", \"submit\", \"submit\", \"submit\", \"submit\", \"submit\", \"subpoena\", \"subpoena\", \"subpoena\", \"subpoena\", \"subpoena\", \"subsidiary\", \"subsidiary\", \"subsidiary\", \"subsidiary\", \"subsidiary\", \"successful\", \"successful\", \"successful\", \"successful\", \"successful\", \"swing\", \"swing\", \"swing\", \"swing\", \"talented\", \"talented\", \"talented\", \"talented\", \"talented\", \"teleconference\", \"teleconference\", \"teleconference\", \"teleconference\", \"teleconference\", \"terminally\", \"terminally\", \"terminally\", \"terminally\", \"terminally\", \"tick\", \"tick\", \"tick\", \"tick\", \"tip\", \"tip\", \"tip\", \"tip\", \"tip\", \"token\", \"token\", \"token\", \"token\", \"token\", \"told\", \"told\", \"told\", \"told\", \"told\", \"town\", \"town\", \"town\", \"town\", \"town\", \"trader\", \"trader\", \"trader\", \"trader\", \"trader\", \"trading\", \"trading\", \"trading\", \"trading\", \"trading\", \"tradingandmarkets\", \"tradingandmarkets\", \"tradingandmarkets\", \"tradingandmarkets\", \"tradingandmarkets\", \"tribal\", \"tribal\", \"tribal\", \"tribal\", \"trustee\", \"trustee\", \"trustee\", \"trustee\", \"tweet\", \"tweet\", \"tweet\", \"tweet\", \"tweet\", \"ubiome\", \"ubiome\", \"ubiome\", \"unit\", \"unit\", \"unit\", \"unit\", \"unit\", \"upfront\", \"upfront\", \"upfront\", \"valuation\", \"valuation\", \"valuation\", \"valuation\", \"valuation\", \"van\", \"van\", \"van\", \"viewing\", \"viewing\", \"viewing\", \"viewing\", \"viewing\", \"violator\", \"violator\", \"violator\", \"violator\", \"violator\", \"visit\", \"visit\", \"visit\", \"visit\", \"visit\", \"voluntarily\", \"voluntarily\", \"voluntarily\", \"voluntarily\", \"voluntarily\", \"wa\", \"wa\", \"wa\", \"wa\", \"wa\", \"webcast\", \"webcast\", \"webcast\", \"webcast\", \"webcast\", \"webinar\", \"webinar\", \"webinar\", \"webinar\", \"whistleblower\", \"whistleblower\", \"whistleblower\", \"whistleblower\", \"whistleblower\", \"widely\", \"widely\", \"widely\", \"widely\", \"widely\", \"withheld\", \"withheld\", \"withheld\", \"withheld\", \"withheld\", \"workforce\", \"workforce\", \"workforce\", \"workforce\", \"would\", \"would\", \"would\", \"would\", \"would\", \"wrap\", \"wrap\", \"wrap\", \"wrap\", \"wrap\", \"wrightolivares\", \"wrightolivares\", \"wrightolivares\", \"wrightolivares\", \"wrongfully\", \"wrongfully\", \"wrongfully\", \"wrongfully\", \"wrongfully\", \"wwwsecgov\", \"wwwsecgov\", \"wwwsecgov\", \"wwwsecgov\", \"wwwsecgov\", \"wwwsecgovwhistleblower\", \"wwwsecgovwhistleblower\", \"wwwsecgovwhistleblower\", \"wwwsecgovwhistleblower\", \"wwwsecgovwhistleblower\"]}, \"R\": 30, \"lambda.step\": 0.01, \"plot.opts\": {\"xlab\": \"PC1\", \"ylab\": \"PC2\"}, \"topic.order\": [1, 2, 3, 4, 5]};\n",
       "\n",
       "function LDAvis_load_lib(url, callback){\n",
       "  var s = document.createElement('script');\n",
       "  s.src = url;\n",
       "  s.async = true;\n",
       "  s.onreadystatechange = s.onload = callback;\n",
       "  s.onerror = function(){console.warn(\"failed to load library \" + url);};\n",
       "  document.getElementsByTagName(\"head\")[0].appendChild(s);\n",
       "}\n",
       "\n",
       "if(typeof(LDAvis) !== \"undefined\"){\n",
       "   // already loaded: just create the visualization\n",
       "   !function(LDAvis){\n",
       "       new LDAvis(\"#\" + \"ldavis_el468061398493054408807201128730\", ldavis_el468061398493054408807201128730_data);\n",
       "   }(LDAvis);\n",
       "}else if(typeof define === \"function\" && define.amd){\n",
       "   // require.js is available: use it to load d3/LDAvis\n",
       "   require.config({paths: {d3: \"https://d3js.org/d3.v5\"}});\n",
       "   require([\"d3\"], function(d3){\n",
       "      window.d3 = d3;\n",
       "      LDAvis_load_lib(\"https://cdn.jsdelivr.net/gh/bmabey/pyLDAvis@3.3.1/pyLDAvis/js/ldavis.v3.0.0.js\", function(){\n",
       "        new LDAvis(\"#\" + \"ldavis_el468061398493054408807201128730\", ldavis_el468061398493054408807201128730_data);\n",
       "      });\n",
       "    });\n",
       "}else{\n",
       "    // require.js not available: dynamically load d3 & LDAvis\n",
       "    LDAvis_load_lib(\"https://d3js.org/d3.v5.js\", function(){\n",
       "         LDAvis_load_lib(\"https://cdn.jsdelivr.net/gh/bmabey/pyLDAvis@3.3.1/pyLDAvis/js/ldavis.v3.0.0.js\", function(){\n",
       "                 new LDAvis(\"#\" + \"ldavis_el468061398493054408807201128730\", ldavis_el468061398493054408807201128730_data);\n",
       "            })\n",
       "         });\n",
       "}\n",
       "</script>"
      ],
      "text/plain": [
       "<IPython.core.display.HTML object>"
      ]
     },
     "execution_count": 12,
     "metadata": {},
     "output_type": "execute_result"
    }
   ],
   "source": [
    "from pyLDAvis import gensim_models\n",
    "import pyLDAvis\n",
    "\n",
    "lda_display = gensim_models.prepare(lda_model_tfidf, BoW_corpus, dictionary, sort_topics=False)\n",
    "pyLDAvis.display(lda_display)"
   ]
  },
  {
   "cell_type": "code",
   "execution_count": 13,
   "id": "e68a7e3c",
   "metadata": {},
   "outputs": [
    {
     "name": "stderr",
     "output_type": "stream",
     "text": [
      "/home/abaksy/.local/lib/python3.8/site-packages/ipykernel/ipkernel.py:283: DeprecationWarning: `should_run_async` will not call `transform_cell` automatically in the future. Please pass the result to `transformed_cell` argument and any exception that happen during thetransform in `preprocessing_exc_tuple` in IPython 7.17 and above.\n",
      "  and should_run_async(code)\n"
     ]
    }
   ],
   "source": [
    "top_list = []\n",
    "def get_topic_details(ldamodel, corpus):\n",
    "    topic_details_df = pd.DataFrame()\n",
    "    for i, row in enumerate(ldamodel[corpus]):\n",
    "        row = sorted(row, key=lambda x: (x[1]), reverse=True)\n",
    "        for j, (topic_num, prop_topic) in enumerate(row):\n",
    "            if j == 0:  # => dominant topic\n",
    "                wp = ldamodel.show_topic(topic_num)\n",
    "                topic_details_df = topic_details_df.append(pd.Series([topic_num, prop_topic]), ignore_index=True)\n",
    "                top_list.append(topic_num)\n",
    "    topic_details_df.columns = ['Dominant_Topic', '% Score']\n",
    "    return topic_details_df, top_list"
   ]
  },
  {
   "cell_type": "code",
   "execution_count": 14,
   "id": "b87a9cf1",
   "metadata": {},
   "outputs": [
    {
     "name": "stderr",
     "output_type": "stream",
     "text": [
      "/home/abaksy/.local/lib/python3.8/site-packages/ipykernel/ipkernel.py:283: DeprecationWarning: `should_run_async` will not call `transform_cell` automatically in the future. Please pass the result to `transformed_cell` argument and any exception that happen during thetransform in `preprocessing_exc_tuple` in IPython 7.17 and above.\n",
      "  and should_run_async(code)\n"
     ]
    },
    {
     "name": "stdout",
     "output_type": "stream",
     "text": [
      "   Dominant_Topic   % Score  \\\n",
      "0             1.0  0.556948   \n",
      "1             2.0  0.995005   \n",
      "2             2.0  0.902440   \n",
      "3             4.0  0.565145   \n",
      "4             2.0  0.867696   \n",
      "\n",
      "                                       Original text  flag  \n",
      "0  [first, joint, open, meeting, vote, rulemaking...     0  \n",
      "1  [today, charged, swedish, national, living, co...     0  \n",
      "2  [today, announced, filed, emergency, enforceme...     0  \n",
      "3  [today, released, updated, roster, executive, ...     0  \n",
      "4  [today, announced, charge, virginiabased, chie...     0  \n"
     ]
    }
   ],
   "source": [
    "contents = pd.DataFrame({'Original text': clean_texts})\n",
    "t_df, toplist = get_topic_details(lda_model_tfidf, BoW_corpus)\n",
    "topic_details = pd.concat([t_df, contents], axis=1)\n",
    "\n",
    "# Create flag for text highest associated with topic 3\n",
    "topic_details['flag'] = np.where((topic_details['Dominant_Topic'] == 3.0), 1, 0)\n",
    "print(topic_details.head())"
   ]
  },
  {
   "cell_type": "code",
   "execution_count": 15,
   "id": "a2a7e671",
   "metadata": {},
   "outputs": [
    {
     "name": "stdout",
     "output_type": "stream",
     "text": [
      "Roc_Auc: 0.505\n",
      "\n",
      "F1 Score: 0.03349282296650718\n",
      "Classifcation report:\n",
      "               precision    recall  f1-score   support\n",
      "\n",
      "           0       0.85      0.99      0.92      2257\n",
      "           1       0.26      0.02      0.03       391\n",
      "\n",
      "    accuracy                           0.85      2648\n",
      "   macro avg       0.56      0.50      0.48      2648\n",
      "weighted avg       0.77      0.85      0.79      2648\n",
      "\n"
     ]
    },
    {
     "name": "stderr",
     "output_type": "stream",
     "text": [
      "/home/abaksy/.local/lib/python3.8/site-packages/ipykernel/ipkernel.py:283: DeprecationWarning: `should_run_async` will not call `transform_cell` automatically in the future. Please pass the result to `transformed_cell` argument and any exception that happen during thetransform in `preprocessing_exc_tuple` in IPython 7.17 and above.\n",
      "  and should_run_async(code)\n"
     ]
    }
   ],
   "source": [
    "from sklearn.metrics import classification_report, confusion_matrix, r2_score, roc_auc_score, f1_score\n",
    "\n",
    "y_true = df['Fraud']\n",
    "y_predict = topic_details['flag']\n",
    "\n",
    "print(f\"Roc_Auc: {roc_auc_score(y_true, y_predict):0.3f}\\n\")\n",
    "print(f\"F1 Score: {f1_score(y_true, y_predict)}\")\n",
    "\n",
    "print('Classifcation report:\\n', classification_report(y_true, y_predict))\n",
    "\n",
    "class_names = np.array(['Non-Fraud', 'Fraud'])"
   ]
  },
  {
   "cell_type": "code",
   "execution_count": null,
   "id": "25a12368",
   "metadata": {},
   "outputs": [],
   "source": []
  }
 ],
 "metadata": {
  "kernelspec": {
   "display_name": "Python 3",
   "language": "python",
   "name": "python3"
  },
  "language_info": {
   "codemirror_mode": {
    "name": "ipython",
    "version": 3
   },
   "file_extension": ".py",
   "mimetype": "text/x-python",
   "name": "python",
   "nbconvert_exporter": "python",
   "pygments_lexer": "ipython3",
   "version": "3.8.5"
  }
 },
 "nbformat": 4,
 "nbformat_minor": 5
}
