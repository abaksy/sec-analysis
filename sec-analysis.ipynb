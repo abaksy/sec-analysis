{
 "cells": [
  {
   "cell_type": "markdown",
   "metadata": {},
   "source": [
    "# Import Modules"
   ]
  },
  {
   "cell_type": "code",
   "execution_count": 1,
   "metadata": {},
   "outputs": [],
   "source": [
    "import pandas as pd\n",
    "import numpy as np\n",
    "import matplotlib.pyplot as plt\n",
    "\n",
    "from nltk.stem import WordNetLemmatizer\n",
    "from nltk.stem import PorterStemmer\n",
    "from nltk.tokenize import word_tokenize, sent_tokenize\n",
    "from nltk import pos_tag\n",
    "from nltk.corpus import stopwords\n",
    "\n",
    "from gensim import models\n",
    "from gensim.corpora import Dictionary\n",
    "\n",
    "import re\n",
    "import string\n",
    "import sys\n",
    "import os\n",
    "import pickle\n",
    "\n",
    "import warnings\n",
    "warnings.filterwarnings(\"ignore\")"
   ]
  },
  {
   "cell_type": "code",
   "execution_count": 10,
   "metadata": {},
   "outputs": [],
   "source": [
    "def load_fileslist(dirname):\n",
    "    '''\n",
    "    Input: A directory containing SEC articles\n",
    "    Output: A list of filepaths for the original data and the cleaned data\n",
    "    \n",
    "    Saves the two files lists into pickle files to be loaded later\n",
    "    If pickle files already exist then just open instead of creating new pickle files\n",
    "    '''\n",
    "    if \"fileslist.pkl\" not in os.listdir(\".\"):\n",
    "        files_list = list()\n",
    "        clean_files_list = list()\n",
    "        for data_dir in os.listdir(f\"./{dirname}\"):\n",
    "            if data_dir.startswith(\"Year_\"):\n",
    "                for fname in os.listdir(f\"{dirname}/{data_dir}\"):\n",
    "                    files_list.append(f\"{dirname}/{data_dir}/{fname}\")\n",
    "                    clean_files_list.append(f\"Clean_{dirname}/{data_dir}/{fname}\")\n",
    "        filename = f\"fileslist_{dirname}.pkl\"\n",
    "        with open(filename, \"wb\") as f:\n",
    "            pickle.dump(files_list, f)\n",
    "        clean_filename = f\"cleanfileslist_{dirname}.pkl\"\n",
    "        with open(clean_filename, \"wb\") as f:\n",
    "            pickle.dump(clean_files_list, f)\n",
    "    else:\n",
    "        with open(f\"fileslist_{dirname}.pkl\", \"rb\") as f:\n",
    "            files_list = pickle.load(f)\n",
    "        with open(f\"cleanfileslist_{dirname}.pkl\", \"rb\") as f:\n",
    "            clean_files_list = pickle.load(f)\n",
    "    return files_list, clean_files_list"
   ]
  },
  {
   "cell_type": "markdown",
   "metadata": {},
   "source": [
    "# Cleaning"
   ]
  },
  {
   "cell_type": "code",
   "execution_count": 11,
   "metadata": {},
   "outputs": [],
   "source": [
    "stop = stopwords.words('english')\n",
    "punkt = list(string.punctuation)\n",
    "\n",
    "lem = WordNetLemmatizer()\n",
    "\n",
    "def stopword_remover(x): return ' '.join(\n",
    "    [word for word in x.split() if word not in (stop)])\n",
    "\n",
    "\n",
    "def cleanText(text: str):\n",
    "    '''\n",
    "    Input: Uncleaned text as string\n",
    "    Output: Cleaned text as string\n",
    "    '''\n",
    "    \n",
    "    #Remove URL\n",
    "    url_remove = re.sub(\n",
    "        r\"(https?:\\/\\/(?:www\\.|(?!www))[a-zA-Z0-9][a-zA-Z0-9-]+[a-zA-Z0-9]\\.[^\\s]{2,}|www\\.[a-zA-Z0-9][a-zA-Z0-9-]+[a-zA-Z0-9]\\.[^\\s]{2,}|https?:\\/\\/(?:www\\.|(?!www))[a-zA-Z0-9]+\\.[^\\s]{2,}|www\\.[a-zA-Z0-9]+\\.[^\\s]{2,})\", '', text)\n",
    "    lem = WordNetLemmatizer()\n",
    "    sentences = sent_tokenize(text)\n",
    "    document = list()\n",
    "    doc_word_list = list()\n",
    "    for sent in sentences:\n",
    "        lemmas = list()\n",
    "        #Text -> List of words\n",
    "        words = word_tokenize(sent)\n",
    "        pos_tags = pos_tag(words)\n",
    "        word_new = list()\n",
    "        for tag in pos_tags:\n",
    "            if tag[1] not in [\"NNP\", \"NNPS\"]:\n",
    "                #List of words -> List of words without proper nouns\n",
    "                word_new.append(tag[0])\n",
    "        for w in word_new:\n",
    "            #List of words -> List of lemmas\n",
    "            lem_word = lem.lemmatize(w)\n",
    "            lemmas.append(lem_word)\n",
    "        # List of lemmas -> Sentence\n",
    "        sentence = ' '.join(lemmas)\n",
    "        # Sentence -> List of sentences\n",
    "        document.append(sentence)\n",
    "    # List of sentences -> Text string\n",
    "    clean_text = ' '.join(document)\n",
    "    # To lower case\n",
    "    clean_text = clean_text.lower()\n",
    "    clean_text = re.sub(r'[^\\w\\s]', '', clean_text)\n",
    "    clean_text = stopword_remover(clean_text)\n",
    "    return clean_text"
   ]
  },
  {
   "cell_type": "code",
   "execution_count": 12,
   "metadata": {},
   "outputs": [],
   "source": [
    "df = pd.DataFrame(columns=[\"Title\", \"Article_ID\", \"Date_Place\", \"Text\", \"Clean_Text\"])"
   ]
  },
  {
   "cell_type": "code",
   "execution_count": 15,
   "metadata": {},
   "outputs": [
    {
     "name": "stdout",
     "output_type": "stream",
     "text": [
      "Generated 2654 cleaned files\n"
     ]
    }
   ],
   "source": [
    "files_list, clean_files_list = load_fileslist(\"Data\")\n",
    "lem = WordNetLemmatizer()\n",
    "\n",
    "if not os.path.exists(\"Clean_Data\"):\n",
    "    os.mkdir(\"Clean_Data\")\n",
    "    for dirname in os.listdir(\"Data\"):\n",
    "        os.mkdir(f\"Clean_Data/{dirname}\")\n",
    "data_cleaned = False\n",
    "counter = 0\n",
    "if not data_cleaned:\n",
    "    for fname, clean_fname in zip(files_list, clean_files_list):\n",
    "        #print(f\"Cleaning {fname}\")\n",
    "        with open(fname, \"r\", encoding=\"utf-8\") as f:\n",
    "            content = f.read()\n",
    "        if content != '':\n",
    "            content = content.split(\"\\n\")\n",
    "            title, art_id, place_date = content[:3]\n",
    "            text = content[3:]\n",
    "            text = '\\n'.join(text)\n",
    "            clean_text = cleanText(text)        \n",
    "            sents = sent_tokenize(clean_text)\n",
    "            document = list()\n",
    "            for sent in sents:\n",
    "                lem_words = list()\n",
    "                words = word_tokenize(sent)\n",
    "                for w in words:\n",
    "                    lem_word = lem.lemmatize(w)\n",
    "                    lem_words.append(lem_word)\n",
    "                document += lem_words\n",
    "                #print(\"Clean text of length:\", len(clean_text))\n",
    "            row = {\"Title\":title, \"Article_ID\":art_id, \"Date_Place\": place_date, \n",
    "                   \"Text\":clean_text, \"Clean_Text\":str(document)}\n",
    "            df = df.append(row, ignore_index = True)\n",
    "            f1 = open(clean_fname, \"w\")\n",
    "            f1.write(f\"{title}\\n{art_id}\\n{place_date}\\n{clean_text}\\n\")\n",
    "            f1.close()\n",
    "            counter += 1\n",
    "        else:\n",
    "            pass\n",
    "    print(f\"Generated {counter} cleaned files\")"
   ]
  },
  {
   "cell_type": "code",
   "execution_count": 21,
   "metadata": {},
   "outputs": [],
   "source": [
    "#df = df.drop(\"Fraud\", axis=1)"
   ]
  },
  {
   "cell_type": "code",
   "execution_count": 16,
   "metadata": {},
   "outputs": [],
   "source": [
    "labels = []\n",
    "fraud_words = set([\"fraud\", \"whistleblower\", \"complaint\", \"disclosure\", \"charge\"])\n",
    "\n",
    "for _, row in df.iterrows():\n",
    "    title = row[\"Title\"]\n",
    "    text = set(eval(row[\"Clean_Text\"]))\n",
    "    if \"fraud\" in title.lower() and text.intersection(fraud_words) != set():\n",
    "        labels.append(1)\n",
    "    else:\n",
    "        labels.append(0)\n",
    "\n",
    "df.insert(5, \"Fraud\", labels, True)"
   ]
  },
  {
   "cell_type": "code",
   "execution_count": 17,
   "metadata": {},
   "outputs": [
    {
     "data": {
      "text/html": [
       "<div>\n",
       "<style scoped>\n",
       "    .dataframe tbody tr th:only-of-type {\n",
       "        vertical-align: middle;\n",
       "    }\n",
       "\n",
       "    .dataframe tbody tr th {\n",
       "        vertical-align: top;\n",
       "    }\n",
       "\n",
       "    .dataframe thead th {\n",
       "        text-align: right;\n",
       "    }\n",
       "</style>\n",
       "<table border=\"1\" class=\"dataframe\">\n",
       "  <thead>\n",
       "    <tr style=\"text-align: right;\">\n",
       "      <th></th>\n",
       "      <th>Title</th>\n",
       "      <th>Article_ID</th>\n",
       "      <th>Date_Place</th>\n",
       "      <th>Text</th>\n",
       "      <th>Clean_Text</th>\n",
       "      <th>Fraud</th>\n",
       "    </tr>\n",
       "  </thead>\n",
       "  <tbody>\n",
       "    <tr>\n",
       "      <th>0</th>\n",
       "      <td>SEC.gov | SEC Charges Two Feeders for One of S...</td>\n",
       "      <td>2012-2012-100htm</td>\n",
       "      <td>Washington, D.C.,           May 22, 2012 â€”</td>\n",
       "      <td>today charged two individual provided biggest ...</td>\n",
       "      <td>['today', 'charged', 'two', 'individual', 'pro...</td>\n",
       "      <td>0</td>\n",
       "    </tr>\n",
       "    <tr>\n",
       "      <th>1</th>\n",
       "      <td>SEC.gov | SEC Charges Two Feeders for One of S...</td>\n",
       "      <td>2012-2012-100htm</td>\n",
       "      <td>Washington, D.C.,           May 22, 2012 —</td>\n",
       "      <td>today charged two individual provided biggest ...</td>\n",
       "      <td>['today', 'charged', 'two', 'individual', 'pro...</td>\n",
       "      <td>0</td>\n",
       "    </tr>\n",
       "    <tr>\n",
       "      <th>2</th>\n",
       "      <td>SEC.gov | SEC Charges Northern California Fund...</td>\n",
       "      <td>2012-2012-101htm</td>\n",
       "      <td>Washington, D.C.,           May 24, 2012 —</td>\n",
       "      <td>today charged investment adviser running 60 mi...</td>\n",
       "      <td>['today', 'charged', 'investment', 'adviser', ...</td>\n",
       "      <td>0</td>\n",
       "    </tr>\n",
       "    <tr>\n",
       "      <th>3</th>\n",
       "      <td>SEC.gov | SEC Bars Former Staffer From Practic...</td>\n",
       "      <td>2012-2012-102htm</td>\n",
       "      <td>Washington, D.C.,           May 24, 2012 —</td>\n",
       "      <td>today announced ha barred former enforcement o...</td>\n",
       "      <td>['today', 'announced', 'ha', 'barred', 'former...</td>\n",
       "      <td>0</td>\n",
       "    </tr>\n",
       "    <tr>\n",
       "      <th>4</th>\n",
       "      <td>SEC.gov | SEC Halts Fraudulent Investment Sche...</td>\n",
       "      <td>2012-2012-103htm</td>\n",
       "      <td>Washington, D.C.,           May 25, 2012 —</td>\n",
       "      <td>today announced charge yorkbased fund manager ...</td>\n",
       "      <td>['today', 'announced', 'charge', 'yorkbased', ...</td>\n",
       "      <td>1</td>\n",
       "    </tr>\n",
       "  </tbody>\n",
       "</table>\n",
       "</div>"
      ],
      "text/plain": [
       "                                               Title        Article_ID  \\\n",
       "0  SEC.gov | SEC Charges Two Feeders for One of S...  2012-2012-100htm   \n",
       "1  SEC.gov | SEC Charges Two Feeders for One of S...  2012-2012-100htm   \n",
       "2  SEC.gov | SEC Charges Northern California Fund...  2012-2012-101htm   \n",
       "3  SEC.gov | SEC Bars Former Staffer From Practic...  2012-2012-102htm   \n",
       "4  SEC.gov | SEC Halts Fraudulent Investment Sche...  2012-2012-103htm   \n",
       "\n",
       "                                     Date_Place  \\\n",
       "0  Washington, D.C.,           May 22, 2012 â€”   \n",
       "1    Washington, D.C.,           May 22, 2012 —   \n",
       "2    Washington, D.C.,           May 24, 2012 —   \n",
       "3    Washington, D.C.,           May 24, 2012 —   \n",
       "4    Washington, D.C.,           May 25, 2012 —   \n",
       "\n",
       "                                                Text  \\\n",
       "0  today charged two individual provided biggest ...   \n",
       "1  today charged two individual provided biggest ...   \n",
       "2  today charged investment adviser running 60 mi...   \n",
       "3  today announced ha barred former enforcement o...   \n",
       "4  today announced charge yorkbased fund manager ...   \n",
       "\n",
       "                                          Clean_Text  Fraud  \n",
       "0  ['today', 'charged', 'two', 'individual', 'pro...      0  \n",
       "1  ['today', 'charged', 'two', 'individual', 'pro...      0  \n",
       "2  ['today', 'charged', 'investment', 'adviser', ...      0  \n",
       "3  ['today', 'announced', 'ha', 'barred', 'former...      0  \n",
       "4  ['today', 'announced', 'charge', 'yorkbased', ...      1  "
      ]
     },
     "execution_count": 17,
     "metadata": {},
     "output_type": "execute_result"
    }
   ],
   "source": [
    "df.head()"
   ]
  },
  {
   "cell_type": "code",
   "execution_count": 18,
   "metadata": {},
   "outputs": [],
   "source": [
    "df.to_csv(\"Clean_Data.csv\")"
   ]
  },
  {
   "cell_type": "code",
   "execution_count": 24,
   "metadata": {},
   "outputs": [
    {
     "data": {
      "text/plain": [
       "0    2264\n",
       "1     384\n",
       "Name: Fraud, dtype: int64"
      ]
     },
     "execution_count": 24,
     "metadata": {},
     "output_type": "execute_result"
    }
   ],
   "source": [
    "df[\"Fraud\"].value_counts()"
   ]
  },
  {
   "cell_type": "code",
   "execution_count": 25,
   "metadata": {},
   "outputs": [],
   "source": [
    "s0 = df.Fraud[df.Fraud.eq(0)].sample(350).index\n",
    "s1 = df.Fraud[df.Fraud.eq(1)].sample(350).index \n",
    "\n",
    "df1 = df.loc[s0.union(s1)]"
   ]
  },
  {
   "cell_type": "code",
   "execution_count": 26,
   "metadata": {},
   "outputs": [
    {
     "data": {
      "text/html": [
       "<div>\n",
       "<style scoped>\n",
       "    .dataframe tbody tr th:only-of-type {\n",
       "        vertical-align: middle;\n",
       "    }\n",
       "\n",
       "    .dataframe tbody tr th {\n",
       "        vertical-align: top;\n",
       "    }\n",
       "\n",
       "    .dataframe thead th {\n",
       "        text-align: right;\n",
       "    }\n",
       "</style>\n",
       "<table border=\"1\" class=\"dataframe\">\n",
       "  <thead>\n",
       "    <tr style=\"text-align: right;\">\n",
       "      <th></th>\n",
       "      <th>Title</th>\n",
       "      <th>Article_ID</th>\n",
       "      <th>Date_Place</th>\n",
       "      <th>Text</th>\n",
       "      <th>Clean_Text</th>\n",
       "      <th>Fraud</th>\n",
       "    </tr>\n",
       "  </thead>\n",
       "  <tbody>\n",
       "    <tr>\n",
       "      <th>1</th>\n",
       "      <td>SEC.gov | SEC Charges Swedish National with Gl...</td>\n",
       "      <td>2020-232</td>\n",
       "      <td>Washington D.C.,           Sept. 29, 2020 —</td>\n",
       "      <td>today charged swedish national living conducti...</td>\n",
       "      <td>['today', 'charged', 'swedish', 'national', 'l...</td>\n",
       "      <td>1</td>\n",
       "    </tr>\n",
       "    <tr>\n",
       "      <th>4</th>\n",
       "      <td>SEC.gov | SEC Charges Issuer and CEO With Misr...</td>\n",
       "      <td>2020-181</td>\n",
       "      <td>Washington D.C.,           Aug. 13, 2020 —</td>\n",
       "      <td>today announced charge virginiabased chief exe...</td>\n",
       "      <td>['today', 'announced', 'charge', 'virginiabase...</td>\n",
       "      <td>1</td>\n",
       "    </tr>\n",
       "    <tr>\n",
       "      <th>7</th>\n",
       "      <td>SEC.gov | SEC Adopts Rule Amendments to Modern...</td>\n",
       "      <td>2020-192</td>\n",
       "      <td>Washington D.C.,           Aug. 26, 2020 —</td>\n",
       "      <td>today announced voted adopt amendment moderniz...</td>\n",
       "      <td>['today', 'announced', 'voted', 'adopt', 'amen...</td>\n",
       "      <td>0</td>\n",
       "    </tr>\n",
       "    <tr>\n",
       "      <th>16</th>\n",
       "      <td>SEC.gov | SEC Charges Convicted Criminal Who C...</td>\n",
       "      <td>2020-12</td>\n",
       "      <td>Washington D.C.,           Jan. 17, 2020 —</td>\n",
       "      <td>today charged convicted criminal business asso...</td>\n",
       "      <td>['today', 'charged', 'convicted', 'criminal', ...</td>\n",
       "      <td>1</td>\n",
       "    </tr>\n",
       "    <tr>\n",
       "      <th>18</th>\n",
       "      <td>SEC.gov | S.P. Kothari to Conclude Tenure As S...</td>\n",
       "      <td>2020-328</td>\n",
       "      <td>Washington D.C.,           Dec. 21, 2020 —</td>\n",
       "      <td>today announced conclude tenure end since join...</td>\n",
       "      <td>['today', 'announced', 'conclude', 'tenure', '...</td>\n",
       "      <td>0</td>\n",
       "    </tr>\n",
       "  </tbody>\n",
       "</table>\n",
       "</div>"
      ],
      "text/plain": [
       "                                                Title Article_ID  \\\n",
       "1   SEC.gov | SEC Charges Swedish National with Gl...   2020-232   \n",
       "4   SEC.gov | SEC Charges Issuer and CEO With Misr...   2020-181   \n",
       "7   SEC.gov | SEC Adopts Rule Amendments to Modern...   2020-192   \n",
       "16  SEC.gov | SEC Charges Convicted Criminal Who C...    2020-12   \n",
       "18  SEC.gov | S.P. Kothari to Conclude Tenure As S...   2020-328   \n",
       "\n",
       "                                     Date_Place  \\\n",
       "1   Washington D.C.,           Sept. 29, 2020 —   \n",
       "4    Washington D.C.,           Aug. 13, 2020 —   \n",
       "7    Washington D.C.,           Aug. 26, 2020 —   \n",
       "16   Washington D.C.,           Jan. 17, 2020 —   \n",
       "18   Washington D.C.,           Dec. 21, 2020 —   \n",
       "\n",
       "                                                 Text  \\\n",
       "1   today charged swedish national living conducti...   \n",
       "4   today announced charge virginiabased chief exe...   \n",
       "7   today announced voted adopt amendment moderniz...   \n",
       "16  today charged convicted criminal business asso...   \n",
       "18  today announced conclude tenure end since join...   \n",
       "\n",
       "                                           Clean_Text  Fraud  \n",
       "1   ['today', 'charged', 'swedish', 'national', 'l...      1  \n",
       "4   ['today', 'announced', 'charge', 'virginiabase...      1  \n",
       "7   ['today', 'announced', 'voted', 'adopt', 'amen...      0  \n",
       "16  ['today', 'charged', 'convicted', 'criminal', ...      1  \n",
       "18  ['today', 'announced', 'conclude', 'tenure', '...      0  "
      ]
     },
     "execution_count": 26,
     "metadata": {},
     "output_type": "execute_result"
    }
   ],
   "source": [
    "df1.head()"
   ]
  },
  {
   "cell_type": "code",
   "execution_count": 27,
   "metadata": {},
   "outputs": [],
   "source": [
    "clean_texts = list()\n",
    "\n",
    "for text_clean in df[\"Clean_Text\"]:\n",
    "    text_clean = eval(text_clean)\n",
    "    clean_texts.append(text_clean)"
   ]
  },
  {
   "cell_type": "code",
   "execution_count": 28,
   "metadata": {},
   "outputs": [],
   "source": [
    "dictionary = Dictionary()\n",
    "BoW_corpus = [dictionary.doc2bow(doc, allow_update=True) for doc in clean_texts]\n",
    "tfidf = models.TfidfModel(BoW_corpus, smartirs='ntc')\n",
    "tfidf_corpus = tfidf[BoW_corpus]"
   ]
  },
  {
   "cell_type": "code",
   "execution_count": 29,
   "metadata": {},
   "outputs": [],
   "source": [
    "lda_model_tfidf = models.LdaMulticore(tfidf_corpus, num_topics=5, id2word=dictionary, passes=2, workers=4)\n",
    "lda_model_tfidf.save(\"lda.model\")"
   ]
  },
  {
   "cell_type": "code",
   "execution_count": 30,
   "metadata": {},
   "outputs": [
    {
     "name": "stdout",
     "output_type": "stream",
     "text": [
      "Perplexity Score: -10.058595512556014\n"
     ]
    }
   ],
   "source": [
    "print(\"Perplexity Score:\", lda_model_tfidf.log_perplexity(tfidf_corpus))"
   ]
  },
  {
   "cell_type": "code",
   "execution_count": 31,
   "metadata": {},
   "outputs": [
    {
     "data": {
      "text/html": [
       "\n",
       "<link rel=\"stylesheet\" type=\"text/css\" href=\"https://cdn.jsdelivr.net/gh/bmabey/pyLDAvis@3.3.1/pyLDAvis/js/ldavis.v1.0.0.css\">\n",
       "\n",
       "\n",
       "<div id=\"ldavis_el341231407165576053448661184801\"></div>\n",
       "<script type=\"text/javascript\">\n",
       "\n",
       "var ldavis_el341231407165576053448661184801_data = {\"mdsDat\": {\"x\": [0.01821727998505397, -0.0049845884869643775, 0.008317407239363857, -0.01237956002367507, -0.009170538713778386], \"y\": [0.004334979710820218, -0.017479892970631045, -0.0017677056571927788, 0.004562804054543155, 0.010349814862460446], \"topics\": [1, 2, 3, 4, 5], \"cluster\": [1, 1, 1, 1, 1], \"Freq\": [26.02174029345638, 52.2168962565122, 3.4182134289582304, 7.870954890206873, 10.472195130866325]}, \"tinfo\": {\"Term\": [\"whistleblower\", \"award\", \"fund\", \"municipal\", \"investment\", \"client\", \"investor\", \"order\", \"adviser\", \"complaint\", \"rule\", \"committee\", \"company\", \"staff\", \"information\", \"examination\", \"million\", \"market\", \"offering\", \"disclosure\", \"trading\", \"share\", \"agency\", \"firm\", \"meeting\", \"office\", \"money\", \"agreed\", \"account\", \"accounting\", \"whistleblower\", \"wwwsecgovwhistleblower\", \"award\", \"credible\", \"withheld\", \"financed\", \"reveal\", \"awarded\", \"layering\", \"violator\", \"exceed\", \"confidentiality\", \"collected\", \"protects\", \"original\", \"sanction\", \"voluntarily\", \"devere\", \"eligible\", \"walnut\", \"depositary\", \"german\", \"ebx\", \"entirely\", \"monetary\", \"perquisite\", \"annualized\", \"3com\", \"ethic\", \"harmed\", \"indirectly\", \"visit\", \"identity\", \"audit\", \"tip\", \"successful\", \"taken\", \"independence\", \"doe\", \"money\", \"million\", \"order\", \"information\", \"accounting\", \"agreed\", \"enforcement\", \"complaint\", \"company\", \"client\", \"investor\", \"program\", \"stock\", \"pay\", \"fund\", \"customer\", \"firm\", \"scheme\", \"action\", \"percent\", \"trading\", \"report\", \"alleges\", \"ha\", \"investment\", \"market\", \"financial\", \"securitybased\", \"swap\", \"finder\", \"mineral\", \"extraction\", \"701\", \"municipal\", \"606\", \"emission\", \"plant\", \"pullin\", \"compensatory\", \"segregation\", \"mismarking\", \"1mdb\", \"underwriting\", \"eadgear\", \"notification\", \"brother\", \"forex\", \"13f\", \"worker\", \"conditional\", \"variable\", \"margin\", \"statutory\", \"neve\", \"finalized\", \"interpretation\", \"connbased\", \"political\", \"bond\", \"g\", \"hedge\", \"dealer\", \"submission\", \"paper\", \"comment\", \"rule\", \"cum\", \"laude\", \"advisor\", \"pension\", \"fund\", \"rate\", \"subsidiary\", \"development\", \"issuer\", \"release\", \"entity\", \"proposed\", \"206\", \"section\", \"government\", \"stock\", \"investment\", \"regulatory\", \"complaint\", \"trading\", \"company\", \"market\", \"asset\", \"meeting\", \"firm\", \"investor\", \"insider\", \"alleges\", \"would\", \"agency\", \"information\", \"client\", \"order\", \"public\", \"million\", \"disclosure\", \"agreed\", \"ha\", \"security\", \"coronavirus\", \"storm\", \"selection\", \"town\", \"itrackr\", \"ecareer\", \"van\", \"ubiome\", \"1inmm\", \"selecting\", \"hurricane\", \"lowercost\", \"610\", \"1800sec0330\", \"wwwsecgovcomplainttipscomplaintshtml\", \"6552\", \"clinic\", \"singleinverse\", \"hereuare\", \"highercost\", \"310\", \"affected\", \"harvesting\", \"2310\", \"breaker\", \"145\", \"accessing\", \"guarantor\", \"survivor\", \"experiencing\", \"appropriation\", \"trustee\", \"class\", \"advertising\", \"priority\", \"mutual\", \"conflict\", \"adviser\", \"municipal\", \"whistleblower\", \"advisor\", \"client\", \"fund\", \"pm\", \"investment\", \"award\", \"meeting\", \"contact\", \"share\", \"31\", \"fee\", \"money\", \"investor\", \"order\", \"206\", \"information\", \"million\", \"hedge\", \"offering\", \"company\", \"agreed\", \"rule\", \"disclosure\", \"firm\", \"complaint\", \"account\", \"pay\", \"stock\", \"staff\", \"market\", \"trading\", \"blue\", \"rating\", \"statistical\", \"sheet\", \"exploitation\", \"tweet\", \"17g5\", \"ying\", \"nrsros\", \"educator\", \"immunity\", \"salesman\", \"aggregation\", \"prosecutor\", \"608\", \"streetbased\", \"nonvoting\", \"securitizations\", \"securitization\", \"generator\", \"jd\", \"1976\", \"auction\", \"revenuesharing\", \"bidding\", \"selfassessments\", \"intruder\", \"plaintiff\", \"coding\", \"flagged\", \"succeed\", \"mask\", \"nationally\", \"eliminate\", \"seminar\", \"examination\", \"clearing\", \"laundering\", \"credit\", \"excited\", \"staff\", \"agency\", \"served\", \"examiner\", \"organization\", \"serve\", \"named\", \"office\", \"role\", \"experience\", \"leadership\", \"new\", \"work\", \"program\", \"proposed\", \"complaint\", \"degree\", \"look\", \"risk\", \"trading\", \"rule\", \"market\", \"ha\", \"disclosure\", \"data\", \"investment\", \"investor\", \"fund\", \"company\", \"firm\", \"compliance\", \"year\", \"would\", \"order\", \"report\", \"information\", \"soft\", \"optionsxpress\", \"session\", \"breakout\", \"verdict\", \"teleconference\", \"morning\", \"forum\", \"jury\", \"remark\", \"speaker\", \"panel\", \"african\", \"808\", \"testthewaters\", \"webpage\", \"goodwill\", \"17h\", \"panelist\", \"biodiesel\", \"telephonic\", \"roboadvisers\", \"afternoon\", \"expectancy\", \"hosted\", \"eastern\", \"fintech\", \"juror\", \"token\", \"halfday\", \"wishing\", \"advise\", \"discussion\", \"economist\", \"committee\", \"small\", \"liable\", \"institutional\", \"webcast\", \"digital\", \"online\", \"offering\", \"event\", \"member\", \"customer\", \"recommendation\", \"order\", \"client\", \"investor\", \"market\", \"account\", \"business\", \"office\", \"trading\", \"ha\", \"disclosure\", \"stock\", \"company\", \"complaint\", \"agency\", \"investment\", \"public\", \"capital\", \"firm\", \"financial\", \"fraud\", \"fund\", \"share\", \"agreed\", \"enforcement\", \"security\"], \"Freq\": [1035.0, 566.0, 1148.0, 585.0, 775.0, 717.0, 822.0, 798.0, 494.0, 1015.0, 826.0, 404.0, 891.0, 549.0, 733.0, 383.0, 715.0, 714.0, 526.0, 496.0, 809.0, 527.0, 636.0, 746.0, 426.0, 553.0, 493.0, 643.0, 489.0, 478.0, 856.7959992849289, 80.43987333796531, 445.8217446881669, 69.38489205240856, 76.04479692517842, 78.9818832291979, 84.94382046582547, 110.01364556876808, 35.51242916846953, 81.3185753608545, 80.05641581262344, 84.71930328097723, 98.64122926169676, 77.17542202709252, 80.2430389619176, 154.77500802922924, 85.10885292804326, 19.474051208040855, 80.30456592989876, 17.462020920562026, 44.7191502874918, 18.51440141577929, 16.80146163768436, 72.69387036943424, 153.19238903257653, 22.95758092747831, 17.54382755794737, 15.971062827790933, 50.5316834309837, 109.0307457650827, 47.28516666879459, 75.96032065774776, 89.02491030952262, 286.8724390835774, 142.85295946177496, 111.61516398849687, 77.46318824273882, 79.05701362807447, 76.60413850455924, 194.17625526645483, 254.88665394343755, 263.013786623754, 235.41251187278576, 176.10359541414613, 212.39969513143632, 200.07439829661865, 275.06462645203294, 247.51252135395768, 214.26038833190145, 226.15866550961675, 179.23671131108782, 228.06058437470386, 172.00335519349505, 256.2908706936909, 177.8528477856856, 203.95037228629934, 176.04400684853175, 162.53536729028926, 138.49099165369915, 194.19961993784008, 148.03677525903584, 159.20053639705492, 158.69857671987984, 160.24822556913338, 156.0936927750486, 149.6847461069113, 406.1526250141249, 449.5249091109208, 63.108429119175305, 79.97828259351569, 69.29805463871823, 59.667109784972595, 496.3086884400083, 42.893579043267465, 46.01540714309613, 46.6661629691052, 36.77280943062592, 42.42789327381929, 43.775634454403914, 40.190807793144984, 33.80084201639015, 81.86514542534304, 32.38202440079244, 52.352069392148515, 97.53370404426184, 36.55349592197258, 31.58325290277303, 60.70779729333388, 42.115391385016856, 86.37937705807971, 128.8821778833512, 87.59798031150999, 30.052301873439575, 41.12906882981905, 86.00860312852718, 37.27464878387553, 87.98034526756945, 342.3785367004018, 96.28708263162716, 352.85487980130466, 175.02269431217906, 300.12010249763074, 205.78019076533448, 346.66393455439913, 572.1637346792048, 169.3701110050411, 168.864325493329, 202.14132040033587, 118.17388401605659, 723.0391690600953, 212.4096675229612, 241.6748128015347, 183.46092687956835, 283.16035562033926, 202.55950032593927, 268.5268018679474, 291.19999579455936, 228.02159073670788, 299.84872487628155, 230.63145578522918, 510.91289562341626, 459.3023176546632, 263.05771275871047, 565.7873330081882, 458.31509212811204, 491.0982311641713, 406.02006187351964, 348.8326980968089, 271.5310570198781, 409.15462273767224, 430.25386813606, 285.00543866224046, 338.9927414220133, 302.9167089679583, 349.5165252486344, 378.76001657956124, 361.13134157777455, 379.4572146533498, 308.90452039002747, 344.76686120034543, 292.6490217090142, 318.5573883463424, 309.0133631677736, 297.1674209018433, 7.6399420016392705, 7.914732037538796, 6.721519112605197, 5.922863627221006, 3.1647059513168934, 3.1336358921668155, 3.0458945407429074, 3.028812558638545, 2.9448747183108916, 4.310892769766178, 4.97611901703834, 3.1904344986196005, 2.585184881155678, 3.2796072820064373, 3.277149095292256, 2.5076079186573335, 2.4770229606310834, 2.616484276337934, 2.4328739272443847, 2.6260635315704923, 2.7154497367171384, 15.078138772453341, 2.2218861985572977, 2.262197618835522, 2.4639593322999613, 3.2667832203111598, 4.417921082567897, 2.5799297610725977, 2.071470179791688, 3.3494962300332496, 5.343934226971806, 5.575297055409952, 10.374357288269048, 6.165432376874598, 12.17173112392645, 15.069725806038702, 12.276663015526953, 26.10070256206249, 27.592435976465673, 40.14342467215909, 16.865311559522045, 31.373778491310137, 42.15919461447491, 17.43944166991817, 30.980279919240154, 25.401897768458046, 20.65840562777747, 9.407033818812309, 22.160956200456788, 12.845071945006328, 19.566525127054568, 19.823831629655842, 25.639122732796785, 24.95821240173784, 15.652267746115728, 23.28484939678421, 22.37891580135879, 18.16905990503074, 19.032547862579843, 23.153520274258057, 20.241915479068858, 21.783342345678818, 18.01529847886636, 20.643216591534742, 22.016109040286683, 17.363242997080377, 17.296471257153897, 19.047028713702137, 17.081232996827037, 17.329387656082243, 17.022029630145884, 26.245502651221987, 61.87207960475537, 15.512313267598174, 24.497563704222777, 7.153207883110812, 11.9239825905396, 6.8495227002614465, 5.85588889440542, 5.916423205456536, 6.550614458299507, 5.672931404041527, 6.241709976749029, 5.6912486820306825, 19.069673662695088, 6.21926555270823, 5.4110932049292115, 5.397072556236884, 6.404753512991531, 8.89237558139015, 5.128111807386323, 5.127180631101007, 5.370875288909866, 9.835787379132723, 4.888780852359354, 8.058288983672307, 5.159258443535538, 5.657914141517479, 5.164300079298165, 7.281700394852477, 5.5824018304701575, 8.820542169201609, 9.778988243230296, 10.848689924902608, 9.051340395365346, 14.341537406127097, 64.54852760267931, 32.43972656367268, 11.645106090282576, 33.993967755816854, 24.323635940887048, 62.03400350457891, 67.43013016108254, 53.98823206915806, 24.10510856342482, 22.047422299277464, 34.14018664450365, 37.99468585030777, 56.186692818131476, 47.117368221888164, 37.752035575739505, 39.47797441963799, 44.954997588506984, 43.73416854779217, 48.879203486241536, 43.40456486156347, 70.12481167693625, 41.99787748405272, 30.858870612655437, 41.45711730558863, 59.11220135266933, 59.71989105359451, 54.39524313777792, 48.887003641772786, 44.390904998497405, 38.81944236265946, 52.844169122879656, 53.45890513880152, 58.8543721848374, 49.62806553227491, 47.024394555958644, 41.032262726815574, 40.20289155869154, 40.78282526993438, 43.07553440824125, 39.735170152020736, 41.832631974373754, 15.377282738067208, 13.838155175862438, 40.11093625485659, 31.839170699351648, 16.31411816123004, 16.799737055539353, 27.412533344533987, 50.90906164050335, 19.203922083340732, 15.978666802321214, 17.096068935664466, 58.21468785989029, 18.849029391723807, 7.966703794364866, 8.928759841168011, 31.115866058872328, 7.6831206574034185, 7.621297567646618, 30.880988988892035, 7.684602482225147, 7.3983882790996205, 8.115881415063644, 24.169128756679132, 7.186066376419028, 16.347056114611714, 7.567926625580378, 10.219408365595864, 8.51433209483042, 44.79195295697929, 7.25220826290214, 12.079712316217657, 24.337802560240984, 49.57481681988091, 19.695086937764266, 87.72516475743491, 58.022134214254194, 16.18941676921119, 28.18390413351974, 39.3681084417554, 37.86600125160979, 29.378787769909323, 77.96944305989445, 46.86492662991521, 59.728155126577555, 77.67768202601732, 46.760300394617516, 87.76855732448244, 81.56984902310197, 87.32777103144814, 80.36956046985381, 65.00033809265591, 63.54599058665877, 68.4454432424671, 81.26056380002875, 69.36085924479319, 62.10942497852237, 81.9205069344998, 79.6662386985333, 82.88794526158962, 66.60000542511852, 71.79571856878675, 61.15678052180317, 54.62993943933492, 66.00849438876016, 58.81097695419321, 55.83892043619067, 68.14940563777662, 57.58198522778247, 59.61025689505047, 57.34501862808881, 56.014966797091176], \"Total\": [1035.0, 566.0, 1148.0, 585.0, 775.0, 717.0, 822.0, 798.0, 494.0, 1015.0, 826.0, 404.0, 891.0, 549.0, 733.0, 383.0, 715.0, 714.0, 526.0, 496.0, 809.0, 527.0, 636.0, 746.0, 426.0, 553.0, 493.0, 643.0, 489.0, 478.0, 1035.6290887946857, 102.08995390385755, 566.8981860603171, 90.20536454426431, 100.05733231162488, 104.02708292791593, 111.94436962703675, 148.88741661340413, 48.43643898671938, 111.09604319293726, 110.38760501420485, 120.35255887030702, 140.6511685667393, 110.96829726227244, 116.65928554755064, 228.94727363459964, 126.93427351055469, 29.551971782299233, 123.09097551414015, 27.528920112135392, 70.9321534929974, 29.375214318893093, 26.873121855095214, 116.88767880118357, 247.56547930156685, 37.14716498868504, 28.39296785987075, 26.039221688201547, 82.76321561795226, 179.21081581651035, 77.75762952781322, 126.2706872638356, 150.44626064132422, 514.039082133558, 254.83473617353175, 197.33608295477347, 141.21475547714977, 145.49854469080483, 142.87548787905692, 493.2557530549596, 715.4649453244041, 798.2733054115653, 733.987663955751, 478.2544555557784, 643.3707276619028, 600.1004955116507, 1015.8808254390336, 891.0585770231953, 717.0933791669887, 822.8383325487232, 536.3609015555069, 875.0326380405083, 508.9509592477034, 1148.493012190875, 561.3629272999523, 746.7811005602251, 556.2963583581457, 493.0859380141779, 348.0579053217336, 809.9095068487961, 457.31725957097643, 601.544571420985, 599.9274890900949, 775.1707108347032, 714.2079459122822, 540.1675050317483, 448.0840117386266, 505.2625381144384, 72.10617318829051, 91.57669426949374, 81.35784019172682, 70.05817611819741, 585.0267799253062, 50.881711111919, 54.78003002362196, 55.574050204363154, 43.9158049990653, 50.690681179889175, 52.83349574484605, 48.57328976006648, 40.94059960839583, 99.68883864064847, 39.52190067576516, 63.92598774206209, 119.3540839264249, 44.754543141204394, 38.71923614040265, 74.89160445687183, 51.98475449792104, 106.64550420427194, 159.19525051414308, 108.35078714064176, 37.18939207565936, 51.01436840439512, 106.82791537074081, 46.30374957238787, 109.57854131191851, 437.88474184012506, 121.63697845663789, 470.5273770579769, 229.25977211061368, 409.64442139685025, 277.8247001038094, 484.72200796206334, 826.6586749841637, 229.09695978019408, 229.0062555396181, 278.95914216201567, 156.17916111389872, 1148.493012190875, 299.437360682738, 347.86425752414374, 256.38386950936876, 418.7578043982844, 286.8112769527793, 401.63305397824075, 443.03331262237793, 333.8916297127422, 461.32876299190985, 338.82571992276905, 875.0326380405083, 775.1707108347032, 401.47801189346507, 1015.8808254390336, 809.9095068487961, 891.0585770231953, 714.2079459122822, 590.5570198176897, 426.73354924062284, 746.7811005602251, 822.8383325487232, 458.08404461997833, 601.544571420985, 508.9638599304137, 636.432205137428, 733.987663955751, 717.0933791669887, 798.2733054115653, 545.5282781871629, 715.4649453244041, 496.20069616380215, 643.3707276619028, 599.9274890900949, 539.271822735985, 28.153567085181994, 35.04961830386383, 33.754345669639264, 30.022375422741, 16.301835625684554, 16.261139355298027, 16.162711112580386, 16.14737153577333, 16.067629540684628, 23.92353362718639, 29.23044756059587, 19.159510637340393, 15.698749545849557, 20.09689643564568, 20.15858721631369, 15.620519824553073, 15.607108325367795, 16.672602569451453, 15.54522363614176, 16.818557323931156, 17.8824039101786, 102.95282602820255, 15.331161371575432, 15.932849524411173, 17.665468981200846, 23.436863156930915, 32.0511412634396, 18.80120455304847, 15.185871329874427, 24.59815153572993, 42.73451926782955, 46.27330687572722, 103.34643944922601, 58.326342518849536, 144.61903885793507, 210.60084689702276, 160.95329268512364, 494.6244223483047, 585.0267799253062, 1035.6290887946857, 278.95914216201567, 717.0933791669887, 1148.493012190875, 304.2966508581762, 775.1707108347032, 566.8981860603171, 426.73354924062284, 116.37855398287145, 527.155453525633, 206.27365790466547, 462.20310879936756, 493.2557530549596, 822.8383325487232, 798.2733054115653, 333.8916297127422, 733.987663955751, 715.4649453244041, 470.5273770579769, 526.0117278062512, 891.0585770231953, 643.3707276619028, 826.6586749841637, 496.20069616380215, 746.7811005602251, 1015.8808254390336, 489.9362884457427, 508.9509592477034, 875.0326380405083, 549.7920258950455, 714.2079459122822, 809.9095068487961, 47.90782551599519, 169.6991349291473, 42.60572004868582, 68.8218135980965, 20.791613247860546, 34.98538232630033, 20.726929272926313, 18.277250374371768, 18.615042820269622, 20.66232924579221, 18.09247159772063, 19.946197643040666, 18.225144864274178, 61.10310987733893, 20.35609226135918, 17.85590896248484, 17.82228626154093, 21.268811548922926, 30.33288824590355, 17.585283347873908, 17.896312037692105, 18.74781539258735, 34.40039518514857, 17.314365756321383, 28.62617128055905, 18.395593207596118, 20.371134363560824, 18.73006829075627, 26.79173325657051, 20.540767983798023, 32.933070931282025, 37.1756781994988, 42.138277191111214, 35.149744419824344, 60.165415080550744, 383.77557137902954, 182.95869271534167, 50.37949033475953, 204.19730576976417, 146.32446013814712, 549.7920258950455, 636.432205137428, 480.80460294813815, 147.82751543221278, 129.82134391184616, 250.53416448114314, 305.0542944047897, 553.6325625819459, 427.4368273065692, 311.4802202393013, 338.8437149213944, 446.39026938470414, 436.1353320876864, 536.3609015555069, 443.03331262237793, 1015.8808254390336, 422.4016034617414, 252.09003137615, 422.67145956169605, 809.9095068487961, 826.6586749841637, 714.2079459122822, 599.9274890900949, 496.20069616380215, 393.3798239768718, 775.1707108347032, 822.8383325487232, 1148.493012190875, 891.0585770231953, 746.7811005602251, 467.921611043201, 454.63890760717396, 508.9638599304137, 798.2733054115653, 457.31725957097643, 733.987663955751, 29.11799327157628, 26.250843668885846, 76.39104325495836, 61.432129653652424, 36.59199094848234, 37.79775452713789, 62.376396084520735, 115.90091015540594, 43.84786523197789, 37.9038399746871, 40.762329211510334, 139.05877268529622, 45.72666974603436, 20.09262842815621, 22.547329102932476, 79.8888403460697, 19.804715541667747, 19.74431660507146, 80.02721801871414, 19.972619875937795, 19.52665044247032, 21.421597453546923, 64.14417148160868, 19.306934792275257, 43.94521782998959, 20.476756823954013, 27.795735727231545, 23.221087605280225, 122.61071850582131, 19.942732344047823, 34.36598056417116, 73.63404512252039, 175.96093563298476, 63.2644752360856, 404.532952959428, 255.9626230807856, 53.64284753849519, 113.07168593382266, 178.08624515494876, 177.77269866953623, 125.31385694770805, 526.0117278062512, 253.7475638207332, 376.55351341262275, 561.3629272999523, 261.5595359645719, 798.2733054115653, 717.0933791669887, 822.8383325487232, 714.2079459122822, 489.9362884457427, 475.11067857133776, 553.6325625819459, 809.9095068487961, 599.9274890900949, 496.20069616380215, 875.0326380405083, 891.0585770231953, 1015.8808254390336, 636.432205137428, 775.1707108347032, 545.5282781871629, 405.202247185828, 746.7811005602251, 540.1675050317483, 457.46757278741325, 1148.493012190875, 527.155453525633, 643.3707276619028, 600.1004955116507, 539.271822735985], \"Category\": [\"Default\", \"Default\", \"Default\", \"Default\", \"Default\", \"Default\", \"Default\", \"Default\", \"Default\", \"Default\", \"Default\", \"Default\", \"Default\", \"Default\", \"Default\", \"Default\", \"Default\", \"Default\", \"Default\", \"Default\", \"Default\", \"Default\", \"Default\", \"Default\", \"Default\", \"Default\", \"Default\", \"Default\", \"Default\", \"Default\", \"Topic1\", \"Topic1\", \"Topic1\", \"Topic1\", \"Topic1\", \"Topic1\", \"Topic1\", \"Topic1\", \"Topic1\", \"Topic1\", \"Topic1\", \"Topic1\", \"Topic1\", \"Topic1\", \"Topic1\", \"Topic1\", \"Topic1\", \"Topic1\", \"Topic1\", \"Topic1\", \"Topic1\", \"Topic1\", \"Topic1\", \"Topic1\", \"Topic1\", \"Topic1\", \"Topic1\", \"Topic1\", \"Topic1\", \"Topic1\", \"Topic1\", \"Topic1\", \"Topic1\", \"Topic1\", \"Topic1\", \"Topic1\", \"Topic1\", \"Topic1\", \"Topic1\", \"Topic1\", \"Topic1\", \"Topic1\", \"Topic1\", \"Topic1\", \"Topic1\", \"Topic1\", \"Topic1\", \"Topic1\", \"Topic1\", \"Topic1\", \"Topic1\", \"Topic1\", \"Topic1\", \"Topic1\", \"Topic1\", \"Topic1\", \"Topic1\", \"Topic1\", \"Topic1\", \"Topic1\", \"Topic1\", \"Topic1\", \"Topic1\", \"Topic1\", \"Topic1\", \"Topic1\", \"Topic2\", \"Topic2\", \"Topic2\", \"Topic2\", \"Topic2\", \"Topic2\", \"Topic2\", \"Topic2\", \"Topic2\", \"Topic2\", \"Topic2\", \"Topic2\", \"Topic2\", \"Topic2\", \"Topic2\", \"Topic2\", \"Topic2\", \"Topic2\", \"Topic2\", \"Topic2\", \"Topic2\", \"Topic2\", \"Topic2\", \"Topic2\", \"Topic2\", \"Topic2\", \"Topic2\", \"Topic2\", \"Topic2\", \"Topic2\", \"Topic2\", \"Topic2\", \"Topic2\", \"Topic2\", \"Topic2\", \"Topic2\", \"Topic2\", \"Topic2\", \"Topic2\", \"Topic2\", \"Topic2\", \"Topic2\", \"Topic2\", \"Topic2\", \"Topic2\", \"Topic2\", \"Topic2\", \"Topic2\", \"Topic2\", \"Topic2\", \"Topic2\", \"Topic2\", \"Topic2\", \"Topic2\", \"Topic2\", \"Topic2\", \"Topic2\", \"Topic2\", \"Topic2\", \"Topic2\", \"Topic2\", \"Topic2\", \"Topic2\", \"Topic2\", \"Topic2\", \"Topic2\", \"Topic2\", \"Topic2\", \"Topic2\", \"Topic2\", \"Topic2\", \"Topic2\", \"Topic2\", \"Topic2\", \"Topic2\", \"Topic2\", \"Topic2\", \"Topic2\", \"Topic3\", \"Topic3\", \"Topic3\", \"Topic3\", \"Topic3\", \"Topic3\", \"Topic3\", \"Topic3\", \"Topic3\", \"Topic3\", \"Topic3\", \"Topic3\", \"Topic3\", \"Topic3\", \"Topic3\", \"Topic3\", \"Topic3\", \"Topic3\", \"Topic3\", \"Topic3\", \"Topic3\", \"Topic3\", \"Topic3\", \"Topic3\", \"Topic3\", \"Topic3\", \"Topic3\", \"Topic3\", \"Topic3\", \"Topic3\", \"Topic3\", \"Topic3\", \"Topic3\", \"Topic3\", \"Topic3\", \"Topic3\", \"Topic3\", \"Topic3\", \"Topic3\", \"Topic3\", \"Topic3\", \"Topic3\", \"Topic3\", \"Topic3\", \"Topic3\", \"Topic3\", \"Topic3\", \"Topic3\", \"Topic3\", \"Topic3\", \"Topic3\", \"Topic3\", \"Topic3\", \"Topic3\", \"Topic3\", \"Topic3\", \"Topic3\", \"Topic3\", \"Topic3\", \"Topic3\", \"Topic3\", \"Topic3\", \"Topic3\", \"Topic3\", \"Topic3\", \"Topic3\", \"Topic3\", \"Topic3\", \"Topic3\", \"Topic3\", \"Topic3\", \"Topic4\", \"Topic4\", \"Topic4\", \"Topic4\", \"Topic4\", \"Topic4\", \"Topic4\", \"Topic4\", \"Topic4\", \"Topic4\", \"Topic4\", \"Topic4\", \"Topic4\", \"Topic4\", \"Topic4\", \"Topic4\", \"Topic4\", \"Topic4\", \"Topic4\", \"Topic4\", \"Topic4\", \"Topic4\", \"Topic4\", \"Topic4\", \"Topic4\", \"Topic4\", \"Topic4\", \"Topic4\", \"Topic4\", \"Topic4\", \"Topic4\", \"Topic4\", \"Topic4\", \"Topic4\", \"Topic4\", \"Topic4\", \"Topic4\", \"Topic4\", \"Topic4\", \"Topic4\", \"Topic4\", \"Topic4\", \"Topic4\", \"Topic4\", \"Topic4\", \"Topic4\", \"Topic4\", \"Topic4\", \"Topic4\", \"Topic4\", \"Topic4\", \"Topic4\", \"Topic4\", \"Topic4\", \"Topic4\", \"Topic4\", \"Topic4\", \"Topic4\", \"Topic4\", \"Topic4\", \"Topic4\", \"Topic4\", \"Topic4\", \"Topic4\", \"Topic4\", \"Topic4\", \"Topic4\", \"Topic4\", \"Topic4\", \"Topic4\", \"Topic4\", \"Topic4\", \"Topic4\", \"Topic4\", \"Topic4\", \"Topic4\", \"Topic5\", \"Topic5\", \"Topic5\", \"Topic5\", \"Topic5\", \"Topic5\", \"Topic5\", \"Topic5\", \"Topic5\", \"Topic5\", \"Topic5\", \"Topic5\", \"Topic5\", \"Topic5\", \"Topic5\", \"Topic5\", \"Topic5\", \"Topic5\", \"Topic5\", \"Topic5\", \"Topic5\", \"Topic5\", \"Topic5\", \"Topic5\", \"Topic5\", \"Topic5\", \"Topic5\", \"Topic5\", \"Topic5\", \"Topic5\", \"Topic5\", \"Topic5\", \"Topic5\", \"Topic5\", \"Topic5\", \"Topic5\", \"Topic5\", \"Topic5\", \"Topic5\", \"Topic5\", \"Topic5\", \"Topic5\", \"Topic5\", \"Topic5\", \"Topic5\", \"Topic5\", \"Topic5\", \"Topic5\", \"Topic5\", \"Topic5\", \"Topic5\", \"Topic5\", \"Topic5\", \"Topic5\", \"Topic5\", \"Topic5\", \"Topic5\", \"Topic5\", \"Topic5\", \"Topic5\", \"Topic5\", \"Topic5\", \"Topic5\", \"Topic5\", \"Topic5\", \"Topic5\", \"Topic5\", \"Topic5\", \"Topic5\", \"Topic5\", \"Topic5\"], \"logprob\": [30.0, 29.0, 28.0, 27.0, 26.0, 25.0, 24.0, 23.0, 22.0, 21.0, 20.0, 19.0, 18.0, 17.0, 16.0, 15.0, 14.0, 13.0, 12.0, 11.0, 10.0, 9.0, 8.0, 7.0, 6.0, 5.0, 4.0, 3.0, 2.0, 1.0, -5.1563, -7.522, -5.8095, -7.6698, -7.5781, -7.5402, -7.4675, -7.2089, -8.3396, -7.5111, -7.5267, -7.4701, -7.318, -7.5634, -7.5244, -6.8675, -7.4655, -8.9404, -7.5236, -9.0494, -8.1091, -8.9909, -9.088, -7.6232, -6.8778, -8.7758, -9.0448, -9.1387, -7.9869, -7.2178, -8.0533, -7.5793, -7.4206, -6.2504, -6.9477, -7.1944, -7.5597, -7.5393, -7.5708, -6.6407, -6.3686, -6.3373, -6.4481, -6.7384, -6.551, -6.6108, -6.2925, -6.398, -6.5423, -6.4882, -6.7208, -6.4799, -6.762, -6.3632, -6.7285, -6.5916, -6.7387, -6.8186, -6.9787, -6.6406, -6.912, -6.8393, -6.8425, -6.8327, -6.859, -6.9009, -6.5992, -6.4977, -8.4611, -8.2242, -8.3675, -8.5172, -6.3987, -8.8472, -8.777, -8.7629, -9.0012, -8.8581, -8.8269, -8.9123, -9.0855, -8.2009, -9.1283, -8.6479, -8.0257, -9.0072, -9.1533, -8.4999, -8.8655, -8.1472, -7.747, -8.1332, -9.203, -8.8892, -8.1515, -8.9876, -8.1288, -6.77, -8.0386, -6.7399, -7.441, -6.9018, -7.2791, -6.7576, -6.2565, -7.4739, -7.4768, -7.297, -7.8338, -6.0225, -7.2474, -7.1183, -7.3939, -6.9599, -7.2949, -7.013, -6.9319, -7.1765, -6.9027, -7.1651, -6.3697, -6.4762, -7.0336, -6.2677, -6.4784, -6.4093, -6.5995, -6.7513, -7.0019, -6.5918, -6.5416, -6.9534, -6.78, -6.8925, -6.7494, -6.669, -6.7167, -6.6672, -6.8729, -6.7631, -6.927, -6.8421, -6.8726, -6.9116, -7.8463, -7.8109, -7.9743, -8.1008, -8.7276, -8.7375, -8.7659, -8.7715, -8.7996, -8.4185, -8.275, -8.7195, -8.9299, -8.6919, -8.6927, -8.9603, -8.9726, -8.9178, -8.9906, -8.9142, -8.8807, -7.1664, -9.0813, -9.0633, -8.9779, -8.6958, -8.394, -8.9319, -9.1514, -8.6708, -8.2037, -8.1613, -7.5403, -8.0607, -7.3805, -7.167, -7.372, -6.6177, -6.5621, -6.1872, -7.0544, -6.4337, -6.1382, -7.0209, -6.4463, -6.6448, -6.8515, -7.6382, -6.7813, -7.3267, -6.9058, -6.8928, -6.6355, -6.6624, -7.129, -6.7318, -6.7715, -6.9799, -6.9335, -6.7375, -6.8719, -6.7985, -6.9884, -6.8523, -6.7879, -7.0253, -7.0292, -6.9327, -7.0417, -7.0272, -7.0451, -7.4462, -6.5886, -7.9721, -7.5151, -8.7462, -8.2352, -8.7895, -8.9463, -8.936, -8.8342, -8.978, -8.8825, -8.9748, -7.7656, -8.8861, -9.0253, -9.0279, -8.8567, -8.5285, -9.079, -9.0792, -9.0327, -8.4277, -9.1268, -8.627, -9.0729, -8.9807, -9.0719, -8.7283, -8.9941, -8.5366, -8.4335, -8.3297, -8.5108, -8.0506, -6.5463, -7.2343, -8.2588, -7.1875, -7.5223, -6.586, -6.5026, -6.7249, -7.5313, -7.6205, -7.1832, -7.0763, -6.685, -6.8611, -7.0827, -7.038, -6.9081, -6.9356, -6.8244, -6.9431, -6.4634, -6.9761, -7.2843, -6.9891, -6.6343, -6.624, -6.7174, -6.8242, -6.9207, -7.0548, -6.7464, -6.7348, -6.6386, -6.8092, -6.863, -6.9994, -7.0198, -7.0055, -6.9508, -7.0315, -6.98, -8.2664, -8.3718, -7.3076, -7.5386, -8.2072, -8.1779, -7.6883, -7.0692, -8.0441, -8.228, -8.1604, -6.9351, -8.0628, -8.924, -8.81, -7.5615, -8.9602, -8.9683, -7.5691, -8.96, -8.998, -8.9054, -7.8142, -9.0271, -8.2052, -8.9753, -8.675, -8.8575, -7.1972, -9.018, -8.5077, -7.8072, -7.0958, -8.0189, -6.525, -6.9384, -8.2149, -7.6605, -7.3263, -7.3652, -7.619, -6.6429, -7.152, -6.9095, -6.6467, -7.1542, -6.5246, -6.5978, -6.5296, -6.6126, -6.8249, -6.8475, -6.7732, -6.6016, -6.7599, -6.8704, -6.5935, -6.6214, -6.5818, -6.8006, -6.7254, -6.8858, -6.9987, -6.8095, -6.9249, -6.9768, -6.7776, -6.946, -6.9114, -6.9502, -6.9736], \"loglift\": [30.0, 29.0, 28.0, 27.0, 26.0, 25.0, 24.0, 23.0, 22.0, 21.0, 20.0, 19.0, 18.0, 17.0, 16.0, 15.0, 14.0, 13.0, 12.0, 11.0, 10.0, 9.0, 8.0, 7.0, 6.0, 5.0, 4.0, 3.0, 2.0, 1.0, 1.1567, 1.1079, 1.106, 1.0838, 1.0718, 1.0708, 1.0702, 1.0437, 1.0359, 1.0342, 1.025, 0.9952, 0.9914, 0.9831, 0.972, 0.9547, 0.9465, 0.9292, 0.9191, 0.891, 0.8849, 0.8846, 0.8766, 0.8713, 0.8663, 0.865, 0.8648, 0.8574, 0.8529, 0.8493, 0.8488, 0.838, 0.8215, 0.763, 0.7674, 0.7764, 0.7458, 0.7362, 0.7229, 0.414, 0.3141, 0.236, 0.2091, 0.3472, 0.238, 0.2478, 0.0397, 0.0653, 0.1382, 0.0547, 0.2501, 0.0016, 0.2614, -0.1537, 0.1968, 0.0483, 0.1957, 0.2364, 0.4247, -0.0818, 0.2183, 0.0169, 0.0164, -0.2301, -0.1745, 0.0629, 0.5515, 0.5329, 0.5165, 0.5143, 0.4893, 0.4892, 0.4853, 0.479, 0.4754, 0.4751, 0.4722, 0.4718, 0.4617, 0.4603, 0.4581, 0.4528, 0.4505, 0.45, 0.4479, 0.4473, 0.4461, 0.4398, 0.4392, 0.439, 0.4385, 0.4371, 0.4367, 0.4344, 0.433, 0.4329, 0.4302, 0.4037, 0.4161, 0.362, 0.3798, 0.3387, 0.3496, 0.3145, 0.2818, 0.3477, 0.3451, 0.3277, 0.3709, 0.187, 0.3064, 0.2855, 0.3151, 0.2585, 0.302, 0.2472, 0.2301, 0.2684, 0.2189, 0.2651, 0.1117, 0.1264, 0.227, 0.0645, 0.0804, 0.054, 0.085, 0.1233, 0.1977, 0.0481, 0.0014, 0.1752, 0.0762, 0.1308, 0.0504, -0.0118, -0.0362, -0.0939, 0.081, -0.0803, 0.1218, -0.0532, -0.0137, 0.0538, 2.0718, 1.888, 1.7623, 1.7529, 1.7368, 1.7295, 1.7071, 1.7025, 1.6793, 1.6623, 1.6055, 1.5834, 1.5723, 1.5632, 1.5594, 1.5468, 1.5354, 1.5241, 1.5214, 1.5191, 1.4912, 1.455, 1.4445, 1.424, 1.4062, 1.4055, 1.3944, 1.3899, 1.3839, 1.3822, 1.297, 1.2598, 1.0773, 1.129, 0.9011, 0.7388, 0.8026, 0.4342, 0.3219, 0.1257, 0.5702, 0.2468, 0.0713, 0.5168, 0.1563, 0.2707, 0.348, 0.8607, 0.2069, 0.5998, 0.2139, 0.1619, -0.0926, -0.0892, 0.3159, -0.0746, -0.0888, 0.1219, 0.0569, -0.2742, -0.0829, -0.2602, 0.0603, -0.2123, -0.4557, 0.0361, -0.0058, -0.4513, -0.0955, -0.3427, -0.4864, 1.9402, 1.533, 1.5316, 1.509, 1.475, 1.4656, 1.4347, 1.4038, 1.3958, 1.3932, 1.3822, 1.3802, 1.3781, 1.3775, 1.3563, 1.3481, 1.3474, 1.3418, 1.315, 1.3097, 1.292, 1.2919, 1.29, 1.2774, 1.2744, 1.2707, 1.2609, 1.2536, 1.2393, 1.2392, 1.2246, 1.2066, 1.1851, 1.1853, 1.1081, 0.7594, 0.8121, 1.0773, 0.7491, 0.7476, 0.3601, 0.2972, 0.3553, 0.7284, 0.769, 0.5489, 0.4589, 0.2542, 0.3368, 0.4317, 0.3922, 0.2465, 0.2422, 0.1465, 0.2189, -0.1312, 0.2337, 0.4416, 0.2201, -0.0755, -0.0857, -0.0329, 0.0347, 0.128, 0.2261, -0.1437, -0.1919, -0.4291, -0.3459, -0.2231, 0.108, 0.1164, 0.0179, -0.3775, 0.0989, -0.3228, 1.618, 1.6162, 1.6122, 1.5992, 1.4486, 1.4456, 1.4343, 1.4338, 1.4308, 1.3926, 1.3875, 1.3857, 1.3702, 1.3314, 1.3301, 1.3135, 1.3096, 1.3045, 1.3042, 1.3013, 1.2859, 1.2859, 1.2804, 1.2681, 1.2676, 1.2611, 1.2559, 1.2531, 1.2495, 1.2449, 1.2109, 1.1494, 0.9897, 1.0895, 0.7279, 0.7722, 1.0585, 0.8672, 0.7471, 0.71, 0.8059, 0.3474, 0.5674, 0.4152, 0.2786, 0.5348, 0.0487, 0.0827, 0.0134, 0.0719, 0.2366, 0.2447, 0.166, -0.0428, 0.099, 0.1784, -0.1121, -0.1581, -0.2496, -0.0007, -0.1228, 0.0681, 0.2526, -0.1695, 0.0389, 0.1532, -0.5681, 0.0422, -0.1224, -0.0916, -0.0082]}, \"token.table\": {\"Topic\": [1, 2, 3, 4, 5, 1, 2, 3, 4, 5, 1, 2, 3, 4, 5, 1, 2, 3, 4, 5, 1, 2, 3, 4, 5, 1, 2, 3, 4, 5, 1, 2, 3, 4, 5, 1, 2, 3, 4, 5, 1, 2, 3, 4, 5, 1, 2, 3, 4, 5, 1, 2, 3, 4, 5, 1, 2, 3, 4, 5, 1, 2, 3, 4, 5, 1, 2, 3, 4, 5, 1, 2, 3, 4, 5, 1, 2, 3, 4, 5, 1, 2, 3, 4, 5, 1, 2, 3, 4, 5, 1, 2, 3, 4, 5, 1, 2, 3, 4, 5, 1, 2, 3, 4, 5, 1, 2, 3, 4, 5, 1, 2, 3, 4, 5, 1, 2, 3, 4, 5, 1, 2, 3, 4, 5, 1, 2, 3, 4, 5, 1, 2, 3, 4, 5, 1, 2, 3, 4, 5, 1, 2, 3, 4, 5, 1, 2, 3, 4, 5, 1, 2, 3, 4, 5, 1, 2, 3, 4, 5, 1, 2, 3, 4, 5, 1, 2, 3, 4, 5, 1, 2, 3, 4, 5, 1, 2, 3, 4, 5, 1, 2, 3, 4, 5, 1, 2, 3, 4, 5, 1, 2, 3, 4, 5, 1, 2, 3, 4, 5, 1, 2, 3, 4, 5, 1, 2, 3, 4, 5, 1, 2, 3, 4, 5, 1, 2, 3, 4, 5, 1, 2, 3, 4, 5, 1, 2, 3, 4, 5, 1, 2, 3, 4, 5, 1, 2, 3, 4, 5, 1, 2, 3, 4, 5, 1, 2, 3, 4, 5, 1, 2, 3, 4, 5, 1, 2, 3, 4, 5, 1, 2, 3, 4, 5, 1, 2, 3, 4, 5, 1, 2, 3, 4, 5, 1, 2, 3, 4, 5, 1, 2, 3, 4, 5, 1, 2, 3, 4, 5, 1, 2, 3, 4, 5, 1, 2, 3, 4, 5, 1, 2, 3, 4, 5, 1, 2, 3, 4, 5, 1, 2, 3, 4, 5, 1, 2, 3, 4, 5, 1, 2, 3, 4, 5, 1, 2, 3, 4, 5, 1, 2, 3, 4, 5, 1, 2, 3, 4, 5, 1, 2, 3, 4, 5, 1, 2, 3, 4, 5, 1, 2, 3, 4, 5, 1, 2, 3, 4, 5, 1, 2, 3, 4, 5, 1, 2, 3, 4, 5, 1, 2, 3, 4, 5, 1, 2, 3, 4, 5, 1, 2, 3, 4, 5, 1, 2, 3, 4, 5, 1, 2, 3, 4, 5, 1, 2, 3, 4, 5, 1, 2, 3, 4, 5, 1, 2, 3, 4, 5, 1, 2, 3, 4, 5, 1, 2, 3, 4, 5, 1, 2, 3, 4, 5, 1, 2, 3, 4, 5, 1, 2, 3, 4, 5, 1, 2, 3, 4, 5, 1, 2, 3, 4, 5, 1, 2, 3, 4, 5, 1, 2, 3, 4, 5, 1, 2, 3, 4, 5, 1, 2, 3, 4, 5, 1, 2, 3, 4, 5, 1, 2, 3, 4, 5, 1, 2, 3, 4, 5, 1, 2, 3, 4, 5, 1, 2, 3, 4, 5, 1, 2, 3, 4, 5, 1, 2, 3, 4, 5, 1, 2, 3, 4, 5, 1, 2, 3, 4, 5, 1, 2, 3, 4, 5, 1, 2, 3, 4, 5, 1, 2, 3, 4, 5, 1, 2, 3, 4, 5, 1, 2, 3, 4, 5, 1, 2, 3, 4, 5, 1, 2, 3, 4, 5, 1, 2, 3, 4, 5, 1, 2, 3, 4, 5, 1, 2, 3, 4, 5, 1, 2, 3, 4, 5, 1, 2, 3, 4, 5, 1, 2, 3, 4, 5, 1, 2, 3, 4, 5, 1, 2, 3, 4, 5, 1, 2, 3, 4, 5, 1, 2, 3, 4, 5, 1, 2, 3, 4, 5, 1, 2, 3, 4, 5, 1, 2, 3, 4, 5, 1, 2, 3, 4, 5, 1, 2, 3, 4, 5, 1, 2, 3, 4, 5, 1, 2, 3, 4, 5, 1, 2, 3, 4, 5, 1, 2, 3, 4, 5, 1, 2, 3, 4, 5, 1, 2, 3, 4, 5, 1, 2, 3, 4, 5, 1, 2, 3, 4, 5, 1, 2, 3, 4, 5, 1, 2, 3, 4, 5, 1, 2, 3, 4, 5, 1, 2, 3, 4, 5, 1, 2, 3, 4, 5, 1, 2, 3, 4, 5, 1, 2, 3, 4, 5, 1, 2, 3, 4, 5, 1, 2, 3, 4, 5, 1, 2, 3, 4, 5, 1, 2, 3, 4, 5, 1, 2, 3, 4, 5, 1, 2, 3, 4, 5, 1, 2, 3, 4, 5, 1, 2, 3, 4, 5, 1, 2, 3, 4, 5, 1, 2, 3, 4, 5, 1, 2, 3, 4, 5, 1, 2, 3, 4, 5, 1, 2, 3, 4, 5, 1, 2, 3, 4, 5, 1, 2, 3, 4, 5, 1, 2, 3, 4, 5, 1, 2, 3, 4, 5, 1, 2, 3, 4, 5, 1, 2, 3, 4, 5, 1, 2, 3, 4, 5, 1, 2, 3, 4, 5, 1, 2, 3, 4, 5, 1, 2, 3, 4, 5, 1, 2, 3, 4, 5, 1, 2, 3, 4, 5, 1, 2, 3, 4, 5, 1, 2, 3, 4, 5, 1, 2, 3, 4, 5, 1, 2, 3, 4, 5, 1, 2, 3, 4, 5, 1, 2, 3, 4, 5, 1, 2, 3, 4, 5, 1, 2, 3, 4, 5, 1, 2, 3, 4, 5, 1, 2, 3, 4, 5, 1, 2, 3, 4, 5, 1, 2, 3, 4, 5, 1, 2, 3, 4, 5, 1, 2, 3, 4, 5, 1, 2, 3, 4, 5, 1, 2, 3, 4, 5, 1, 2, 3, 4, 5, 1, 2, 3, 4, 5, 1, 2, 3, 4, 5, 1, 2, 3, 4, 5, 1, 2, 3, 4, 5, 1, 2, 3, 4, 5, 1, 2, 3, 4, 5, 1, 2, 3, 4, 5, 1, 2, 3, 4, 5, 1, 2, 3, 4, 5, 1, 2, 3, 4, 5, 1, 2, 3, 4, 5, 1, 2, 3, 4, 5, 1, 2, 3, 4, 5, 1, 2, 3, 4, 5, 1, 2, 3, 4, 5, 1, 2, 3, 4, 5, 1, 2, 3, 4, 5, 1, 2, 3, 4, 5, 1, 2, 3, 4, 5, 1, 2, 3, 4, 5, 1, 2, 3, 4, 5, 1, 2, 3, 4, 5, 1, 2, 3, 4, 5, 1, 2, 3, 4, 5, 1, 2, 3, 4, 5, 1, 2, 3, 4, 5, 1, 2, 3, 4, 5, 1, 2, 3, 4, 5, 1, 2, 3, 4, 5, 1, 2, 3, 4, 5, 1, 2, 3, 4, 5, 1, 2, 3, 4, 5, 1, 2, 3, 4, 5, 1, 2, 3, 4, 5, 1, 2, 3, 4, 5, 1, 2, 3, 4, 5, 1, 2, 3, 4, 5, 1, 2, 3, 4, 5, 1, 2, 3, 4, 5, 1, 2, 3, 4, 5, 1, 2, 3, 4, 5, 1, 2, 3, 4, 5, 1, 2, 3, 4, 5, 1, 2, 3, 4, 5, 1, 2, 3, 4, 5, 1, 2, 3, 4, 5, 1, 2, 3, 4, 5, 1, 2, 3, 4, 5, 1, 2, 3, 4, 5, 1, 2, 3, 4, 5, 1, 2, 3, 4, 5, 1, 2, 3, 4, 5, 1, 2, 3, 4, 5, 1, 2, 3, 4, 5, 1, 2, 3, 4, 5, 1, 2, 3, 4, 5, 1, 2, 3, 4, 5, 1, 2, 3, 4, 5, 1, 2, 3, 4, 5, 1, 2, 3, 4, 5, 1, 2, 3, 4, 5, 1, 2, 3, 4, 5, 1, 2, 3, 4, 5, 1, 2, 3, 4, 5, 1, 2, 3, 4, 5, 1, 2, 3, 4, 5, 1, 2, 3, 4, 5, 1, 2, 3, 4, 5, 1, 2, 3, 4, 5, 1, 2, 3, 4, 5, 1, 2, 3, 4, 5, 1, 2, 3, 4, 5, 1, 2, 3, 4, 5, 1, 2, 3, 4, 5, 1, 2, 3, 4, 5, 1, 2, 3, 4, 5, 1, 2, 3, 4, 5, 1, 2, 3, 4, 5, 1, 2, 3, 4, 5, 1, 2, 3, 4, 5, 1, 2, 3, 4, 5, 1, 2, 3, 4, 5, 1, 2, 3, 4, 5, 1, 2, 3, 4, 5, 1, 2, 3, 4, 5, 1, 2, 3, 4, 5, 1, 2, 3, 4, 5, 1, 2, 3, 4, 5, 1, 2, 3, 4, 5, 1, 2, 3, 4, 5, 1, 2, 3, 4, 5, 1, 2, 3, 4, 5, 1, 2, 3, 4, 5, 1, 2, 3, 4, 5, 1, 2, 3, 4, 5, 1, 2, 3, 4, 5, 1, 2, 3, 4, 5], \"Freq\": [0.10330782315785642, 0.8264625852628513, 0.025826955789464104, 0.025826955789464104, 0.05165391157892821, 0.2133391301779805, 0.426678260355961, 0.1280034781067883, 0.0853356520711922, 0.1280034781067883, 0.19298565394464068, 0.33772489440312115, 0.04824641348616017, 0.33772489440312115, 0.1447392404584805, 0.2025899442360326, 0.35453240241305706, 0.05064748605900815, 0.05064748605900815, 0.4051798884720652, 0.1990357074690019, 0.4975892686725047, 0.14927678060175142, 0.049758926867250475, 0.09951785373450095, 0.21335819220737312, 0.373376836362903, 0.05333954805184328, 0.2666977402592164, 0.10667909610368656, 0.24894773618421148, 0.4356585383223701, 0.1867108021381586, 0.06223693404605287, 0.12447386809210574, 0.09770252605630393, 0.8304714714785835, 0.024425631514075983, 0.024425631514075983, 0.048851263028151966, 0.14375921924516633, 0.6828562914145401, 0.04791973974838878, 0.04492475601411448, 0.08086456082540606, 0.25105364824236154, 0.4393438844241327, 0.12552682412118077, 0.06276341206059038, 0.12552682412118077, 0.08241478903649915, 0.7174934574942279, 0.06302307396908759, 0.04363135890167602, 0.09211064657020493, 0.33552535946158907, 0.39144625270518724, 0.16776267973079453, 0.055920893243598176, 0.11184178648719635, 0.6144576896954509, 0.2688252392417598, 0.03840360560596568, 0.03840360560596568, 0.07680721121193136, 0.07861370839517626, 0.8450973652481447, 0.019653427098794064, 0.03930685419758813, 0.03930685419758813, 0.19650136915487332, 0.39300273830974664, 0.04912534228871833, 0.29475205373230995, 0.09825068457743666, 0.2547973638484807, 0.44589538673484114, 0.1910980228863605, 0.06369934096212017, 0.12739868192424034, 0.25607342424754714, 0.4481284924332075, 0.19205506818566037, 0.06401835606188679, 0.12803671212377357, 0.08564310880541917, 0.8564310880541918, 0.028547702935139727, 0.014273851467569864, 0.028547702935139727, 0.1990779859540287, 0.34838647541955026, 0.049769496488507176, 0.049769496488507176, 0.3981559719080574, 0.1560006852455968, 0.5928026039332678, 0.12480054819647743, 0.062400274098238714, 0.062400274098238714, 0.28983360357012133, 0.4653666310844201, 0.03469838915980326, 0.07552002346545414, 0.1326703114933654, 0.368004935354906, 0.4014599294780793, 0.035545931255871605, 0.08154654817523485, 0.1129106051657098, 0.3305711792480953, 0.5029549230277769, 0.030420660667002632, 0.05475718920060474, 0.0811217617786737, 0.17144911832536497, 0.49720244314355844, 0.10286947099521898, 0.13715929466029197, 0.10286947099521898, 0.17654876868939057, 0.3395168628642126, 0.05432269805827402, 0.09506472160197954, 0.3259361883496441, 0.21430401575552796, 0.5539556633680628, 0.05256513594003516, 0.0707607599192781, 0.10715200787776398, 0.10754263067878381, 0.724120379903811, 0.06094082405131083, 0.06811033276322974, 0.0358475435595946, 0.23311647602005137, 0.5050856980434446, 0.1456977975125321, 0.02913955950250642, 0.0777054920066838, 0.15308352956552393, 0.37177428608770097, 0.021869075652217705, 0.04373815130443541, 0.4155124373921364, 0.18707857195475075, 0.3741571439095015, 0.031179761992458456, 0.04676964298868769, 0.3741571439095015, 0.2215475566161099, 0.5499407433733224, 0.018855111201371056, 0.10527437087432172, 0.10527437087432172, 0.21947699344991195, 0.3840847385373459, 0.05486924836247799, 0.3292154901748679, 0.10973849672495598, 0.3295145254283436, 0.4958261019417057, 0.031086275983806, 0.0512923553732799, 0.093258827951418, 0.264319565920786, 0.5635492631896003, 0.026598195312783495, 0.06150832666081184, 0.08311936035244842, 0.6339597920455624, 0.24653991912882983, 0.03521998844697569, 0.03521998844697569, 0.07043997689395139, 0.09360114653287305, 0.46800573266436524, 0.11700143316609131, 0.07020085989965479, 0.2574031529654009, 0.24383758920426363, 0.590967490502, 0.027093065467140402, 0.049106181159191985, 0.08974577935990259, 0.20348603445759422, 0.2906943349394203, 0.029069433493942032, 0.2906943349394203, 0.20348603445759422, 0.5583233064863178, 0.3307141536678537, 0.017508396370651078, 0.029180660617751798, 0.06419745335905395, 0.7867373912403844, 0.11642302202211968, 0.04409962955383321, 0.017639851821533284, 0.03351571846091324, 0.7388132758433318, 0.14776265516866635, 0.053731874606787765, 0.026865937303393882, 0.033582421629242354, 0.1397322736874885, 0.4191968210624655, 0.034933068421872125, 0.279464547374977, 0.1397322736874885, 0.2002741765900746, 0.35047980903263054, 0.05006854414751865, 0.05006854414751865, 0.4005483531801492, 0.08349366636698012, 0.31310124887617546, 0.02087341659174503, 0.5427088313853708, 0.04174683318349006, 0.07764600304893393, 0.7810274424333943, 0.036539295552439496, 0.031971883608384565, 0.07307859110487899, 0.22643044485582017, 0.3962532784976853, 0.11321522242791009, 0.16982283364186512, 0.11321522242791009, 0.2116156492261064, 0.22789377608965303, 0.016278126863546644, 0.03255625372709329, 0.5209000596334926, 0.07540588226162412, 0.8210862735154626, 0.03351372544961072, 0.0418921568120134, 0.02513529408720804, 0.23362977303262902, 0.5261931825059212, 0.02525727276028422, 0.07998136374090002, 0.13470545472151582, 0.194964367914204, 0.5922968139165691, 0.02221113052187134, 0.05676177800033787, 0.13573468652254708, 0.14514288136041187, 0.5902477175323416, 0.09676192090694125, 0.06773334463485887, 0.10643811299763536, 0.1311771506661379, 0.623091465664155, 0.021862858444356315, 0.17490286755485052, 0.04919143149980171, 0.29842696393124285, 0.5034211868185919, 0.04323007421433892, 0.040441037168252536, 0.11435051888954166, 0.2562934732437526, 0.4485135781765671, 0.1281467366218763, 0.06407336831093816, 0.1281467366218763, 0.18662473055093518, 0.3359245149916833, 0.03732494611018703, 0.26127462277130925, 0.14929978444074812, 0.7038690187136574, 0.17774470169536802, 0.035548940339073604, 0.035548940339073604, 0.04265872840688832, 0.14647570944531324, 0.7158742419369535, 0.030945572418023922, 0.07014329748085422, 0.039197725062830306, 0.09146350063528906, 0.5982207338848636, 0.039551784058503375, 0.054383703080442145, 0.21753481232176858, 0.2783206473681071, 0.5510299913618572, 0.025811995522042188, 0.05611303374356997, 0.08978085398971196, 0.07890996741205648, 0.8285546578265931, 0.01972749185301412, 0.03945498370602824, 0.03945498370602824, 0.27070104397447714, 0.5571519668711057, 0.021656083517958172, 0.06890572028441237, 0.08170249690866038, 0.22867078047848743, 0.5663341759513941, 0.034193761566876625, 0.08762151401512136, 0.08334729381926179, 0.07694563605489312, 0.8079291785763777, 0.01923640901372328, 0.03847281802744656, 0.05770922704116983, 0.7062583529411847, 0.17448735778546914, 0.03323568719723222, 0.024926765397924166, 0.06647137439446443, 0.21124140694974736, 0.5156775522596774, 0.07455579068814613, 0.11804666858956471, 0.08076877324549164, 0.08638609263698385, 0.7990713568921006, 0.021596523159245963, 0.043193046318491926, 0.043193046318491926, 0.24059415624051342, 0.5499294999783164, 0.07733383593445074, 0.051555890622967164, 0.06874118749728955, 0.14207791104755998, 0.42623373314268, 0.28415582209511997, 0.035519477761889996, 0.14207791104755998, 0.7649212477395542, 0.12194396703094341, 0.04434326073852488, 0.02217163036926244, 0.033257445553893664, 0.26445011013458664, 0.4260585107723896, 0.024486121308758022, 0.16650562489955456, 0.11753338228203851, 0.10912410196969058, 0.7376789293151083, 0.013094892236362869, 0.08293431749696484, 0.052379568945451475, 0.3170854207564895, 0.4702839948298496, 0.014251030146359079, 0.06056687812202609, 0.138947543927001, 0.1881133588700541, 0.5999290904504428, 0.022878651754466038, 0.09914082426935283, 0.09151460701786415, 0.1352177912182651, 0.7633262407482708, 0.017447456931389046, 0.030533049629930833, 0.05234237079416714, 0.18702580518768164, 0.5823841528629075, 0.01183707627770137, 0.09943144073269151, 0.11837076277701371, 0.6344090484217784, 0.26786159822252864, 0.02819595770763459, 0.04229393656145189, 0.02819595770763459, 0.10531083742385504, 0.7137734536505731, 0.02730280970248094, 0.06240642217709928, 0.08970923187958023, 0.6429351022655092, 0.23687082715045077, 0.033838689592921536, 0.033838689592921536, 0.06767737918584307, 0.2475070712730312, 0.4331373747278046, 0.028125803553753544, 0.07875224995050993, 0.21375610700852693, 0.15920977259959565, 0.590486878122551, 0.03627564438978129, 0.08867379739724315, 0.12494944178702444, 0.13071083031732036, 0.5001110029532257, 0.04546463663211143, 0.04546463663211143, 0.28415397895069644, 0.5389307931195304, 0.3219586556298493, 0.03499550604672275, 0.0419946072560673, 0.0699910120934455, 0.10120970731685486, 0.8096776585348389, 0.025302426829213714, 0.025302426829213714, 0.05060485365842743, 0.19534343423567646, 0.34185100991243383, 0.048835858558919115, 0.048835858558919115, 0.3906868684713529, 0.6326023486094063, 0.2604833200156379, 0.037211902859376846, 0.037211902859376846, 0.07442380571875369, 0.2459852235813208, 0.43047414126731137, 0.1844889176859906, 0.0614963058953302, 0.1229926117906604, 0.15806659207529586, 0.42677979860329884, 0.015806659207529588, 0.09483995524517752, 0.3161331841505917, 0.19358901663105488, 0.33878077910434606, 0.04839725415776372, 0.33878077910434606, 0.14519176247329116, 0.649925794038491, 0.21122588306250958, 0.04874443455288683, 0.04062036212740569, 0.04874443455288683, 0.25604738095688767, 0.3698462169377266, 0.056899417990419476, 0.25604738095688767, 0.08534912698562921, 0.07301931010762755, 0.8397220662377168, 0.018254827526906887, 0.05476448258072067, 0.036509655053813775, 0.3332775118432094, 0.4849187797318697, 0.024995813388240706, 0.06165633969099374, 0.09498409087531468, 0.6245311802638075, 0.2908775360132802, 0.03422088658979767, 0.025665664942348253, 0.03422088658979767, 0.17428844390828546, 0.6697655915904113, 0.03236785386868159, 0.054776368085461144, 0.06971537756331418, 0.6162157864361367, 0.19332259966623896, 0.012082662479139935, 0.08457863735397955, 0.09666129983311948, 0.22069177396935605, 0.4571472460793804, 0.027586471746169506, 0.10640496244951095, 0.1852234531528524, 0.2579632665108439, 0.4143046401537796, 0.03908534341073393, 0.1693698214465137, 0.11986171979291738, 0.3179381041654058, 0.3855845093069815, 0.020293921542472712, 0.1623513723397817, 0.11499888874067869, 0.7247190478469523, 0.15400279766747738, 0.04529494049043452, 0.036235952392347615, 0.04529494049043452, 0.21185794890842197, 0.48522304427412777, 0.013668254768285289, 0.16401905721942348, 0.1230142929145676, 0.20717944319159393, 0.3625640255852894, 0.05179486079789848, 0.05179486079789848, 0.3625640255852894, 0.21510194113939507, 0.5457810446820472, 0.01926286040054284, 0.12199811587010467, 0.09952477873613802, 0.2032673061932021, 0.5284949961023254, 0.12196038371592126, 0.04065346123864042, 0.08130692247728084, 0.19238526382321966, 0.3366742116906344, 0.09619263191160983, 0.3366742116906344, 0.09619263191160983, 0.09833102723901353, 0.8481051099364917, 0.012291378404876692, 0.012291378404876692, 0.03687413521463007, 0.27909807948954346, 0.5192522409107786, 0.04327102007589821, 0.05408877509487277, 0.10601399918595063, 0.09801160254233839, 0.8036951408471747, 0.039204641016935354, 0.019602320508467677, 0.039204641016935354, 0.7594176225699024, 0.13458033817694473, 0.03845152519341278, 0.01922576259670639, 0.04806440649176598, 0.277691639357654, 0.5146551716095188, 0.03147171912720079, 0.07034854863727234, 0.1092253781473439, 0.055473752428309, 0.8737116007458667, 0.01386843810707725, 0.01386843810707725, 0.0277368762141545, 0.2518371907364943, 0.3237906738040641, 0.035976741533784905, 0.035976741533784905, 0.359767415337849, 0.273172419397012, 0.5476839192812643, 0.028120690232045352, 0.06293678290029198, 0.08837931215785681, 0.29210202874267555, 0.34078570019978816, 0.048683671457112596, 0.29210202874267555, 0.09736734291422519, 0.11172050140752357, 0.8267317104156744, 0.022344100281504714, 0.022344100281504714, 0.04468820056300943, 0.12942089911017285, 0.3796346373898404, 0.01725611988135638, 0.03451223976271276, 0.4400310569745877, 0.3060326202947252, 0.47653650874464354, 0.021859472878194657, 0.07213626049804236, 0.12241304811789008, 0.22290079023785456, 0.6295205911795658, 0.03656966089839801, 0.051371666500130544, 0.05920802240693012, 0.09865420986495364, 0.7892336789196291, 0.016442368310825607, 0.032884736621651214, 0.05754828908788963, 0.22746292572440166, 0.3980601200177029, 0.056865731431100415, 0.2843286571555021, 0.11373146286220083, 0.6468037915822074, 0.2382961337408132, 0.03404230482011617, 0.03404230482011617, 0.06808460964023234, 0.20197210061332502, 0.3534511760733188, 0.050493025153331254, 0.050493025153331254, 0.40394420122665003, 0.1800335582962951, 0.6817664256794126, 0.01770821884881591, 0.047221916930175765, 0.07378424520339963, 0.21275232598601937, 0.3723165704755339, 0.15956424448951453, 0.15956424448951453, 0.10637616299300968, 0.2650320295226911, 0.5150622460535318, 0.023336153542878463, 0.08167653740007462, 0.11501389960418672, 0.2005743210605669, 0.35100506185599206, 0.05014358026514173, 0.05014358026514173, 0.35100506185599206, 0.608222218638871, 0.23994087524285737, 0.050220183190365496, 0.03348012212691033, 0.06696024425382066, 0.2609065225427837, 0.45658641444987147, 0.13045326127139184, 0.06522663063569592, 0.13045326127139184, 0.146643964547674, 0.7502220215265062, 0.038254947273306264, 0.03400439757627223, 0.03187912272775522, 0.2573137636116233, 0.45029908632034077, 0.12865688180581164, 0.06432844090290582, 0.12865688180581164, 0.23783252766326116, 0.41620692341070703, 0.17837439574744587, 0.05945813191581529, 0.11891626383163058, 0.11377802288620911, 0.4323564869675946, 0.022755604577241823, 0.06826681373172547, 0.36408967323586916, 0.23947631952910486, 0.4447417362683376, 0.1710545139493606, 0.06842180557974424, 0.06842180557974424, 0.5915733606180019, 0.2991101261551695, 0.033234458461685504, 0.033234458461685504, 0.0465282418463597, 0.2210864324642045, 0.3869012568123579, 0.05527160811605113, 0.3316296486963068, 0.11054321623210225, 0.5429607572218735, 0.3436460488746035, 0.00687292097749207, 0.04123752586495242, 0.06185628879742863, 0.6044422944141901, 0.25720948698476176, 0.03858142304771426, 0.03858142304771426, 0.06430237174619044, 0.3201688686884622, 0.5163574520550093, 0.0313356765099346, 0.05722167014857623, 0.0749331394802784, 0.20956853033298853, 0.6221565744260596, 0.019647049718717675, 0.08295420992347463, 0.06549016572905891, 0.20341078148831337, 0.4775731391464749, 0.02653184106369305, 0.04421973510615508, 0.24763051659446847, 0.11233018971075691, 0.8050330262604246, 0.03744339657025231, 0.028082547427689227, 0.018721698285126154, 0.19635627199804154, 0.4418016119955935, 0.049089067999510384, 0.2945344079970623, 0.09817813599902077, 0.2064061473990834, 0.5921276353511205, 0.039991191058572406, 0.06837203632594638, 0.09288276632958753, 0.27465905641509203, 0.5225813905242901, 0.03159794454332917, 0.06441119464601715, 0.10573158366421684, 0.16954907885721754, 0.6758083002336981, 0.026268167146892858, 0.050148319098613635, 0.0764164862455065, 0.245371140517314, 0.4293994959052995, 0.1840283553879855, 0.0613427851293285, 0.122685570258657, 0.22350973717799777, 0.39114204006149605, 0.05587743429449944, 0.2793871714724972, 0.11175486858899888, 0.25838583024145967, 0.301450135281703, 0.043064305040243285, 0.043064305040243285, 0.38757874536218956, 0.25086740122476453, 0.182449019072556, 0.0228061273840695, 0.11403063692034751, 0.43331642029732054, 0.11353401652166657, 0.7379711073908327, 0.013100078829423066, 0.08296716591967943, 0.052400315317692264, 0.31758955665656535, 0.33743890394760073, 0.03969869458207067, 0.23819216749242403, 0.07939738916414134, 0.7432420870136782, 0.1445192946971041, 0.020645613528157726, 0.04129122705631545, 0.0825824541126309, 0.2301946194223924, 0.5282671394436953, 0.014756065347589255, 0.1150973097111962, 0.10919488357216049, 0.22370177107746858, 0.3541944708726586, 0.055925442769367145, 0.07456725702582286, 0.2982690281032914, 0.22214285782860238, 0.519655613849052, 0.019834183734696642, 0.12297193915511917, 0.11503826566124052, 0.2609669993478534, 0.3653537990869947, 0.15658019960871203, 0.10438679973914135, 0.15658019960871203, 0.11306869986300791, 0.8103256823515567, 0.012563188873667546, 0.03140797218416887, 0.03768956662100264, 0.21842378104703927, 0.5684618916993458, 0.023802591524356844, 0.07560823190089822, 0.1120121954087381, 0.2151944601271015, 0.430388920254203, 0.026899307515887688, 0.2689930751588769, 0.08069792254766306, 0.1640367862441699, 0.6374000836916316, 0.04921103587325097, 0.03280735724883398, 0.11951251569218092, 0.2204201980424748, 0.517854682147983, 0.0345236454765322, 0.0690472909530644, 0.15933990219937938, 0.35641159174385356, 0.4822039182416842, 0.030749235366136385, 0.05451000814905995, 0.07687308841534096, 0.06551885332684186, 0.8735847110245581, 0.010919808887806977, 0.021839617775613954, 0.03275942666342093, 0.08234978564883033, 0.8234978564883033, 0.020587446412207583, 0.020587446412207583, 0.041174892824415166, 0.6180183135049542, 0.2585174644726606, 0.032314683059082576, 0.0363540184414679, 0.05251135997100918, 0.39330509334856983, 0.40952386008459335, 0.04054691684005875, 0.06690241278609693, 0.09123056289013218, 0.17634875835235614, 0.27253899018091404, 0.048095115914278945, 0.0641268212190386, 0.4328560432285105, 0.03760511613298945, 0.8478244364528531, 0.04786105689653203, 0.0290584988300373, 0.03589579267239902, 0.19468107846711424, 0.5650499594533316, 0.0712247848050418, 0.0712247848050418, 0.09496637974005573, 0.23274545319393877, 0.531053005879128, 0.019668629847375108, 0.12456798903337568, 0.0917869392877505, 0.3797022817860976, 0.237313926116311, 0.0474627852232622, 0.2610453187279421, 0.0711941778348933, 0.10755755275220052, 0.8066816456415039, 0.02688938818805013, 0.02688938818805013, 0.05377877637610026, 0.19713691367264238, 0.5734892034113233, 0.02688230640990578, 0.10080864903714667, 0.10080864903714667, 0.2244380962857543, 0.3927666685000701, 0.05610952407143858, 0.2805476203571929, 0.11221904814287716, 0.07821545159653583, 0.8134406966039726, 0.015643090319307166, 0.06257236127722866, 0.03128618063861433, 0.21487997844648868, 0.37603996228135517, 0.05371999461162217, 0.322319967669733, 0.10743998922324434, 0.19771422290095192, 0.5570218010574896, 0.03612086764536622, 0.06083514550798521, 0.14828566717571395, 0.24203778653313227, 0.507556850864255, 0.0252875299362974, 0.1011501197451896, 0.12282514540487309, 0.2393989039258335, 0.4069781366739169, 0.02393989039258335, 0.10373952503452784, 0.23141894046163905, 0.15237605505003451, 0.26665809633756044, 0.03809401376250863, 0.03809401376250863, 0.5333161926751209, 0.3294610983695681, 0.474774738715081, 0.0313175949020502, 0.053866263231526344, 0.1102379340552167, 0.1617607657355622, 0.4852822972066866, 0.030811574425821373, 0.16946365934201754, 0.15405787212910685, 0.6857576713633463, 0.1800113887328784, 0.042859854460209144, 0.03428788356816731, 0.05143182535225097, 0.17258889559103457, 0.35236899516502895, 0.014382407965919547, 0.043147223897758644, 0.4170898310116669, 0.2124277267269818, 0.32488946440597216, 0.01249574863099893, 0.04998299452399572, 0.3873682075609668, 0.1691714234999207, 0.7414747498081631, 0.032394527904240134, 0.02879513591488012, 0.02879513591488012, 0.3379500458241373, 0.4931712878015027, 0.03340203941285078, 0.04715582034755404, 0.08841716315166383, 0.10884934890642804, 0.7555425394681475, 0.0064029028768487085, 0.09604354315273063, 0.03201451438424354, 0.39648575104891587, 0.45682053925201177, 0.034477021830340515, 0.04884244759298239, 0.06320787335562428, 0.619158958887058, 0.18843968313953938, 0.02691995473421991, 0.05383990946843982, 0.13459977367109954, 0.2135603532195392, 0.37373061813419356, 0.1067801766097696, 0.266950441524424, 0.1067801766097696, 0.07197603891187973, 0.8457184572145868, 0.017994009727969933, 0.035988019455939865, 0.035988019455939865, 0.14788200879993646, 0.657253372444162, 0.05586653665775377, 0.03943520234664972, 0.0985880058666243, 0.09125874354847185, 0.8030769432265523, 0.01825174870969437, 0.04562937177423593, 0.04562937177423593, 0.1244649400393409, 0.5047744790484381, 0.08297662669289393, 0.09680606447504292, 0.19361212895008584, 0.3337305151827434, 0.45678199005459286, 0.027966244289056707, 0.09135639801091858, 0.08949198172498146, 0.16703032907837867, 0.6568354832676783, 0.027085999310007353, 0.09705816419419301, 0.049657665401680144, 0.08182889561656059, 0.4255102572061151, 0.016365779123312118, 0.31094980334293026, 0.14729201210980908, 0.6938918763258238, 0.2072664046168045, 0.045057914047131414, 0.027034748428278847, 0.027034748428278847, 0.22913569286524557, 0.5664234327628871, 0.025663197600907506, 0.06599107954519072, 0.11181821811823985, 0.0910833810307049, 0.8425212745340204, 0.022770845257676225, 0.022770845257676225, 0.04554169051535245, 0.0868295123251093, 0.7079944851124297, 0.04675435279044347, 0.060112739301998744, 0.09684830220877576, 0.2710679699057152, 0.1885690225431062, 0.023571127817888275, 0.36535248117726826, 0.15321233081627378, 0.12998952561456326, 0.577306422582325, 0.04205543475765282, 0.06881798414888643, 0.17969140305542566, 0.14944778598714745, 0.6550794619103296, 0.027398760764310363, 0.06476070726109723, 0.10212265375788408, 0.1708440495108823, 0.7077824908307981, 0.010459839765972387, 0.059272425340510186, 0.05229919882986193, 0.1582953073885631, 0.3165906147771262, 0.05276510246285436, 0.02638255123142718, 0.4221208197028349, 0.3236265347580439, 0.49199979946324246, 0.030613320855490643, 0.08746663101568755, 0.06559997326176566, 0.7593057183956025, 0.15186114367912049, 0.03573203380685188, 0.01786601690342594, 0.026799025355138912, 0.2310220343208137, 0.404288560061424, 0.057755508580203424, 0.28877754290101715, 0.11551101716040685, 0.2271267619998534, 0.5512555786038108, 0.030756749020813483, 0.09700205460410406, 0.09463615083327225, 0.1867274375159959, 0.3267730156529928, 0.09336371875799795, 0.04668185937899898, 0.3734548750319918, 0.2175760113746537, 0.54277026493462, 0.021055743036256812, 0.10995776918934112, 0.10995776918934112, 0.15846927391466564, 0.6919421731235783, 0.02661316050475301, 0.07258134683114457, 0.0508069427818012, 0.2506743435255454, 0.35094408093576357, 0.05013486870510908, 0.3008092122306545, 0.10026973741021816, 0.6770117745423794, 0.21839089501367076, 0.039310361102460736, 0.02620690740164049, 0.039310361102460736, 0.31637812715410685, 0.49973363266387333, 0.02157123594232547, 0.0647137078269764, 0.0970705617404646, 0.16690916798818875, 0.650295459694242, 0.03468242451702624, 0.060694242904795914, 0.08670606129256558, 0.29670765035754376, 0.3296751670639375, 0.03296751670639375, 0.29670765035754376, 0.0659350334127875, 0.235086007908759, 0.32912041107226264, 0.0470172015817518, 0.2821032094905108, 0.0940344031635036, 0.2484832219123811, 0.5507426634923671, 0.027815286034968034, 0.06861103888625449, 0.10384373453054732, 0.037939313955964865, 0.906080086242455, 0.002231724350350874, 0.04686621135736836, 0.004463448700701748, 0.09463693305752448, 0.8328050109062155, 0.018927386611504896, 0.03785477322300979, 0.03785477322300979, 0.25079907063485296, 0.2925989157406618, 0.16719938042323532, 0.12539953531742648, 0.12539953531742648, 0.20738070494716274, 0.38513559490187366, 0.20738070494716274, 0.08887744497735546, 0.08887744497735546, 0.21744338194803495, 0.38052591840906114, 0.05436084548700874, 0.2718042274350437, 0.10872169097401747, 0.2493126654227795, 0.28255435414581676, 0.06648337744607453, 0.23269182106126088, 0.18282928797670497, 0.20755652271095293, 0.4949424772338108, 0.02394882954357149, 0.13571003408023846, 0.13571003408023846, 0.2121443916604979, 0.5428400610136269, 0.01663877581650964, 0.11231173676144006, 0.11439158373850376, 0.1701770187456656, 0.2356297182632293, 0.026181079807025474, 0.03927161971053821, 0.5236215961405095, 0.28264907249556676, 0.5178738039683873, 0.041733420100016565, 0.0474243410227461, 0.11002447117277095, 0.07265138389404914, 0.508559687258344, 0.029060553557619655, 0.3487266426914359, 0.029060553557619655, 0.23991455343205031, 0.41985046850608804, 0.17993591507403775, 0.05997863835801258, 0.17993591507403775, 0.16017963680212713, 0.5274207553240772, 0.019534102049039895, 0.06641594696673564, 0.22659558376886277, 0.17171513000110425, 0.24040118200154595, 0.03434302600022085, 0.03434302600022085, 0.5151453900033127, 0.14719472895836727, 0.29438945791673454, 0.04906490965278909, 0.09812981930557818, 0.41705173204870727, 0.24372852585821317, 0.5147400956557785, 0.03092078313126585, 0.11276991494932251, 0.09821895818166798, 0.30512334928607754, 0.2112392418134383, 0.04694205373631962, 0.37553642989055697, 0.07041308060447944, 0.07383425825615665, 0.8121768408177231, 0.018458564564039163, 0.055375693692117485, 0.046146411410097905, 0.2605617094587106, 0.5839782172517592, 0.021713475788225883, 0.03999850803094242, 0.09371079024392223, 0.17118588704683746, 0.5135576611405124, 0.22824784939578327, 0.02853098117447291, 0.05706196234894582, 0.22401547904416272, 0.3920270883272848, 0.05600386976104068, 0.2800193488052034, 0.11200773952208136, 0.1440273488866646, 0.7323424519660912, 0.036617122598304554, 0.06835196218350184, 0.019529132052429097, 0.19260386357845294, 0.6956736565072479, 0.014373422655108428, 0.017248107186130113, 0.0804911668686072, 0.12145845761989155, 0.4554692160745933, 0.030364614404972887, 0.273281529644756, 0.15182307202486442, 0.5675596592523261, 0.3040498174566033, 0.04053997566088044, 0.03040498174566033, 0.06080996349132066, 0.26340273225751587, 0.4609547814506528, 0.13170136612875794, 0.06585068306437897, 0.13170136612875794, 0.04552088917146409, 0.8906260924851669, 0.005937507283234446, 0.04947922736028705, 0.007916676377645928, 0.5452687981494931, 0.2832565185192172, 0.04248847777788258, 0.06373271666682387, 0.05665130370384344, 0.10582639233576945, 0.39684897125913543, 0.02645659808394236, 0.02645659808394236, 0.44976216742702013, 0.20484824121704098, 0.35848442212982173, 0.051212060304260246, 0.051212060304260246, 0.35848442212982173, 0.17740460440965333, 0.35480920881930667, 0.04435115110241333, 0.04435115110241333, 0.39916035992172005, 0.5611479900551039, 0.3178530573039399, 0.027468782729970116, 0.047089341822805914, 0.047089341822805914, 0.2773003895119149, 0.3099239647486108, 0.0244676814275219, 0.0244676814275219, 0.36701522141282855, 0.36639339309799746, 0.266467922253089, 0.1998509416898168, 0.0999254708449084, 0.06661698056327225, 0.2395329334444006, 0.565495275863585, 0.020989999322447477, 0.07284764470731771, 0.10001117324224974, 0.2161073127290482, 0.4538253567310013, 0.12966438763742894, 0.17288585018323857, 0.04322146254580964, 0.34300039622488204, 0.22866693081658804, 0.028583366352073505, 0.34300039622488204, 0.05716673270414701, 0.24771833552837313, 0.433507087174653, 0.18578875164627986, 0.061929583882093284, 0.12385916776418657, 0.08024970607630263, 0.8225594872821019, 0.02006242651907566, 0.02006242651907566, 0.060187279557226976, 0.247483232988466, 0.4330956577298155, 0.1856124247413495, 0.0618708082471165, 0.123741616494233, 0.03750744140454606, 0.8064099901977402, 0.009376860351136515, 0.04688430175568257, 0.09376860351136514, 0.24595546092780385, 0.19129869183273632, 0.02732838454753376, 0.10931353819013503, 0.43725415276054014, 0.7290988740195694, 0.15302075133744047, 0.036004882667633055, 0.027003662000724793, 0.04500610333454132, 0.6018815739966807, 0.2771823038142609, 0.03167797757877267, 0.03167797757877267, 0.06335595515754534, 0.6696378972297988, 0.24422088016616195, 0.03151237163434348, 0.023634278725757605, 0.03151237163434348, 0.6175323961402323, 0.2542780454695074, 0.03632543506707248, 0.03632543506707248, 0.07265087013414497, 0.1291509065171666, 0.5671409373145142, 0.0449220544407536, 0.0336915408305652, 0.2189950153986738, 0.15020871435881802, 0.3630043930338102, 0.05006957145293934, 0.037552178589704506, 0.3880391787602799, 0.8275163466076617, 0.09269728036678591, 0.03862386681949413, 0.013518353386822946, 0.02703670677364589, 0.20368980849910534, 0.37828107292690993, 0.029098544071300764, 0.05819708814260153, 0.3491825288556092, 0.7595645241000509, 0.1299255107013245, 0.04997135026974019, 0.019988540107896077, 0.03997708021579215, 0.24075096025214812, 0.513602048537916, 0.020635796593041267, 0.10088611667709063, 0.1261076458463633, 0.053410526173244134, 0.814510524141973, 0.013352631543311034, 0.0801157892598662, 0.0400578946299331, 0.2161253650014352, 0.5953271417766806, 0.027506864636546297, 0.08055581786417129, 0.08055581786417129, 0.198426603862543, 0.49606650965635746, 0.14881995289690725, 0.04960665096563575, 0.0992133019312715, 0.783622647879138, 0.1175433971818707, 0.0391811323939569, 0.01959056619697845, 0.029385849295467677, 0.2441498035973384, 0.5322905627978008, 0.028594121142030623, 0.08798191120624807, 0.10557829344749768, 0.21885129973427359, 0.3829897745349788, 0.054712824933568396, 0.3282769496014104, 0.10942564986713679], \"Term\": [\"13f\", \"13f\", \"13f\", \"13f\", \"13f\", \"145\", \"145\", \"145\", \"145\", \"145\", \"17g5\", \"17g5\", \"17g5\", \"17g5\", \"17g5\", \"17h\", \"17h\", \"17h\", \"17h\", \"17h\", \"1800sec0330\", \"1800sec0330\", \"1800sec0330\", \"1800sec0330\", \"1800sec0330\", \"1976\", \"1976\", \"1976\", \"1976\", \"1976\", \"1inmm\", \"1inmm\", \"1inmm\", \"1inmm\", \"1inmm\", \"1mdb\", \"1mdb\", \"1mdb\", \"1mdb\", \"1mdb\", \"206\", \"206\", \"206\", \"206\", \"206\", \"2310\", \"2310\", \"2310\", \"2310\", \"2310\", \"31\", \"31\", \"31\", \"31\", \"31\", \"310\", \"310\", \"310\", \"310\", \"310\", \"3com\", \"3com\", \"3com\", \"3com\", \"3com\", \"606\", \"606\", \"606\", \"606\", \"606\", \"608\", \"608\", \"608\", \"608\", \"608\", \"610\", \"610\", \"610\", \"610\", \"610\", \"6552\", \"6552\", \"6552\", \"6552\", \"6552\", \"701\", \"701\", \"701\", \"701\", \"701\", \"808\", \"808\", \"808\", \"808\", \"808\", \"accessing\", \"accessing\", \"accessing\", \"accessing\", \"accessing\", \"account\", \"account\", \"account\", \"account\", \"account\", \"accounting\", \"accounting\", \"accounting\", \"accounting\", \"accounting\", \"action\", \"action\", \"action\", \"action\", \"action\", \"advertising\", \"advertising\", \"advertising\", \"advertising\", \"advertising\", \"advise\", \"advise\", \"advise\", \"advise\", \"advise\", \"adviser\", \"adviser\", \"adviser\", \"adviser\", \"adviser\", \"advisor\", \"advisor\", \"advisor\", \"advisor\", \"advisor\", \"affected\", \"affected\", \"affected\", \"affected\", \"affected\", \"african\", \"african\", \"african\", \"african\", \"african\", \"afternoon\", \"afternoon\", \"afternoon\", \"afternoon\", \"afternoon\", \"agency\", \"agency\", \"agency\", \"agency\", \"agency\", \"aggregation\", \"aggregation\", \"aggregation\", \"aggregation\", \"aggregation\", \"agreed\", \"agreed\", \"agreed\", \"agreed\", \"agreed\", \"alleges\", \"alleges\", \"alleges\", \"alleges\", \"alleges\", \"annualized\", \"annualized\", \"annualized\", \"annualized\", \"annualized\", \"appropriation\", \"appropriation\", \"appropriation\", \"appropriation\", \"appropriation\", \"asset\", \"asset\", \"asset\", \"asset\", \"asset\", \"auction\", \"auction\", \"auction\", \"auction\", \"auction\", \"audit\", \"audit\", \"audit\", \"audit\", \"audit\", \"award\", \"award\", \"award\", \"award\", \"award\", \"awarded\", \"awarded\", \"awarded\", \"awarded\", \"awarded\", \"bidding\", \"bidding\", \"bidding\", \"bidding\", \"bidding\", \"biodiesel\", \"biodiesel\", \"biodiesel\", \"biodiesel\", \"biodiesel\", \"blue\", \"blue\", \"blue\", \"blue\", \"blue\", \"bond\", \"bond\", \"bond\", \"bond\", \"bond\", \"breaker\", \"breaker\", \"breaker\", \"breaker\", \"breaker\", \"breakout\", \"breakout\", \"breakout\", \"breakout\", \"breakout\", \"brother\", \"brother\", \"brother\", \"brother\", \"brother\", \"business\", \"business\", \"business\", \"business\", \"business\", \"capital\", \"capital\", \"capital\", \"capital\", \"capital\", \"class\", \"class\", \"class\", \"class\", \"class\", \"clearing\", \"clearing\", \"clearing\", \"clearing\", \"clearing\", \"client\", \"client\", \"client\", \"client\", \"client\", \"clinic\", \"clinic\", \"clinic\", \"clinic\", \"clinic\", \"coding\", \"coding\", \"coding\", \"coding\", \"coding\", \"collected\", \"collected\", \"collected\", \"collected\", \"collected\", \"comment\", \"comment\", \"comment\", \"comment\", \"comment\", \"committee\", \"committee\", \"committee\", \"committee\", \"committee\", \"company\", \"company\", \"company\", \"company\", \"company\", \"compensatory\", \"compensatory\", \"compensatory\", \"compensatory\", \"compensatory\", \"complaint\", \"complaint\", \"complaint\", \"complaint\", \"complaint\", \"compliance\", \"compliance\", \"compliance\", \"compliance\", \"compliance\", \"conditional\", \"conditional\", \"conditional\", \"conditional\", \"conditional\", \"confidentiality\", \"confidentiality\", \"confidentiality\", \"confidentiality\", \"confidentiality\", \"conflict\", \"conflict\", \"conflict\", \"conflict\", \"conflict\", \"connbased\", \"connbased\", \"connbased\", \"connbased\", \"connbased\", \"contact\", \"contact\", \"contact\", \"contact\", \"contact\", \"coronavirus\", \"coronavirus\", \"coronavirus\", \"coronavirus\", \"coronavirus\", \"credible\", \"credible\", \"credible\", \"credible\", \"credible\", \"credit\", \"credit\", \"credit\", \"credit\", \"credit\", \"cum\", \"cum\", \"cum\", \"cum\", \"cum\", \"customer\", \"customer\", \"customer\", \"customer\", \"customer\", \"data\", \"data\", \"data\", \"data\", \"data\", \"dealer\", \"dealer\", \"dealer\", \"dealer\", \"dealer\", \"degree\", \"degree\", \"degree\", \"degree\", \"degree\", \"depositary\", \"depositary\", \"depositary\", \"depositary\", \"depositary\", \"development\", \"development\", \"development\", \"development\", \"development\", \"devere\", \"devere\", \"devere\", \"devere\", \"devere\", \"digital\", \"digital\", \"digital\", \"digital\", \"digital\", \"disclosure\", \"disclosure\", \"disclosure\", \"disclosure\", \"disclosure\", \"discussion\", \"discussion\", \"discussion\", \"discussion\", \"discussion\", \"doe\", \"doe\", \"doe\", \"doe\", \"doe\", \"eadgear\", \"eadgear\", \"eadgear\", \"eadgear\", \"eadgear\", \"eastern\", \"eastern\", \"eastern\", \"eastern\", \"eastern\", \"ebx\", \"ebx\", \"ebx\", \"ebx\", \"ebx\", \"ecareer\", \"ecareer\", \"ecareer\", \"ecareer\", \"ecareer\", \"economist\", \"economist\", \"economist\", \"economist\", \"economist\", \"educator\", \"educator\", \"educator\", \"educator\", \"educator\", \"eligible\", \"eligible\", \"eligible\", \"eligible\", \"eligible\", \"eliminate\", \"eliminate\", \"eliminate\", \"eliminate\", \"eliminate\", \"emission\", \"emission\", \"emission\", \"emission\", \"emission\", \"enforcement\", \"enforcement\", \"enforcement\", \"enforcement\", \"enforcement\", \"entirely\", \"entirely\", \"entirely\", \"entirely\", \"entirely\", \"entity\", \"entity\", \"entity\", \"entity\", \"entity\", \"ethic\", \"ethic\", \"ethic\", \"ethic\", \"ethic\", \"event\", \"event\", \"event\", \"event\", \"event\", \"examination\", \"examination\", \"examination\", \"examination\", \"examination\", \"examiner\", \"examiner\", \"examiner\", \"examiner\", \"examiner\", \"exceed\", \"exceed\", \"exceed\", \"exceed\", \"exceed\", \"excited\", \"excited\", \"excited\", \"excited\", \"excited\", \"expectancy\", \"expectancy\", \"expectancy\", \"expectancy\", \"expectancy\", \"experience\", \"experience\", \"experience\", \"experience\", \"experience\", \"experiencing\", \"experiencing\", \"experiencing\", \"experiencing\", \"experiencing\", \"exploitation\", \"exploitation\", \"exploitation\", \"exploitation\", \"exploitation\", \"extraction\", \"extraction\", \"extraction\", \"extraction\", \"extraction\", \"fee\", \"fee\", \"fee\", \"fee\", \"fee\", \"finalized\", \"finalized\", \"finalized\", \"finalized\", \"finalized\", \"financed\", \"financed\", \"financed\", \"financed\", \"financed\", \"financial\", \"financial\", \"financial\", \"financial\", \"financial\", \"finder\", \"finder\", \"finder\", \"finder\", \"finder\", \"fintech\", \"fintech\", \"fintech\", \"fintech\", \"fintech\", \"firm\", \"firm\", \"firm\", \"firm\", \"firm\", \"flagged\", \"flagged\", \"flagged\", \"flagged\", \"flagged\", \"forex\", \"forex\", \"forex\", \"forex\", \"forex\", \"forum\", \"forum\", \"forum\", \"forum\", \"forum\", \"fraud\", \"fraud\", \"fraud\", \"fraud\", \"fraud\", \"fund\", \"fund\", \"fund\", \"fund\", \"fund\", \"g\", \"g\", \"g\", \"g\", \"g\", \"generator\", \"generator\", \"generator\", \"generator\", \"generator\", \"german\", \"german\", \"german\", \"german\", \"german\", \"goodwill\", \"goodwill\", \"goodwill\", \"goodwill\", \"goodwill\", \"government\", \"government\", \"government\", \"government\", \"government\", \"guarantor\", \"guarantor\", \"guarantor\", \"guarantor\", \"guarantor\", \"ha\", \"ha\", \"ha\", \"ha\", \"ha\", \"halfday\", \"halfday\", \"halfday\", \"halfday\", \"halfday\", \"harmed\", \"harmed\", \"harmed\", \"harmed\", \"harmed\", \"harvesting\", \"harvesting\", \"harvesting\", \"harvesting\", \"harvesting\", \"hedge\", \"hedge\", \"hedge\", \"hedge\", \"hedge\", \"hereuare\", \"hereuare\", \"hereuare\", \"hereuare\", \"hereuare\", \"highercost\", \"highercost\", \"highercost\", \"highercost\", \"highercost\", \"hosted\", \"hosted\", \"hosted\", \"hosted\", \"hosted\", \"hurricane\", \"hurricane\", \"hurricane\", \"hurricane\", \"hurricane\", \"identity\", \"identity\", \"identity\", \"identity\", \"identity\", \"immunity\", \"immunity\", \"immunity\", \"immunity\", \"immunity\", \"independence\", \"independence\", \"independence\", \"independence\", \"independence\", \"indirectly\", \"indirectly\", \"indirectly\", \"indirectly\", \"indirectly\", \"information\", \"information\", \"information\", \"information\", \"information\", \"insider\", \"insider\", \"insider\", \"insider\", \"insider\", \"institutional\", \"institutional\", \"institutional\", \"institutional\", \"institutional\", \"interpretation\", \"interpretation\", \"interpretation\", \"interpretation\", \"interpretation\", \"intruder\", \"intruder\", \"intruder\", \"intruder\", \"intruder\", \"investment\", \"investment\", \"investment\", \"investment\", \"investment\", \"investor\", \"investor\", \"investor\", \"investor\", \"investor\", \"issuer\", \"issuer\", \"issuer\", \"issuer\", \"issuer\", \"itrackr\", \"itrackr\", \"itrackr\", \"itrackr\", \"itrackr\", \"jd\", \"jd\", \"jd\", \"jd\", \"jd\", \"juror\", \"juror\", \"juror\", \"juror\", \"juror\", \"jury\", \"jury\", \"jury\", \"jury\", \"jury\", \"laude\", \"laude\", \"laude\", \"laude\", \"laude\", \"laundering\", \"laundering\", \"laundering\", \"laundering\", \"laundering\", \"layering\", \"layering\", \"layering\", \"layering\", \"layering\", \"leadership\", \"leadership\", \"leadership\", \"leadership\", \"leadership\", \"liable\", \"liable\", \"liable\", \"liable\", \"liable\", \"look\", \"look\", \"look\", \"look\", \"look\", \"lowercost\", \"lowercost\", \"lowercost\", \"lowercost\", \"lowercost\", \"margin\", \"margin\", \"margin\", \"margin\", \"margin\", \"market\", \"market\", \"market\", \"market\", \"market\", \"mask\", \"mask\", \"mask\", \"mask\", \"mask\", \"meeting\", \"meeting\", \"meeting\", \"meeting\", \"meeting\", \"member\", \"member\", \"member\", \"member\", \"member\", \"million\", \"million\", \"million\", \"million\", \"million\", \"mineral\", \"mineral\", \"mineral\", \"mineral\", \"mineral\", \"mismarking\", \"mismarking\", \"mismarking\", \"mismarking\", \"mismarking\", \"monetary\", \"monetary\", \"monetary\", \"monetary\", \"monetary\", \"money\", \"money\", \"money\", \"money\", \"money\", \"morning\", \"morning\", \"morning\", \"morning\", \"morning\", \"municipal\", \"municipal\", \"municipal\", \"municipal\", \"municipal\", \"mutual\", \"mutual\", \"mutual\", \"mutual\", \"mutual\", \"named\", \"named\", \"named\", \"named\", \"named\", \"nationally\", \"nationally\", \"nationally\", \"nationally\", \"nationally\", \"neve\", \"neve\", \"neve\", \"neve\", \"neve\", \"new\", \"new\", \"new\", \"new\", \"new\", \"nonvoting\", \"nonvoting\", \"nonvoting\", \"nonvoting\", \"nonvoting\", \"notification\", \"notification\", \"notification\", \"notification\", \"notification\", \"nrsros\", \"nrsros\", \"nrsros\", \"nrsros\", \"nrsros\", \"offering\", \"offering\", \"offering\", \"offering\", \"offering\", \"office\", \"office\", \"office\", \"office\", \"office\", \"online\", \"online\", \"online\", \"online\", \"online\", \"optionsxpress\", \"optionsxpress\", \"optionsxpress\", \"optionsxpress\", \"optionsxpress\", \"order\", \"order\", \"order\", \"order\", \"order\", \"organization\", \"organization\", \"organization\", \"organization\", \"organization\", \"original\", \"original\", \"original\", \"original\", \"original\", \"panel\", \"panel\", \"panel\", \"panel\", \"panel\", \"panelist\", \"panelist\", \"panelist\", \"panelist\", \"panelist\", \"paper\", \"paper\", \"paper\", \"paper\", \"paper\", \"pay\", \"pay\", \"pay\", \"pay\", \"pay\", \"pension\", \"pension\", \"pension\", \"pension\", \"pension\", \"percent\", \"percent\", \"percent\", \"percent\", \"percent\", \"perquisite\", \"perquisite\", \"perquisite\", \"perquisite\", \"perquisite\", \"plaintiff\", \"plaintiff\", \"plaintiff\", \"plaintiff\", \"plaintiff\", \"plant\", \"plant\", \"plant\", \"plant\", \"plant\", \"pm\", \"pm\", \"pm\", \"pm\", \"pm\", \"political\", \"political\", \"political\", \"political\", \"political\", \"priority\", \"priority\", \"priority\", \"priority\", \"priority\", \"program\", \"program\", \"program\", \"program\", \"program\", \"proposed\", \"proposed\", \"proposed\", \"proposed\", \"proposed\", \"prosecutor\", \"prosecutor\", \"prosecutor\", \"prosecutor\", \"prosecutor\", \"protects\", \"protects\", \"protects\", \"protects\", \"protects\", \"public\", \"public\", \"public\", \"public\", \"public\", \"pullin\", \"pullin\", \"pullin\", \"pullin\", \"pullin\", \"rate\", \"rate\", \"rate\", \"rate\", \"rate\", \"rating\", \"rating\", \"rating\", \"rating\", \"rating\", \"recommendation\", \"recommendation\", \"recommendation\", \"recommendation\", \"recommendation\", \"regulatory\", \"regulatory\", \"regulatory\", \"regulatory\", \"regulatory\", \"release\", \"release\", \"release\", \"release\", \"release\", \"remark\", \"remark\", \"remark\", \"remark\", \"remark\", \"report\", \"report\", \"report\", \"report\", \"report\", \"reveal\", \"reveal\", \"reveal\", \"reveal\", \"reveal\", \"revenuesharing\", \"revenuesharing\", \"revenuesharing\", \"revenuesharing\", \"revenuesharing\", \"risk\", \"risk\", \"risk\", \"risk\", \"risk\", \"roboadvisers\", \"roboadvisers\", \"roboadvisers\", \"roboadvisers\", \"roboadvisers\", \"role\", \"role\", \"role\", \"role\", \"role\", \"rule\", \"rule\", \"rule\", \"rule\", \"rule\", \"salesman\", \"salesman\", \"salesman\", \"salesman\", \"salesman\", \"sanction\", \"sanction\", \"sanction\", \"sanction\", \"sanction\", \"scheme\", \"scheme\", \"scheme\", \"scheme\", \"scheme\", \"section\", \"section\", \"section\", \"section\", \"section\", \"securitization\", \"securitization\", \"securitization\", \"securitization\", \"securitization\", \"securitizations\", \"securitizations\", \"securitizations\", \"securitizations\", \"securitizations\", \"security\", \"security\", \"security\", \"security\", \"security\", \"securitybased\", \"securitybased\", \"securitybased\", \"securitybased\", \"securitybased\", \"segregation\", \"segregation\", \"segregation\", \"segregation\", \"segregation\", \"selecting\", \"selecting\", \"selecting\", \"selecting\", \"selecting\", \"selection\", \"selection\", \"selection\", \"selection\", \"selection\", \"selfassessments\", \"selfassessments\", \"selfassessments\", \"selfassessments\", \"selfassessments\", \"seminar\", \"seminar\", \"seminar\", \"seminar\", \"seminar\", \"serve\", \"serve\", \"serve\", \"serve\", \"serve\", \"served\", \"served\", \"served\", \"served\", \"served\", \"session\", \"session\", \"session\", \"session\", \"session\", \"share\", \"share\", \"share\", \"share\", \"share\", \"sheet\", \"sheet\", \"sheet\", \"sheet\", \"sheet\", \"singleinverse\", \"singleinverse\", \"singleinverse\", \"singleinverse\", \"singleinverse\", \"small\", \"small\", \"small\", \"small\", \"small\", \"soft\", \"soft\", \"soft\", \"soft\", \"soft\", \"speaker\", \"speaker\", \"speaker\", \"speaker\", \"speaker\", \"staff\", \"staff\", \"staff\", \"staff\", \"staff\", \"statistical\", \"statistical\", \"statistical\", \"statistical\", \"statistical\", \"statutory\", \"statutory\", \"statutory\", \"statutory\", \"statutory\", \"stock\", \"stock\", \"stock\", \"stock\", \"stock\", \"storm\", \"storm\", \"storm\", \"storm\", \"storm\", \"streetbased\", \"streetbased\", \"streetbased\", \"streetbased\", \"streetbased\", \"submission\", \"submission\", \"submission\", \"submission\", \"submission\", \"subsidiary\", \"subsidiary\", \"subsidiary\", \"subsidiary\", \"subsidiary\", \"succeed\", \"succeed\", \"succeed\", \"succeed\", \"succeed\", \"successful\", \"successful\", \"successful\", \"successful\", \"successful\", \"survivor\", \"survivor\", \"survivor\", \"survivor\", \"survivor\", \"swap\", \"swap\", \"swap\", \"swap\", \"swap\", \"taken\", \"taken\", \"taken\", \"taken\", \"taken\", \"teleconference\", \"teleconference\", \"teleconference\", \"teleconference\", \"teleconference\", \"telephonic\", \"telephonic\", \"telephonic\", \"telephonic\", \"telephonic\", \"testthewaters\", \"testthewaters\", \"testthewaters\", \"testthewaters\", \"testthewaters\", \"tip\", \"tip\", \"tip\", \"tip\", \"tip\", \"token\", \"token\", \"token\", \"token\", \"token\", \"town\", \"town\", \"town\", \"town\", \"town\", \"trading\", \"trading\", \"trading\", \"trading\", \"trading\", \"trustee\", \"trustee\", \"trustee\", \"trustee\", \"trustee\", \"tweet\", \"tweet\", \"tweet\", \"tweet\", \"tweet\", \"ubiome\", \"ubiome\", \"ubiome\", \"ubiome\", \"ubiome\", \"underwriting\", \"underwriting\", \"underwriting\", \"underwriting\", \"underwriting\", \"van\", \"van\", \"van\", \"van\", \"van\", \"variable\", \"variable\", \"variable\", \"variable\", \"variable\", \"verdict\", \"verdict\", \"verdict\", \"verdict\", \"verdict\", \"violator\", \"violator\", \"violator\", \"violator\", \"violator\", \"visit\", \"visit\", \"visit\", \"visit\", \"visit\", \"voluntarily\", \"voluntarily\", \"voluntarily\", \"voluntarily\", \"voluntarily\", \"walnut\", \"walnut\", \"walnut\", \"walnut\", \"walnut\", \"webcast\", \"webcast\", \"webcast\", \"webcast\", \"webcast\", \"webpage\", \"webpage\", \"webpage\", \"webpage\", \"webpage\", \"whistleblower\", \"whistleblower\", \"whistleblower\", \"whistleblower\", \"whistleblower\", \"wishing\", \"wishing\", \"wishing\", \"wishing\", \"wishing\", \"withheld\", \"withheld\", \"withheld\", \"withheld\", \"withheld\", \"work\", \"work\", \"work\", \"work\", \"work\", \"worker\", \"worker\", \"worker\", \"worker\", \"worker\", \"would\", \"would\", \"would\", \"would\", \"would\", \"wwwsecgovcomplainttipscomplaintshtml\", \"wwwsecgovcomplainttipscomplaintshtml\", \"wwwsecgovcomplainttipscomplaintshtml\", \"wwwsecgovcomplainttipscomplaintshtml\", \"wwwsecgovcomplainttipscomplaintshtml\", \"wwwsecgovwhistleblower\", \"wwwsecgovwhistleblower\", \"wwwsecgovwhistleblower\", \"wwwsecgovwhistleblower\", \"wwwsecgovwhistleblower\", \"year\", \"year\", \"year\", \"year\", \"year\", \"ying\", \"ying\", \"ying\", \"ying\", \"ying\"]}, \"R\": 30, \"lambda.step\": 0.01, \"plot.opts\": {\"xlab\": \"PC1\", \"ylab\": \"PC2\"}, \"topic.order\": [1, 2, 3, 4, 5]};\n",
       "\n",
       "function LDAvis_load_lib(url, callback){\n",
       "  var s = document.createElement('script');\n",
       "  s.src = url;\n",
       "  s.async = true;\n",
       "  s.onreadystatechange = s.onload = callback;\n",
       "  s.onerror = function(){console.warn(\"failed to load library \" + url);};\n",
       "  document.getElementsByTagName(\"head\")[0].appendChild(s);\n",
       "}\n",
       "\n",
       "if(typeof(LDAvis) !== \"undefined\"){\n",
       "   // already loaded: just create the visualization\n",
       "   !function(LDAvis){\n",
       "       new LDAvis(\"#\" + \"ldavis_el341231407165576053448661184801\", ldavis_el341231407165576053448661184801_data);\n",
       "   }(LDAvis);\n",
       "}else if(typeof define === \"function\" && define.amd){\n",
       "   // require.js is available: use it to load d3/LDAvis\n",
       "   require.config({paths: {d3: \"https://d3js.org/d3.v5\"}});\n",
       "   require([\"d3\"], function(d3){\n",
       "      window.d3 = d3;\n",
       "      LDAvis_load_lib(\"https://cdn.jsdelivr.net/gh/bmabey/pyLDAvis@3.3.1/pyLDAvis/js/ldavis.v3.0.0.js\", function(){\n",
       "        new LDAvis(\"#\" + \"ldavis_el341231407165576053448661184801\", ldavis_el341231407165576053448661184801_data);\n",
       "      });\n",
       "    });\n",
       "}else{\n",
       "    // require.js not available: dynamically load d3 & LDAvis\n",
       "    LDAvis_load_lib(\"https://d3js.org/d3.v5.js\", function(){\n",
       "         LDAvis_load_lib(\"https://cdn.jsdelivr.net/gh/bmabey/pyLDAvis@3.3.1/pyLDAvis/js/ldavis.v3.0.0.js\", function(){\n",
       "                 new LDAvis(\"#\" + \"ldavis_el341231407165576053448661184801\", ldavis_el341231407165576053448661184801_data);\n",
       "            })\n",
       "         });\n",
       "}\n",
       "</script>"
      ],
      "text/plain": [
       "<IPython.core.display.HTML object>"
      ]
     },
     "execution_count": 31,
     "metadata": {},
     "output_type": "execute_result"
    }
   ],
   "source": [
    "from pyLDAvis import gensim_models\n",
    "import pyLDAvis\n",
    "\n",
    "lda_display = gensim_models.prepare(lda_model_tfidf, BoW_corpus, dictionary, sort_topics=False)\n",
    "pyLDAvis.display(lda_display)"
   ]
  },
  {
   "cell_type": "code",
   "execution_count": 34,
   "metadata": {},
   "outputs": [],
   "source": [
    "top_list = []\n",
    "def get_topic_details(ldamodel, corpus):\n",
    "    topic_details_df = pd.DataFrame()\n",
    "    for i, row in enumerate(ldamodel[corpus]):\n",
    "        row = sorted(row, key=lambda x: (x[1]), reverse=True)\n",
    "        for j, (topic_num, prop_topic) in enumerate(row):\n",
    "            #print(j, topic_num, prop_topic)\n",
    "            if j == 0:  # => dominant topic\n",
    "                wp = ldamodel.show_topic(topic_num)\n",
    "                topic_details_df = topic_details_df.append(pd.Series([topic_num, prop_topic]), ignore_index=True)\n",
    "                top_list.append(topic_num)\n",
    "    topic_details_df.columns = ['Dominant_Topic', '% Score']\n",
    "    return topic_details_df, top_list"
   ]
  },
  {
   "cell_type": "code",
   "execution_count": 37,
   "metadata": {},
   "outputs": [
    {
     "name": "stdout",
     "output_type": "stream",
     "text": [
      "   Dominant_Topic   % Score  \\\n",
      "0             1.0  0.998950   \n",
      "1             4.0  0.723332   \n",
      "2             1.0  0.758645   \n",
      "3             1.0  0.893236   \n",
      "4             4.0  0.829331   \n",
      "\n",
      "                                       Original text  flag  \n",
      "0  [first, joint, open, meeting, vote, rulemaking...     1  \n",
      "1  [today, charged, swedish, national, living, co...     1  \n",
      "2  [today, announced, filed, emergency, enforceme...     1  \n",
      "3  [today, released, updated, roster, executive, ...     1  \n",
      "4  [today, announced, charge, virginiabased, chie...     1  \n"
     ]
    }
   ],
   "source": [
    "contents = pd.DataFrame({'Original text': clean_texts})\n",
    "t_df, toplist = get_topic_details(lda_model_tfidf, BoW_corpus)\n",
    "topic_details = pd.concat([t_df, contents], axis=1)\n",
    "\n",
    "# Create flag for text highest associated with topic 1\n",
    "topic_details['flag'] = np.where((topic_details['Dominant_Topic'] != 2.0), 1, 0)\n",
    "print(topic_details.head())"
   ]
  },
  {
   "cell_type": "code",
   "execution_count": 40,
   "metadata": {},
   "outputs": [
    {
     "name": "stdout",
     "output_type": "stream",
     "text": [
      "F1 Score: 0.2542144302090357\n",
      "Classifcation report:\n",
      "               precision    recall  f1-score   support\n",
      "\n",
      "           0       0.89      0.03      0.05      2264\n",
      "           1       0.15      0.98      0.25       384\n",
      "\n",
      "    accuracy                           0.16      2648\n",
      "   macro avg       0.52      0.50      0.15      2648\n",
      "weighted avg       0.79      0.16      0.08      2648\n",
      "\n"
     ]
    }
   ],
   "source": [
    "from sklearn.metrics import classification_report, confusion_matrix, r2_score, f1_score\n",
    "\n",
    "y_true = df['Fraud']\n",
    "y_predict = topic_details['flag']\n",
    "\n",
    "print(f\"F1 Score: {f1_score(y_true, y_predict)}\")\n",
    "\n",
    "print('Classifcation report:\\n', classification_report(y_true, y_predict))\n",
    "\n",
    "class_names = np.array(['Non-Fraud', 'Fraud'])"
   ]
  },
  {
   "cell_type": "code",
   "execution_count": null,
   "metadata": {},
   "outputs": [],
   "source": []
  }
 ],
 "metadata": {
  "kernelspec": {
   "display_name": "Python 3",
   "language": "python",
   "name": "python3"
  },
  "language_info": {
   "codemirror_mode": {
    "name": "ipython",
    "version": 3
   },
   "file_extension": ".py",
   "mimetype": "text/x-python",
   "name": "python",
   "nbconvert_exporter": "python",
   "pygments_lexer": "ipython3",
   "version": "3.7.6"
  }
 },
 "nbformat": 4,
 "nbformat_minor": 5
}
